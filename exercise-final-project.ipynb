{
 "cells": [
  {
   "cell_type": "markdown",
   "id": "c9612d9b",
   "metadata": {
    "papermill": {
     "duration": 0.006111,
     "end_time": "2022-12-23T03:25:44.189318",
     "exception": false,
     "start_time": "2022-12-23T03:25:44.183207",
     "status": "completed"
    },
    "tags": []
   },
   "source": [
    "**This notebook is an exercise in the [Data Visualization](https://www.kaggle.com/learn/data-visualization) course.  You can reference the tutorial at [this link](https://www.kaggle.com/alexisbcook/final-project).**\n",
    "\n",
    "---\n"
   ]
  },
  {
   "cell_type": "markdown",
   "id": "2dcc219d",
   "metadata": {
    "papermill": {
     "duration": 0.004563,
     "end_time": "2022-12-23T03:25:44.198977",
     "exception": false,
     "start_time": "2022-12-23T03:25:44.194414",
     "status": "completed"
    },
    "tags": []
   },
   "source": [
    "Now it's time for you to demonstrate your new skills with a project of your own!\n",
    "\n",
    "In this exercise, you will work with a dataset of your choosing.  Once you've selected a dataset, you'll design and create your own plot to tell interesting stories behind the data!\n",
    "\n",
    "## Setup\n",
    "\n",
    "Run the next cell to import and configure the Python libraries that you need to complete the exercise."
   ]
  },
  {
   "cell_type": "code",
   "execution_count": 1,
   "id": "666af98d",
   "metadata": {
    "execution": {
     "iopub.execute_input": "2022-12-23T03:25:44.211805Z",
     "iopub.status.busy": "2022-12-23T03:25:44.210719Z",
     "iopub.status.idle": "2022-12-23T03:25:45.366615Z",
     "shell.execute_reply": "2022-12-23T03:25:45.363637Z"
    },
    "papermill": {
     "duration": 1.165426,
     "end_time": "2022-12-23T03:25:45.369307",
     "exception": false,
     "start_time": "2022-12-23T03:25:44.203881",
     "status": "completed"
    },
    "tags": []
   },
   "outputs": [
    {
     "name": "stdout",
     "output_type": "stream",
     "text": [
      "Setup Complete\n"
     ]
    }
   ],
   "source": [
    "import pandas as pd\n",
    "pd.plotting.register_matplotlib_converters()\n",
    "import matplotlib.pyplot as plt\n",
    "%matplotlib inline\n",
    "import seaborn as sns\n",
    "print(\"Setup Complete\")"
   ]
  },
  {
   "cell_type": "markdown",
   "id": "ec825518",
   "metadata": {
    "papermill": {
     "duration": 0.004901,
     "end_time": "2022-12-23T03:25:45.379347",
     "exception": false,
     "start_time": "2022-12-23T03:25:45.374446",
     "status": "completed"
    },
    "tags": []
   },
   "source": [
    "The questions below will give you feedback on your work. Run the following cell to set up the feedback system."
   ]
  },
  {
   "cell_type": "code",
   "execution_count": 2,
   "id": "4fc2dd3f",
   "metadata": {
    "execution": {
     "iopub.execute_input": "2022-12-23T03:25:45.392207Z",
     "iopub.status.busy": "2022-12-23T03:25:45.390991Z",
     "iopub.status.idle": "2022-12-23T03:25:45.432848Z",
     "shell.execute_reply": "2022-12-23T03:25:45.431483Z"
    },
    "papermill": {
     "duration": 0.051126,
     "end_time": "2022-12-23T03:25:45.435628",
     "exception": false,
     "start_time": "2022-12-23T03:25:45.384502",
     "status": "completed"
    },
    "tags": []
   },
   "outputs": [
    {
     "name": "stdout",
     "output_type": "stream",
     "text": [
      "Setup Complete\n"
     ]
    }
   ],
   "source": [
    "# Set up code checking\n",
    "from learntools.core import binder\n",
    "binder.bind(globals())\n",
    "from learntools.data_viz_to_coder.ex7 import *\n",
    "print(\"Setup Complete\")"
   ]
  },
  {
   "cell_type": "markdown",
   "id": "19469d4e",
   "metadata": {
    "papermill": {
     "duration": 0.004939,
     "end_time": "2022-12-23T03:25:45.445748",
     "exception": false,
     "start_time": "2022-12-23T03:25:45.440809",
     "status": "completed"
    },
    "tags": []
   },
   "source": [
    "## Step 1: Attach a dataset to the notebook\n",
    "\n",
    "Begin by selecting a CSV dataset from [Kaggle Datasets](https://www.kaggle.com/datasets).  If you're unsure how to do this, please revisit the instructions in the previous tutorial.\n",
    "\n",
    "Once you have selected a dataset, click on the **[+ Add data]** option in the top right corner.  This will generate a pop-up window that you can use to search for your chosen dataset.  \n",
    "\n",
    "![ex6_search_dataset](https://i.imgur.com/cIIWPUS.png)\n",
    "\n",
    "Once you have found the dataset, click on the **[Add]** button to attach it to the notebook.  You can check that it was successful by looking at the **Data** dropdown menu to the right of the notebook -- look for an **input** folder containing a subfolder that matches the name of the dataset.\n",
    "\n",
    "<center>\n",
    "<img src=\"https://i.imgur.com/nMYc1Nu.png\" width=30%><br/>\n",
    "</center>\n",
    "\n",
    "You can click on the carat to the left of the name of the dataset to double-check that it contains a CSV file.  For instance, the image below shows that the example dataset contains two CSV files: (1) **dc-wikia-data.csv**, and (2) **marvel-wikia-data.csv**.\n",
    "\n",
    "<center>\n",
    "<img src=\"https://i.imgur.com/B4sJkVA.png\" width=30%><br/>\n",
    "</center>\n",
    "\n",
    "Once you've uploaded a dataset with a CSV file, run the code cell below **without changes** to receive credit for your work!"
   ]
  },
  {
   "cell_type": "code",
   "execution_count": null,
   "id": "4bec88f7",
   "metadata": {
    "papermill": {
     "duration": 0.004777,
     "end_time": "2022-12-23T03:25:45.455589",
     "exception": false,
     "start_time": "2022-12-23T03:25:45.450812",
     "status": "completed"
    },
    "tags": []
   },
   "outputs": [],
   "source": []
  },
  {
   "cell_type": "code",
   "execution_count": 3,
   "id": "ac51f9d9",
   "metadata": {
    "execution": {
     "iopub.execute_input": "2022-12-23T03:25:45.468517Z",
     "iopub.status.busy": "2022-12-23T03:25:45.467349Z",
     "iopub.status.idle": "2022-12-23T03:25:45.485061Z",
     "shell.execute_reply": "2022-12-23T03:25:45.483670Z"
    },
    "papermill": {
     "duration": 0.026759,
     "end_time": "2022-12-23T03:25:45.487658",
     "exception": false,
     "start_time": "2022-12-23T03:25:45.460899",
     "status": "completed"
    },
    "tags": []
   },
   "outputs": [
    {
     "data": {
      "application/javascript": [
       "parent.postMessage({\"jupyterEvent\": \"custom.exercise_interaction\", \"data\": {\"outcomeType\": 1, \"valueTowardsCompletion\": 0.25, \"interactionType\": 1, \"questionType\": 2, \"questionId\": \"1_AttachData\", \"learnToolsVersion\": \"0.3.4\", \"failureMessage\": \"\", \"exceptionClass\": \"\", \"trace\": \"\"}}, \"*\")"
      ],
      "text/plain": [
       "<IPython.core.display.Javascript object>"
      ]
     },
     "metadata": {},
     "output_type": "display_data"
    },
    {
     "data": {
      "text/markdown": [
       "<span style=\"color:#33cc33\">Correct:</span> \n",
       "\n"
      ],
      "text/plain": [
       "Correct: \n"
      ]
     },
     "metadata": {},
     "output_type": "display_data"
    }
   ],
   "source": [
    "# Check for a dataset with a CSV file\n",
    "step_1.check()"
   ]
  },
  {
   "cell_type": "code",
   "execution_count": 4,
   "id": "d8dee454",
   "metadata": {
    "execution": {
     "iopub.execute_input": "2022-12-23T03:25:45.501418Z",
     "iopub.status.busy": "2022-12-23T03:25:45.500209Z",
     "iopub.status.idle": "2022-12-23T03:25:45.513560Z",
     "shell.execute_reply": "2022-12-23T03:25:45.512408Z"
    },
    "papermill": {
     "duration": 0.023003,
     "end_time": "2022-12-23T03:25:45.516077",
     "exception": false,
     "start_time": "2022-12-23T03:25:45.493074",
     "status": "completed"
    },
    "tags": []
   },
   "outputs": [
    {
     "data": {
      "application/javascript": [
       "parent.postMessage({\"jupyterEvent\": \"custom.exercise_interaction\", \"data\": {\"outcomeType\": 1, \"valueTowardsCompletion\": 0.25, \"interactionType\": 1, \"questionType\": 2, \"questionId\": \"2_Filepath\", \"learnToolsVersion\": \"0.3.4\", \"failureMessage\": \"\", \"exceptionClass\": \"\", \"trace\": \"\"}}, \"*\")"
      ],
      "text/plain": [
       "<IPython.core.display.Javascript object>"
      ]
     },
     "metadata": {},
     "output_type": "display_data"
    },
    {
     "data": {
      "text/markdown": [
       "<span style=\"color:#33cc33\">Correct:</span> \n",
       "\n"
      ],
      "text/plain": [
       "Correct: \n"
      ]
     },
     "metadata": {},
     "output_type": "display_data"
    }
   ],
   "source": [
    "# Fill in the line below: Specify the path of the CSV file to read\n",
    "my_filepath = (\"/kaggle/input/fivethirtyeight-comic-characters-dataset/marvel-wikia-data.csv\")\n",
    "\n",
    "# Check for a valid filepath to a CSV file in a dataset\n",
    "step_2.check()"
   ]
  },
  {
   "cell_type": "markdown",
   "id": "7a0df8f6",
   "metadata": {
    "papermill": {
     "duration": 0.00526,
     "end_time": "2022-12-23T03:25:45.528622",
     "exception": false,
     "start_time": "2022-12-23T03:25:45.523362",
     "status": "completed"
    },
    "tags": []
   },
   "source": [
    "## Step 3: Load the data\n",
    "\n",
    "Use the next code cell to load your data file into `my_data`.  Use the filepath that you specified in the previous step."
   ]
  },
  {
   "cell_type": "code",
   "execution_count": 5,
   "id": "3c651244",
   "metadata": {
    "execution": {
     "iopub.execute_input": "2022-12-23T03:25:45.541840Z",
     "iopub.status.busy": "2022-12-23T03:25:45.540961Z",
     "iopub.status.idle": "2022-12-23T03:25:45.650500Z",
     "shell.execute_reply": "2022-12-23T03:25:45.649166Z"
    },
    "papermill": {
     "duration": 0.120487,
     "end_time": "2022-12-23T03:25:45.654588",
     "exception": false,
     "start_time": "2022-12-23T03:25:45.534101",
     "status": "completed"
    },
    "tags": []
   },
   "outputs": [
    {
     "data": {
      "application/javascript": [
       "parent.postMessage({\"jupyterEvent\": \"custom.exercise_interaction\", \"data\": {\"outcomeType\": 1, \"valueTowardsCompletion\": 0.25, \"interactionType\": 1, \"questionType\": 2, \"questionId\": \"3_LoadData\", \"learnToolsVersion\": \"0.3.4\", \"failureMessage\": \"\", \"exceptionClass\": \"\", \"trace\": \"\"}}, \"*\")"
      ],
      "text/plain": [
       "<IPython.core.display.Javascript object>"
      ]
     },
     "metadata": {},
     "output_type": "display_data"
    },
    {
     "data": {
      "text/markdown": [
       "<span style=\"color:#33cc33\">Correct:</span> \n",
       "\n"
      ],
      "text/plain": [
       "Correct: \n"
      ]
     },
     "metadata": {},
     "output_type": "display_data"
    }
   ],
   "source": [
    "# Fill in the line below: Read the file into a variable my_data\n",
    "my_data = pd.read_csv(\"/kaggle/input/fivethirtyeight-comic-characters-dataset/marvel-wikia-data.csv\")\n",
    "\n",
    "# Check that a dataset has been uploaded into my_data\n",
    "step_3.check()"
   ]
  },
  {
   "cell_type": "markdown",
   "id": "50320b29",
   "metadata": {
    "papermill": {
     "duration": 0.005577,
     "end_time": "2022-12-23T03:25:45.666061",
     "exception": false,
     "start_time": "2022-12-23T03:25:45.660484",
     "status": "completed"
    },
    "tags": []
   },
   "source": [
    "**_After the code cell above is marked correct_**, run the code cell below without changes to view the first five rows of the data."
   ]
  },
  {
   "cell_type": "code",
   "execution_count": 6,
   "id": "165eb95e",
   "metadata": {
    "execution": {
     "iopub.execute_input": "2022-12-23T03:25:45.679985Z",
     "iopub.status.busy": "2022-12-23T03:25:45.679358Z",
     "iopub.status.idle": "2022-12-23T03:25:45.706613Z",
     "shell.execute_reply": "2022-12-23T03:25:45.705416Z"
    },
    "papermill": {
     "duration": 0.037384,
     "end_time": "2022-12-23T03:25:45.709239",
     "exception": false,
     "start_time": "2022-12-23T03:25:45.671855",
     "status": "completed"
    },
    "tags": []
   },
   "outputs": [
    {
     "data": {
      "text/html": [
       "<div>\n",
       "<style scoped>\n",
       "    .dataframe tbody tr th:only-of-type {\n",
       "        vertical-align: middle;\n",
       "    }\n",
       "\n",
       "    .dataframe tbody tr th {\n",
       "        vertical-align: top;\n",
       "    }\n",
       "\n",
       "    .dataframe thead th {\n",
       "        text-align: right;\n",
       "    }\n",
       "</style>\n",
       "<table border=\"1\" class=\"dataframe\">\n",
       "  <thead>\n",
       "    <tr style=\"text-align: right;\">\n",
       "      <th></th>\n",
       "      <th>page_id</th>\n",
       "      <th>name</th>\n",
       "      <th>urlslug</th>\n",
       "      <th>ID</th>\n",
       "      <th>ALIGN</th>\n",
       "      <th>EYE</th>\n",
       "      <th>HAIR</th>\n",
       "      <th>SEX</th>\n",
       "      <th>GSM</th>\n",
       "      <th>ALIVE</th>\n",
       "      <th>APPEARANCES</th>\n",
       "      <th>FIRST APPEARANCE</th>\n",
       "      <th>Year</th>\n",
       "    </tr>\n",
       "  </thead>\n",
       "  <tbody>\n",
       "    <tr>\n",
       "      <th>0</th>\n",
       "      <td>1678</td>\n",
       "      <td>Spider-Man (Peter Parker)</td>\n",
       "      <td>\\/Spider-Man_(Peter_Parker)</td>\n",
       "      <td>Secret Identity</td>\n",
       "      <td>Good Characters</td>\n",
       "      <td>Hazel Eyes</td>\n",
       "      <td>Brown Hair</td>\n",
       "      <td>Male Characters</td>\n",
       "      <td>NaN</td>\n",
       "      <td>Living Characters</td>\n",
       "      <td>4043.0</td>\n",
       "      <td>Aug-62</td>\n",
       "      <td>1962.0</td>\n",
       "    </tr>\n",
       "    <tr>\n",
       "      <th>1</th>\n",
       "      <td>7139</td>\n",
       "      <td>Captain America (Steven Rogers)</td>\n",
       "      <td>\\/Captain_America_(Steven_Rogers)</td>\n",
       "      <td>Public Identity</td>\n",
       "      <td>Good Characters</td>\n",
       "      <td>Blue Eyes</td>\n",
       "      <td>White Hair</td>\n",
       "      <td>Male Characters</td>\n",
       "      <td>NaN</td>\n",
       "      <td>Living Characters</td>\n",
       "      <td>3360.0</td>\n",
       "      <td>Mar-41</td>\n",
       "      <td>1941.0</td>\n",
       "    </tr>\n",
       "    <tr>\n",
       "      <th>2</th>\n",
       "      <td>64786</td>\n",
       "      <td>Wolverine (James \\\"Logan\\\" Howlett)</td>\n",
       "      <td>\\/Wolverine_(James_%22Logan%22_Howlett)</td>\n",
       "      <td>Public Identity</td>\n",
       "      <td>Neutral Characters</td>\n",
       "      <td>Blue Eyes</td>\n",
       "      <td>Black Hair</td>\n",
       "      <td>Male Characters</td>\n",
       "      <td>NaN</td>\n",
       "      <td>Living Characters</td>\n",
       "      <td>3061.0</td>\n",
       "      <td>Oct-74</td>\n",
       "      <td>1974.0</td>\n",
       "    </tr>\n",
       "    <tr>\n",
       "      <th>3</th>\n",
       "      <td>1868</td>\n",
       "      <td>Iron Man (Anthony \\\"Tony\\\" Stark)</td>\n",
       "      <td>\\/Iron_Man_(Anthony_%22Tony%22_Stark)</td>\n",
       "      <td>Public Identity</td>\n",
       "      <td>Good Characters</td>\n",
       "      <td>Blue Eyes</td>\n",
       "      <td>Black Hair</td>\n",
       "      <td>Male Characters</td>\n",
       "      <td>NaN</td>\n",
       "      <td>Living Characters</td>\n",
       "      <td>2961.0</td>\n",
       "      <td>Mar-63</td>\n",
       "      <td>1963.0</td>\n",
       "    </tr>\n",
       "    <tr>\n",
       "      <th>4</th>\n",
       "      <td>2460</td>\n",
       "      <td>Thor (Thor Odinson)</td>\n",
       "      <td>\\/Thor_(Thor_Odinson)</td>\n",
       "      <td>No Dual Identity</td>\n",
       "      <td>Good Characters</td>\n",
       "      <td>Blue Eyes</td>\n",
       "      <td>Blond Hair</td>\n",
       "      <td>Male Characters</td>\n",
       "      <td>NaN</td>\n",
       "      <td>Living Characters</td>\n",
       "      <td>2258.0</td>\n",
       "      <td>Nov-50</td>\n",
       "      <td>1950.0</td>\n",
       "    </tr>\n",
       "  </tbody>\n",
       "</table>\n",
       "</div>"
      ],
      "text/plain": [
       "   page_id                                 name  \\\n",
       "0     1678            Spider-Man (Peter Parker)   \n",
       "1     7139      Captain America (Steven Rogers)   \n",
       "2    64786  Wolverine (James \\\"Logan\\\" Howlett)   \n",
       "3     1868    Iron Man (Anthony \\\"Tony\\\" Stark)   \n",
       "4     2460                  Thor (Thor Odinson)   \n",
       "\n",
       "                                   urlslug                ID  \\\n",
       "0              \\/Spider-Man_(Peter_Parker)   Secret Identity   \n",
       "1        \\/Captain_America_(Steven_Rogers)   Public Identity   \n",
       "2  \\/Wolverine_(James_%22Logan%22_Howlett)   Public Identity   \n",
       "3    \\/Iron_Man_(Anthony_%22Tony%22_Stark)   Public Identity   \n",
       "4                    \\/Thor_(Thor_Odinson)  No Dual Identity   \n",
       "\n",
       "                ALIGN         EYE        HAIR              SEX  GSM  \\\n",
       "0     Good Characters  Hazel Eyes  Brown Hair  Male Characters  NaN   \n",
       "1     Good Characters   Blue Eyes  White Hair  Male Characters  NaN   \n",
       "2  Neutral Characters   Blue Eyes  Black Hair  Male Characters  NaN   \n",
       "3     Good Characters   Blue Eyes  Black Hair  Male Characters  NaN   \n",
       "4     Good Characters   Blue Eyes  Blond Hair  Male Characters  NaN   \n",
       "\n",
       "               ALIVE  APPEARANCES FIRST APPEARANCE    Year  \n",
       "0  Living Characters       4043.0           Aug-62  1962.0  \n",
       "1  Living Characters       3360.0           Mar-41  1941.0  \n",
       "2  Living Characters       3061.0           Oct-74  1974.0  \n",
       "3  Living Characters       2961.0           Mar-63  1963.0  \n",
       "4  Living Characters       2258.0           Nov-50  1950.0  "
      ]
     },
     "execution_count": 6,
     "metadata": {},
     "output_type": "execute_result"
    }
   ],
   "source": [
    "# Print the first five rows of the data\n",
    "my_data.head()"
   ]
  },
  {
   "cell_type": "code",
   "execution_count": 7,
   "id": "2fdc90e9",
   "metadata": {
    "execution": {
     "iopub.execute_input": "2022-12-23T03:25:45.723686Z",
     "iopub.status.busy": "2022-12-23T03:25:45.722877Z",
     "iopub.status.idle": "2022-12-23T03:25:45.728139Z",
     "shell.execute_reply": "2022-12-23T03:25:45.727291Z"
    },
    "papermill": {
     "duration": 0.015059,
     "end_time": "2022-12-23T03:25:45.730354",
     "exception": false,
     "start_time": "2022-12-23T03:25:45.715295",
     "status": "completed"
    },
    "tags": []
   },
   "outputs": [],
   "source": [
    "tail = my_data.tail()"
   ]
  },
  {
   "cell_type": "markdown",
   "id": "efc2fc2b",
   "metadata": {
    "papermill": {
     "duration": 0.005671,
     "end_time": "2022-12-23T03:25:45.742010",
     "exception": false,
     "start_time": "2022-12-23T03:25:45.736339",
     "status": "completed"
    },
    "tags": []
   },
   "source": [
    "## Step 4: Visualize the data\n",
    "\n",
    "Use the next code cell to create a figure that tells a story behind your dataset.  You can use any chart type (_line chart, bar chart, heatmap, etc_) of your choosing!"
   ]
  },
  {
   "cell_type": "code",
   "execution_count": 8,
   "id": "c17f5ea8",
   "metadata": {
    "execution": {
     "iopub.execute_input": "2022-12-23T03:25:45.760439Z",
     "iopub.status.busy": "2022-12-23T03:25:45.759356Z",
     "iopub.status.idle": "2022-12-23T03:25:54.899865Z",
     "shell.execute_reply": "2022-12-23T03:25:54.898844Z"
    },
    "papermill": {
     "duration": 9.15427,
     "end_time": "2022-12-23T03:25:54.902303",
     "exception": false,
     "start_time": "2022-12-23T03:25:45.748033",
     "status": "completed"
    },
    "tags": []
   },
   "outputs": [
    {
     "data": {
      "image/png": "[encoded data removed]",
      "text/plain": [
       "<Figure size 432x576 with 1 Axes>"
      ]
     },
     "metadata": {
      "needs_background": "light"
     },
     "output_type": "display_data"
    },
    {
     "data": {
      "application/javascript": [
       "parent.postMessage({\"jupyterEvent\": \"custom.exercise_interaction\", \"data\": {\"outcomeType\": 2, \"failureMessage\": \"Please write code to create a figure.\", \"interactionType\": 1, \"questionType\": 2, \"questionId\": \"4_CreatePlot\", \"learnToolsVersion\": \"0.3.4\", \"valueTowardsCompletion\": 0.0, \"exceptionClass\": \"\", \"trace\": \"\"}}, \"*\")"
      ],
      "text/plain": [
       "<IPython.core.display.Javascript object>"
      ]
     },
     "metadata": {},
     "output_type": "display_data"
    },
    {
     "data": {
      "text/markdown": [
       "<span style=\"color:#cc3333\">Incorrect:</span> Please write code to create a figure."
      ],
      "text/plain": [
       "Incorrect: Please write code to create a figure."
      ]
     },
     "metadata": {},
     "output_type": "display_data"
    },
    {
     "data": {
      "text/plain": [
       "<Figure size 432x288 with 0 Axes>"
      ]
     },
     "metadata": {},
     "output_type": "display_data"
    }
   ],
   "source": [
    "# Create a plot\n",
    "plt.figure(figsize=(6,8))\n",
    "sns.kdeplot(data=my_data, x='page_id', y='Year', shade=True)\n",
    "plt.show()\n",
    "# Check that a figure appears below\n",
    "step_4.check()"
   ]
  },
  {
   "cell_type": "code",
   "execution_count": 9,
   "id": "8807397a",
   "metadata": {
    "execution": {
     "iopub.execute_input": "2022-12-23T03:25:54.918234Z",
     "iopub.status.busy": "2022-12-23T03:25:54.917120Z",
     "iopub.status.idle": "2022-12-23T03:25:54.922313Z",
     "shell.execute_reply": "2022-12-23T03:25:54.921091Z"
    },
    "papermill": {
     "duration": 0.015641,
     "end_time": "2022-12-23T03:25:54.924713",
     "exception": false,
     "start_time": "2022-12-23T03:25:54.909072",
     "status": "completed"
    },
    "tags": []
   },
   "outputs": [],
   "source": [
    "# plt.figure(figsize=(8,8))\n",
    "# plt.hist(my_data['Year'])\n",
    "# plt.show()"
   ]
  },
  {
   "cell_type": "markdown",
   "id": "a6e07be2",
   "metadata": {
    "papermill": {
     "duration": 0.006444,
     "end_time": "2022-12-23T03:25:54.937995",
     "exception": false,
     "start_time": "2022-12-23T03:25:54.931551",
     "status": "completed"
    },
    "tags": []
   },
   "source": []
  },
  {
   "cell_type": "code",
   "execution_count": null,
   "id": "116f70ab",
   "metadata": {
    "execution": {
     "iopub.execute_input": "2022-12-23T03:05:42.221877Z",
     "iopub.status.busy": "2022-12-23T03:05:42.221051Z",
     "iopub.status.idle": "2022-12-23T03:05:42.512802Z",
     "shell.execute_reply": "2022-12-23T03:05:42.511316Z",
     "shell.execute_reply.started": "2022-12-23T03:05:42.221826Z"
    },
    "papermill": {
     "duration": 0.006322,
     "end_time": "2022-12-23T03:25:54.951027",
     "exception": false,
     "start_time": "2022-12-23T03:25:54.944705",
     "status": "completed"
    },
    "tags": []
   },
   "outputs": [],
   "source": []
  },
  {
   "cell_type": "markdown",
   "id": "df09748c",
   "metadata": {
    "papermill": {
     "duration": 0.006514,
     "end_time": "2022-12-23T03:25:54.964224",
     "exception": false,
     "start_time": "2022-12-23T03:25:54.957710",
     "status": "completed"
    },
    "tags": []
   },
   "source": [
    "## Keep going\n",
    "\n",
    "Learn how to use your skills after completing the micro-course to create data visualizations in a **[final tutorial](https://www.kaggle.com/alexisbcook/creating-your-own-notebooks)**."
   ]
  },
  {
   "cell_type": "markdown",
   "id": "7f4bc5e9",
   "metadata": {
    "papermill": {
     "duration": 0.006377,
     "end_time": "2022-12-23T03:25:54.977279",
     "exception": false,
     "start_time": "2022-12-23T03:25:54.970902",
     "status": "completed"
    },
    "tags": []
   },
   "source": [
    "---\n",
    "\n",
    "\n",
    "\n",
    "\n",
    "*Have questions or comments? Visit the [course discussion forum](https://www.kaggle.com/learn/data-visualization/discussion) to chat with other learners.*"
   ]
  }
 ],
 "metadata": {
  "kernelspec": {
   "display_name": "Python 3",
   "language": "python",
   "name": "python3"
  },
  "language_info": {
   "codemirror_mode": {
    "name": "ipython",
    "version": 3
   },
   "file_extension": ".py",
   "mimetype": "text/x-python",
   "name": "python",
   "nbconvert_exporter": "python",
   "pygments_lexer": "ipython3",
   "version": "3.7.12"
  },
  "papermill": {
   "default_parameters": {},
   "duration": 22.360721,
   "end_time": "2022-12-23T03:25:55.807493",
   "environment_variables": {},
   "exception": null,
   "input_path": "__notebook__.ipynb",
   "output_path": "__notebook__.ipynb",
   "parameters": {},
   "start_time": "2022-12-23T03:25:33.446772",
   "version": "2.3.4"
  }
 },
 "nbformat": 4,
 "nbformat_minor": 5
}
