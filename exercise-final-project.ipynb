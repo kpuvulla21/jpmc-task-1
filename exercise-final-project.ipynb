{
 "cells": [
  {
   "cell_type": "markdown",
   "id": "f972b5fb",
   "metadata": {
    "papermill": {
     "duration": 0.004931,
     "end_time": "2022-12-23T02:44:37.246599",
     "exception": false,
     "start_time": "2022-12-23T02:44:37.241668",
     "status": "completed"
    },
    "tags": []
   },
   "source": [
    "**This notebook is an exercise in the [Data Visualization](https://www.kaggle.com/learn/data-visualization) course.  You can reference the tutorial at [this link](https://www.kaggle.com/alexisbcook/final-project).**\n",
    "\n",
    "---\n"
   ]
  },
  {
   "cell_type": "markdown",
   "id": "be7f94bb",
   "metadata": {
    "papermill": {
     "duration": 0.003531,
     "end_time": "2022-12-23T02:44:37.253968",
     "exception": false,
     "start_time": "2022-12-23T02:44:37.250437",
     "status": "completed"
    },
    "tags": []
   },
   "source": [
    "Now it's time for you to demonstrate your new skills with a project of your own!\n",
    "\n",
    "In this exercise, you will work with a dataset of your choosing.  Once you've selected a dataset, you'll design and create your own plot to tell interesting stories behind the data!\n",
    "\n",
    "## Setup\n",
    "\n",
    "Run the next cell to import and configure the Python libraries that you need to complete the exercise."
   ]
  },
  {
   "cell_type": "code",
   "execution_count": 1,
   "id": "83c1d33d",
   "metadata": {
    "execution": {
     "iopub.execute_input": "2022-12-23T02:44:37.263213Z",
     "iopub.status.busy": "2022-12-23T02:44:37.262734Z",
     "iopub.status.idle": "2022-12-23T02:44:38.361625Z",
     "shell.execute_reply": "2022-12-23T02:44:38.359709Z"
    },
    "papermill": {
     "duration": 1.106953,
     "end_time": "2022-12-23T02:44:38.364508",
     "exception": false,
     "start_time": "2022-12-23T02:44:37.257555",
     "status": "completed"
    },
    "tags": []
   },
   "outputs": [
    {
     "name": "stdout",
     "output_type": "stream",
     "text": [
      "Setup Complete\n"
     ]
    }
   ],
   "source": [
    "import pandas as pd\n",
    "pd.plotting.register_matplotlib_converters()\n",
    "import matplotlib.pyplot as plt\n",
    "%matplotlib inline\n",
    "import seaborn as sns\n",
    "print(\"Setup Complete\")"
   ]
  },
  {
   "cell_type": "markdown",
   "id": "3f9c35f8",
   "metadata": {
    "papermill": {
     "duration": 0.003594,
     "end_time": "2022-12-23T02:44:38.373300",
     "exception": false,
     "start_time": "2022-12-23T02:44:38.369706",
     "status": "completed"
    },
    "tags": []
   },
   "source": [
    "The questions below will give you feedback on your work. Run the following cell to set up the feedback system."
   ]
  },
  {
   "cell_type": "code",
   "execution_count": 2,
   "id": "831eb51a",
   "metadata": {
    "execution": {
     "iopub.execute_input": "2022-12-23T02:44:38.382988Z",
     "iopub.status.busy": "2022-12-23T02:44:38.382535Z",
     "iopub.status.idle": "2022-12-23T02:44:38.434390Z",
     "shell.execute_reply": "2022-12-23T02:44:38.432277Z"
    },
    "papermill": {
     "duration": 0.060252,
     "end_time": "2022-12-23T02:44:38.437382",
     "exception": false,
     "start_time": "2022-12-23T02:44:38.377130",
     "status": "completed"
    },
    "tags": []
   },
   "outputs": [
    {
     "name": "stdout",
     "output_type": "stream",
     "text": [
      "Setup Complete\n"
     ]
    }
   ],
   "source": [
    "# Set up code checking\n",
    "from learntools.core import binder\n",
    "binder.bind(globals())\n",
    "from learntools.data_viz_to_coder.ex7 import *\n",
    "print(\"Setup Complete\")"
   ]
  },
  {
   "cell_type": "markdown",
   "id": "18623684",
   "metadata": {
    "papermill": {
     "duration": 0.003639,
     "end_time": "2022-12-23T02:44:38.445306",
     "exception": false,
     "start_time": "2022-12-23T02:44:38.441667",
     "status": "completed"
    },
    "tags": []
   },
   "source": [
    "## Step 1: Attach a dataset to the notebook\n",
    "\n",
    "Begin by selecting a CSV dataset from [Kaggle Datasets](https://www.kaggle.com/datasets).  If you're unsure how to do this, please revisit the instructions in the previous tutorial.\n",
    "\n",
    "Once you have selected a dataset, click on the **[+ Add data]** option in the top right corner.  This will generate a pop-up window that you can use to search for your chosen dataset.  \n",
    "\n",
    "![ex6_search_dataset](https://i.imgur.com/cIIWPUS.png)\n",
    "\n",
    "Once you have found the dataset, click on the **[Add]** button to attach it to the notebook.  You can check that it was successful by looking at the **Data** dropdown menu to the right of the notebook -- look for an **input** folder containing a subfolder that matches the name of the dataset.\n",
    "\n",
    "<center>\n",
    "<img src=\"https://i.imgur.com/nMYc1Nu.png\" width=30%><br/>\n",
    "</center>\n",
    "\n",
    "You can click on the carat to the left of the name of the dataset to double-check that it contains a CSV file.  For instance, the image below shows that the example dataset contains two CSV files: (1) **dc-wikia-data.csv**, and (2) **marvel-wikia-data.csv**.\n",
    "\n",
    "<center>\n",
    "<img src=\"https://i.imgur.com/B4sJkVA.png\" width=30%><br/>\n",
    "</center>\n",
    "\n",
    "Once you've uploaded a dataset with a CSV file, run the code cell below **without changes** to receive credit for your work!"
   ]
  },
  {
   "cell_type": "code",
   "execution_count": null,
   "id": "025011e3",
   "metadata": {
    "papermill": {
     "duration": 0.003698,
     "end_time": "2022-12-23T02:44:38.453028",
     "exception": false,
     "start_time": "2022-12-23T02:44:38.449330",
     "status": "completed"
    },
    "tags": []
   },
   "outputs": [],
   "source": []
  },
  {
   "cell_type": "code",
   "execution_count": 3,
   "id": "63372a05",
   "metadata": {
    "execution": {
     "iopub.execute_input": "2022-12-23T02:44:38.462817Z",
     "iopub.status.busy": "2022-12-23T02:44:38.462269Z",
     "iopub.status.idle": "2022-12-23T02:44:38.477665Z",
     "shell.execute_reply": "2022-12-23T02:44:38.476622Z"
    },
    "papermill": {
     "duration": 0.025855,
     "end_time": "2022-12-23T02:44:38.482869",
     "exception": false,
     "start_time": "2022-12-23T02:44:38.457014",
     "status": "completed"
    },
    "tags": []
   },
   "outputs": [
    {
     "data": {
      "application/javascript": [
       "parent.postMessage({\"jupyterEvent\": \"custom.exercise_interaction\", \"data\": {\"outcomeType\": 1, \"valueTowardsCompletion\": 0.25, \"interactionType\": 1, \"questionType\": 2, \"questionId\": \"1_AttachData\", \"learnToolsVersion\": \"0.3.4\", \"failureMessage\": \"\", \"exceptionClass\": \"\", \"trace\": \"\"}}, \"*\")"
      ],
      "text/plain": [
       "<IPython.core.display.Javascript object>"
      ]
     },
     "metadata": {},
     "output_type": "display_data"
    },
    {
     "data": {
      "text/markdown": [
       "<span style=\"color:#33cc33\">Correct:</span> \n",
       "\n"
      ],
      "text/plain": [
       "Correct: \n"
      ]
     },
     "metadata": {},
     "output_type": "display_data"
    }
   ],
   "source": [
    "# Check for a dataset with a CSV file\n",
    "step_1.check()"
   ]
  },
  {
   "cell_type": "code",
   "execution_count": 4,
   "id": "5bb2b2d1",
   "metadata": {
    "execution": {
     "iopub.execute_input": "2022-12-23T02:44:38.493448Z",
     "iopub.status.busy": "2022-12-23T02:44:38.493029Z",
     "iopub.status.idle": "2022-12-23T02:44:38.505078Z",
     "shell.execute_reply": "2022-12-23T02:44:38.504392Z"
    },
    "papermill": {
     "duration": 0.019699,
     "end_time": "2022-12-23T02:44:38.507232",
     "exception": false,
     "start_time": "2022-12-23T02:44:38.487533",
     "status": "completed"
    },
    "tags": []
   },
   "outputs": [
    {
     "data": {
      "application/javascript": [
       "parent.postMessage({\"jupyterEvent\": \"custom.exercise_interaction\", \"data\": {\"outcomeType\": 1, \"valueTowardsCompletion\": 0.25, \"interactionType\": 1, \"questionType\": 2, \"questionId\": \"2_Filepath\", \"learnToolsVersion\": \"0.3.4\", \"failureMessage\": \"\", \"exceptionClass\": \"\", \"trace\": \"\"}}, \"*\")"
      ],
      "text/plain": [
       "<IPython.core.display.Javascript object>"
      ]
     },
     "metadata": {},
     "output_type": "display_data"
    },
    {
     "data": {
      "text/markdown": [
       "<span style=\"color:#33cc33\">Correct:</span> \n",
       "\n"
      ],
      "text/plain": [
       "Correct: \n"
      ]
     },
     "metadata": {},
     "output_type": "display_data"
    }
   ],
   "source": [
    "# Fill in the line below: Specify the path of the CSV file to read\n",
    "my_filepath = (\"/kaggle/input/wheat-production-statistics/International wheat production statistics.csv\")\n",
    "\n",
    "# Check for a valid filepath to a CSV file in a dataset\n",
    "step_2.check()"
   ]
  },
  {
   "cell_type": "markdown",
   "id": "baae9987",
   "metadata": {
    "papermill": {
     "duration": 0.004045,
     "end_time": "2022-12-23T02:44:38.515769",
     "exception": false,
     "start_time": "2022-12-23T02:44:38.511724",
     "status": "completed"
    },
    "tags": []
   },
   "source": [
    "## Step 3: Load the data\n",
    "\n",
    "Use the next code cell to load your data file into `my_data`.  Use the filepath that you specified in the previous step."
   ]
  },
  {
   "cell_type": "code",
   "execution_count": 5,
   "id": "4631090b",
   "metadata": {
    "execution": {
     "iopub.execute_input": "2022-12-23T02:44:38.526617Z",
     "iopub.status.busy": "2022-12-23T02:44:38.525979Z",
     "iopub.status.idle": "2022-12-23T02:44:38.548483Z",
     "shell.execute_reply": "2022-12-23T02:44:38.546887Z"
    },
    "papermill": {
     "duration": 0.031117,
     "end_time": "2022-12-23T02:44:38.551391",
     "exception": false,
     "start_time": "2022-12-23T02:44:38.520274",
     "status": "completed"
    },
    "tags": []
   },
   "outputs": [
    {
     "data": {
      "application/javascript": [
       "parent.postMessage({\"jupyterEvent\": \"custom.exercise_interaction\", \"data\": {\"outcomeType\": 1, \"valueTowardsCompletion\": 0.25, \"interactionType\": 1, \"questionType\": 2, \"questionId\": \"3_LoadData\", \"learnToolsVersion\": \"0.3.4\", \"failureMessage\": \"\", \"exceptionClass\": \"\", \"trace\": \"\"}}, \"*\")"
      ],
      "text/plain": [
       "<IPython.core.display.Javascript object>"
      ]
     },
     "metadata": {},
     "output_type": "display_data"
    },
    {
     "data": {
      "text/markdown": [
       "<span style=\"color:#33cc33\">Correct:</span> \n",
       "\n"
      ],
      "text/plain": [
       "Correct: \n"
      ]
     },
     "metadata": {},
     "output_type": "display_data"
    }
   ],
   "source": [
    "# Fill in the line below: Read the file into a variable my_data\n",
    "my_data = pd.read_csv(\"/kaggle/input/wheat-production-statistics/International wheat production statistics.csv\")\n",
    "\n",
    "# Check that a dataset has been uploaded into my_data\n",
    "step_3.check()"
   ]
  },
  {
   "cell_type": "markdown",
   "id": "ce8bfa4a",
   "metadata": {
    "papermill": {
     "duration": 0.005022,
     "end_time": "2022-12-23T02:44:38.561011",
     "exception": false,
     "start_time": "2022-12-23T02:44:38.555989",
     "status": "completed"
    },
    "tags": []
   },
   "source": [
    "**_After the code cell above is marked correct_**, run the code cell below without changes to view the first five rows of the data."
   ]
  },
  {
   "cell_type": "code",
   "execution_count": 6,
   "id": "7951a26c",
   "metadata": {
    "execution": {
     "iopub.execute_input": "2022-12-23T02:44:38.572611Z",
     "iopub.status.busy": "2022-12-23T02:44:38.571977Z",
     "iopub.status.idle": "2022-12-23T02:44:38.610555Z",
     "shell.execute_reply": "2022-12-23T02:44:38.609612Z"
    },
    "papermill": {
     "duration": 0.047115,
     "end_time": "2022-12-23T02:44:38.612984",
     "exception": false,
     "start_time": "2022-12-23T02:44:38.565869",
     "status": "completed"
    },
    "tags": []
   },
   "outputs": [
    {
     "data": {
      "text/html": [
       "<div>\n",
       "<style scoped>\n",
       "    .dataframe tbody tr th:only-of-type {\n",
       "        vertical-align: middle;\n",
       "    }\n",
       "\n",
       "    .dataframe tbody tr th {\n",
       "        vertical-align: top;\n",
       "    }\n",
       "\n",
       "    .dataframe thead th {\n",
       "        text-align: right;\n",
       "    }\n",
       "</style>\n",
       "<table border=\"1\" class=\"dataframe\">\n",
       "  <thead>\n",
       "    <tr style=\"text-align: right;\">\n",
       "      <th></th>\n",
       "      <th>Unnamed: 0</th>\n",
       "      <th>Country</th>\n",
       "      <th>2020[1]</th>\n",
       "      <th>2019[1]</th>\n",
       "      <th>2018[1]</th>\n",
       "      <th>2017[1]</th>\n",
       "      <th>2016[1]</th>\n",
       "      <th>2015[2]</th>\n",
       "      <th>2014[3]</th>\n",
       "      <th>2013[4]</th>\n",
       "      <th>...</th>\n",
       "      <th>2005 [6]</th>\n",
       "      <th>2004[6]</th>\n",
       "      <th>2003[6]</th>\n",
       "      <th>2002</th>\n",
       "      <th>2001</th>\n",
       "      <th>2000</th>\n",
       "      <th>1999</th>\n",
       "      <th>1998</th>\n",
       "      <th>1997</th>\n",
       "      <th>1996</th>\n",
       "    </tr>\n",
       "  </thead>\n",
       "  <tbody>\n",
       "    <tr>\n",
       "      <th>0</th>\n",
       "      <td>0</td>\n",
       "      <td>China</td>\n",
       "      <td>134.3</td>\n",
       "      <td>133.6</td>\n",
       "      <td>131.4</td>\n",
       "      <td>134.3</td>\n",
       "      <td>131.7</td>\n",
       "      <td>130.2</td>\n",
       "      <td>126.2</td>\n",
       "      <td>121.7</td>\n",
       "      <td>...</td>\n",
       "      <td>96.3</td>\n",
       "      <td>91.6</td>\n",
       "      <td>86.5</td>\n",
       "      <td>90.3</td>\n",
       "      <td>93.9</td>\n",
       "      <td>99.7</td>\n",
       "      <td>113.9</td>\n",
       "      <td>109.7</td>\n",
       "      <td>123.3</td>\n",
       "      <td>110.6</td>\n",
       "    </tr>\n",
       "    <tr>\n",
       "      <th>1</th>\n",
       "      <td>1</td>\n",
       "      <td>India</td>\n",
       "      <td>107.6</td>\n",
       "      <td>103.6</td>\n",
       "      <td>99.7</td>\n",
       "      <td>98.5</td>\n",
       "      <td>93.5</td>\n",
       "      <td>86.5</td>\n",
       "      <td>94.5</td>\n",
       "      <td>93.5</td>\n",
       "      <td>...</td>\n",
       "      <td>72.0</td>\n",
       "      <td>72.1</td>\n",
       "      <td>65.1</td>\n",
       "      <td>72.8</td>\n",
       "      <td>69.7</td>\n",
       "      <td>76.4</td>\n",
       "      <td>70.8</td>\n",
       "      <td>65.9</td>\n",
       "      <td>69.4</td>\n",
       "      <td>62.6</td>\n",
       "    </tr>\n",
       "    <tr>\n",
       "      <th>2</th>\n",
       "      <td>2</td>\n",
       "      <td>Russia</td>\n",
       "      <td>85.9</td>\n",
       "      <td>74.5</td>\n",
       "      <td>72.1</td>\n",
       "      <td>85.9</td>\n",
       "      <td>73.3</td>\n",
       "      <td>61.8</td>\n",
       "      <td>59.7</td>\n",
       "      <td>52.1</td>\n",
       "      <td>...</td>\n",
       "      <td>47.6</td>\n",
       "      <td>45.4</td>\n",
       "      <td>34.1</td>\n",
       "      <td>50.6</td>\n",
       "      <td>47.0</td>\n",
       "      <td>34.5</td>\n",
       "      <td>31.0</td>\n",
       "      <td>27.0</td>\n",
       "      <td>44.3</td>\n",
       "      <td>34.9</td>\n",
       "    </tr>\n",
       "    <tr>\n",
       "      <th>3</th>\n",
       "      <td>3</td>\n",
       "      <td>United States</td>\n",
       "      <td>49.7</td>\n",
       "      <td>52.3</td>\n",
       "      <td>51.3</td>\n",
       "      <td>47.3</td>\n",
       "      <td>62.9</td>\n",
       "      <td>55.8</td>\n",
       "      <td>55.4</td>\n",
       "      <td>60.0</td>\n",
       "      <td>...</td>\n",
       "      <td>57.1</td>\n",
       "      <td>58.7</td>\n",
       "      <td>63.8</td>\n",
       "      <td>44.1</td>\n",
       "      <td>53.3</td>\n",
       "      <td>60.8</td>\n",
       "      <td>62.7</td>\n",
       "      <td>69.4</td>\n",
       "      <td>67.5</td>\n",
       "      <td>62.0</td>\n",
       "    </tr>\n",
       "    <tr>\n",
       "      <th>4</th>\n",
       "      <td>4</td>\n",
       "      <td>Canada</td>\n",
       "      <td>35.2</td>\n",
       "      <td>32.3</td>\n",
       "      <td>31.8</td>\n",
       "      <td>30.0</td>\n",
       "      <td>30.5</td>\n",
       "      <td>27.6</td>\n",
       "      <td>29.3</td>\n",
       "      <td>37.5</td>\n",
       "      <td>...</td>\n",
       "      <td>25.6</td>\n",
       "      <td>25.9</td>\n",
       "      <td>23.6</td>\n",
       "      <td>16.2</td>\n",
       "      <td>20.6</td>\n",
       "      <td>26.8</td>\n",
       "      <td>26.9</td>\n",
       "      <td>24.1</td>\n",
       "      <td>24.3</td>\n",
       "      <td>29.8</td>\n",
       "    </tr>\n",
       "  </tbody>\n",
       "</table>\n",
       "<p>5 rows × 27 columns</p>\n",
       "</div>"
      ],
      "text/plain": [
       "   Unnamed: 0        Country  2020[1] 2019[1] 2018[1] 2017[1] 2016[1] 2015[2]  \\\n",
       "0           0          China    134.3   133.6   131.4   134.3   131.7   130.2   \n",
       "1           1          India    107.6   103.6    99.7    98.5    93.5    86.5   \n",
       "2           2         Russia     85.9    74.5    72.1    85.9    73.3    61.8   \n",
       "3           3  United States     49.7    52.3    51.3    47.3    62.9    55.8   \n",
       "4           4         Canada     35.2    32.3    31.8    30.0    30.5    27.6   \n",
       "\n",
       "  2014[3] 2013[4]  ... 2005 [6] 2004[6]  2003[6]  2002  2001  2000   1999  \\\n",
       "0   126.2   121.7  ...     96.3    91.6     86.5  90.3  93.9  99.7  113.9   \n",
       "1    94.5    93.5  ...     72.0    72.1     65.1  72.8  69.7  76.4   70.8   \n",
       "2    59.7    52.1  ...     47.6    45.4     34.1  50.6  47.0  34.5   31.0   \n",
       "3    55.4    60.0  ...     57.1    58.7     63.8  44.1  53.3  60.8   62.7   \n",
       "4    29.3    37.5  ...     25.6    25.9     23.6  16.2  20.6  26.8   26.9   \n",
       "\n",
       "    1998   1997   1996  \n",
       "0  109.7  123.3  110.6  \n",
       "1   65.9   69.4   62.6  \n",
       "2   27.0   44.3   34.9  \n",
       "3   69.4   67.5   62.0  \n",
       "4   24.1   24.3   29.8  \n",
       "\n",
       "[5 rows x 27 columns]"
      ]
     },
     "execution_count": 6,
     "metadata": {},
     "output_type": "execute_result"
    }
   ],
   "source": [
    "# Print the first five rows of the data\n",
    "my_data.head()"
   ]
  },
  {
   "cell_type": "markdown",
   "id": "8339efc8",
   "metadata": {
    "papermill": {
     "duration": 0.004342,
     "end_time": "2022-12-23T02:44:38.622233",
     "exception": false,
     "start_time": "2022-12-23T02:44:38.617891",
     "status": "completed"
    },
    "tags": []
   },
   "source": [
    "## Step 4: Visualize the data\n",
    "\n",
    "Use the next code cell to create a figure that tells a story behind your dataset.  You can use any chart type (_line chart, bar chart, heatmap, etc_) of your choosing!"
   ]
  },
  {
   "cell_type": "code",
   "execution_count": 7,
   "id": "674bbc8a",
   "metadata": {
    "execution": {
     "iopub.execute_input": "2022-12-23T02:44:38.634423Z",
     "iopub.status.busy": "2022-12-23T02:44:38.634089Z",
     "iopub.status.idle": "2022-12-23T02:44:39.049198Z",
     "shell.execute_reply": "2022-12-23T02:44:39.047112Z"
    },
    "papermill": {
     "duration": 0.424398,
     "end_time": "2022-12-23T02:44:39.052170",
     "exception": false,
     "start_time": "2022-12-23T02:44:38.627772",
     "status": "completed"
    },
    "tags": []
   },
   "outputs": [
    {
     "data": {
      "image/png": "[encoded data removed]",
      "text/plain": [
       "<Figure size 432x576 with 1 Axes>"
      ]
     },
     "metadata": {
      "needs_background": "light"
     },
     "output_type": "display_data"
    },
    {
     "data": {
      "application/javascript": [
       "parent.postMessage({\"jupyterEvent\": \"custom.exercise_interaction\", \"data\": {\"outcomeType\": 2, \"failureMessage\": \"Please write code to create a figure.\", \"interactionType\": 1, \"questionType\": 2, \"questionId\": \"4_CreatePlot\", \"learnToolsVersion\": \"0.3.4\", \"valueTowardsCompletion\": 0.0, \"exceptionClass\": \"\", \"trace\": \"\"}}, \"*\")"
      ],
      "text/plain": [
       "<IPython.core.display.Javascript object>"
      ]
     },
     "metadata": {},
     "output_type": "display_data"
    },
    {
     "data": {
      "text/markdown": [
       "<span style=\"color:#cc3333\">Incorrect:</span> Please write code to create a figure."
      ],
      "text/plain": [
       "Incorrect: Please write code to create a figure."
      ]
     },
     "metadata": {},
     "output_type": "display_data"
    },
    {
     "data": {
      "text/plain": [
       "<Figure size 432x288 with 0 Axes>"
      ]
     },
     "metadata": {},
     "output_type": "display_data"
    }
   ],
   "source": [
    "# Create a plot\n",
    "plt.figure(figsize=(6,8))\n",
    "sns.kdeplot(data=my_data, shade=True)\n",
    "plt.show()\n",
    "# Check that a figure appears below\n",
    "step_4.check()"
   ]
  },
  {
   "cell_type": "markdown",
   "id": "c02d6c6e",
   "metadata": {
    "papermill": {
     "duration": 0.005446,
     "end_time": "2022-12-23T02:44:39.063538",
     "exception": false,
     "start_time": "2022-12-23T02:44:39.058092",
     "status": "completed"
    },
    "tags": []
   },
   "source": []
  },
  {
   "cell_type": "markdown",
   "id": "4ee3e2ba",
   "metadata": {
    "papermill": {
     "duration": 0.005349,
     "end_time": "2022-12-23T02:44:39.074731",
     "exception": false,
     "start_time": "2022-12-23T02:44:39.069382",
     "status": "completed"
    },
    "tags": []
   },
   "source": [
    "## Keep going\n",
    "\n",
    "Learn how to use your skills after completing the micro-course to create data visualizations in a **[final tutorial](https://www.kaggle.com/alexisbcook/creating-your-own-notebooks)**."
   ]
  },
  {
   "cell_type": "markdown",
   "id": "2613ad6d",
   "metadata": {
    "papermill": {
     "duration": 0.005593,
     "end_time": "2022-12-23T02:44:39.086080",
     "exception": false,
     "start_time": "2022-12-23T02:44:39.080487",
     "status": "completed"
    },
    "tags": []
   },
   "source": [
    "---\n",
    "\n",
    "\n",
    "\n",
    "\n",
    "*Have questions or comments? Visit the [course discussion forum](https://www.kaggle.com/learn/data-visualization/discussion) to chat with other learners.*"
   ]
  }
 ],
 "metadata": {
  "kernelspec": {
   "display_name": "Python 3",
   "language": "python",
   "name": "python3"
  },
  "language_info": {
   "codemirror_mode": {
    "name": "ipython",
    "version": 3
   },
   "file_extension": ".py",
   "mimetype": "text/x-python",
   "name": "python",
   "nbconvert_exporter": "python",
   "pygments_lexer": "ipython3",
   "version": "3.7.12"
  },
  "papermill": {
   "default_parameters": {},
   "duration": 10.304186,
   "end_time": "2022-12-23T02:44:39.917836",
   "environment_variables": {},
   "exception": null,
   "input_path": "__notebook__.ipynb",
   "output_path": "__notebook__.ipynb",
   "parameters": {},
   "start_time": "2022-12-23T02:44:29.613650",
   "version": "2.3.4"
  }
 },
 "nbformat": 4,
 "nbformat_minor": 5
}
