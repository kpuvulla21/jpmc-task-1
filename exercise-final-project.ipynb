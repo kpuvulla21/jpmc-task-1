{
 "cells": [
  {
   "cell_type": "markdown",
   "id": "7c87bbc3",
   "metadata": {
    "papermill": {
     "duration": 0.00624,
     "end_time": "2022-12-23T03:42:23.074739",
     "exception": false,
     "start_time": "2022-12-23T03:42:23.068499",
     "status": "completed"
    },
    "tags": []
   },
   "source": [
    "**This notebook is an exercise in the [Data Visualization](https://www.kaggle.com/learn/data-visualization) course.  You can reference the tutorial at [this link](https://www.kaggle.com/alexisbcook/final-project).**\n",
    "\n",
    "---\n"
   ]
  },
  {
   "cell_type": "markdown",
   "id": "f4d574bc",
   "metadata": {
    "papermill": {
     "duration": 0.004895,
     "end_time": "2022-12-23T03:42:23.085183",
     "exception": false,
     "start_time": "2022-12-23T03:42:23.080288",
     "status": "completed"
    },
    "tags": []
   },
   "source": [
    "Now it's time for you to demonstrate your new skills with a project of your own!\n",
    "\n",
    "In this exercise, you will work with a dataset of your choosing.  Once you've selected a dataset, you'll design and create your own plot to tell interesting stories behind the data!\n",
    "\n",
    "## Setup\n",
    "\n",
    "Run the next cell to import and configure the Python libraries that you need to complete the exercise."
   ]
  },
  {
   "cell_type": "code",
   "execution_count": 1,
   "id": "cddb10ce",
   "metadata": {
    "execution": {
     "iopub.execute_input": "2022-12-23T03:42:23.098024Z",
     "iopub.status.busy": "2022-12-23T03:42:23.097515Z",
     "iopub.status.idle": "2022-12-23T03:42:24.185720Z",
     "shell.execute_reply": "2022-12-23T03:42:24.184370Z"
    },
    "papermill": {
     "duration": 1.09822,
     "end_time": "2022-12-23T03:42:24.188973",
     "exception": false,
     "start_time": "2022-12-23T03:42:23.090753",
     "status": "completed"
    },
    "tags": []
   },
   "outputs": [
    {
     "name": "stdout",
     "output_type": "stream",
     "text": [
      "Setup Complete\n"
     ]
    }
   ],
   "source": [
    "import pandas as pd\n",
    "pd.plotting.register_matplotlib_converters()\n",
    "import matplotlib.pyplot as plt\n",
    "%matplotlib inline\n",
    "import seaborn as sns\n",
    "print(\"Setup Complete\")"
   ]
  },
  {
   "cell_type": "markdown",
   "id": "feba41e7",
   "metadata": {
    "papermill": {
     "duration": 0.005101,
     "end_time": "2022-12-23T03:42:24.199462",
     "exception": false,
     "start_time": "2022-12-23T03:42:24.194361",
     "status": "completed"
    },
    "tags": []
   },
   "source": [
    "The questions below will give you feedback on your work. Run the following cell to set up the feedback system."
   ]
  },
  {
   "cell_type": "code",
   "execution_count": 2,
   "id": "88d14c03",
   "metadata": {
    "execution": {
     "iopub.execute_input": "2022-12-23T03:42:24.211744Z",
     "iopub.status.busy": "2022-12-23T03:42:24.211336Z",
     "iopub.status.idle": "2022-12-23T03:42:24.254832Z",
     "shell.execute_reply": "2022-12-23T03:42:24.252996Z"
    },
    "papermill": {
     "duration": 0.053794,
     "end_time": "2022-12-23T03:42:24.258496",
     "exception": false,
     "start_time": "2022-12-23T03:42:24.204702",
     "status": "completed"
    },
    "tags": []
   },
   "outputs": [
    {
     "name": "stdout",
     "output_type": "stream",
     "text": [
      "Setup Complete\n"
     ]
    }
   ],
   "source": [
    "# Set up code checking\n",
    "from learntools.core import binder\n",
    "binder.bind(globals())\n",
    "from learntools.data_viz_to_coder.ex7 import *\n",
    "print(\"Setup Complete\")"
   ]
  },
  {
   "cell_type": "markdown",
   "id": "2f6be898",
   "metadata": {
    "papermill": {
     "duration": 0.00556,
     "end_time": "2022-12-23T03:42:24.270066",
     "exception": false,
     "start_time": "2022-12-23T03:42:24.264506",
     "status": "completed"
    },
    "tags": []
   },
   "source": [
    "## Step 1: Attach a dataset to the notebook\n",
    "\n",
    "Begin by selecting a CSV dataset from [Kaggle Datasets](https://www.kaggle.com/datasets).  If you're unsure how to do this, please revisit the instructions in the previous tutorial.\n",
    "\n",
    "Once you have selected a dataset, click on the **[+ Add data]** option in the top right corner.  This will generate a pop-up window that you can use to search for your chosen dataset.  \n",
    "\n",
    "![ex6_search_dataset](https://i.imgur.com/cIIWPUS.png)\n",
    "\n",
    "Once you have found the dataset, click on the **[Add]** button to attach it to the notebook.  You can check that it was successful by looking at the **Data** dropdown menu to the right of the notebook -- look for an **input** folder containing a subfolder that matches the name of the dataset.\n",
    "\n",
    "<center>\n",
    "<img src=\"https://i.imgur.com/nMYc1Nu.png\" width=30%><br/>\n",
    "</center>\n",
    "\n",
    "You can click on the carat to the left of the name of the dataset to double-check that it contains a CSV file.  For instance, the image below shows that the example dataset contains two CSV files: (1) **dc-wikia-data.csv**, and (2) **marvel-wikia-data.csv**.\n",
    "\n",
    "<center>\n",
    "<img src=\"https://i.imgur.com/B4sJkVA.png\" width=30%><br/>\n",
    "</center>\n",
    "\n",
    "Once you've uploaded a dataset with a CSV file, run the code cell below **without changes** to receive credit for your work!"
   ]
  },
  {
   "cell_type": "code",
   "execution_count": null,
   "id": "3c88fd03",
   "metadata": {
    "papermill": {
     "duration": 0.005047,
     "end_time": "2022-12-23T03:42:24.280477",
     "exception": false,
     "start_time": "2022-12-23T03:42:24.275430",
     "status": "completed"
    },
    "tags": []
   },
   "outputs": [],
   "source": []
  },
  {
   "cell_type": "code",
   "execution_count": 3,
   "id": "1f6bf58f",
   "metadata": {
    "execution": {
     "iopub.execute_input": "2022-12-23T03:42:24.293540Z",
     "iopub.status.busy": "2022-12-23T03:42:24.292834Z",
     "iopub.status.idle": "2022-12-23T03:42:24.311959Z",
     "shell.execute_reply": "2022-12-23T03:42:24.310735Z"
    },
    "papermill": {
     "duration": 0.028343,
     "end_time": "2022-12-23T03:42:24.314216",
     "exception": false,
     "start_time": "2022-12-23T03:42:24.285873",
     "status": "completed"
    },
    "tags": []
   },
   "outputs": [
    {
     "data": {
      "application/javascript": [
       "parent.postMessage({\"jupyterEvent\": \"custom.exercise_interaction\", \"data\": {\"outcomeType\": 1, \"valueTowardsCompletion\": 0.25, \"interactionType\": 1, \"questionType\": 2, \"questionId\": \"1_AttachData\", \"learnToolsVersion\": \"0.3.4\", \"failureMessage\": \"\", \"exceptionClass\": \"\", \"trace\": \"\"}}, \"*\")"
      ],
      "text/plain": [
       "<IPython.core.display.Javascript object>"
      ]
     },
     "metadata": {},
     "output_type": "display_data"
    },
    {
     "data": {
      "text/markdown": [
       "<span style=\"color:#33cc33\">Correct:</span> \n",
       "\n"
      ],
      "text/plain": [
       "Correct: \n"
      ]
     },
     "metadata": {},
     "output_type": "display_data"
    }
   ],
   "source": [
    "# Check for a dataset with a CSV file\n",
    "step_1.check()"
   ]
  },
  {
   "cell_type": "code",
   "execution_count": 4,
   "id": "6b683d05",
   "metadata": {
    "execution": {
     "iopub.execute_input": "2022-12-23T03:42:24.327780Z",
     "iopub.status.busy": "2022-12-23T03:42:24.327101Z",
     "iopub.status.idle": "2022-12-23T03:42:24.339508Z",
     "shell.execute_reply": "2022-12-23T03:42:24.338379Z"
    },
    "papermill": {
     "duration": 0.022002,
     "end_time": "2022-12-23T03:42:24.341822",
     "exception": false,
     "start_time": "2022-12-23T03:42:24.319820",
     "status": "completed"
    },
    "tags": []
   },
   "outputs": [
    {
     "data": {
      "application/javascript": [
       "parent.postMessage({\"jupyterEvent\": \"custom.exercise_interaction\", \"data\": {\"outcomeType\": 1, \"valueTowardsCompletion\": 0.25, \"interactionType\": 1, \"questionType\": 2, \"questionId\": \"2_Filepath\", \"learnToolsVersion\": \"0.3.4\", \"failureMessage\": \"\", \"exceptionClass\": \"\", \"trace\": \"\"}}, \"*\")"
      ],
      "text/plain": [
       "<IPython.core.display.Javascript object>"
      ]
     },
     "metadata": {},
     "output_type": "display_data"
    },
    {
     "data": {
      "text/markdown": [
       "<span style=\"color:#33cc33\">Correct:</span> \n",
       "\n"
      ],
      "text/plain": [
       "Correct: \n"
      ]
     },
     "metadata": {},
     "output_type": "display_data"
    }
   ],
   "source": [
    "# Fill in the line below: Specify the path of the CSV file to read\n",
    "my_filepath = (\"/kaggle/input/fivethirtyeight-comic-characters-dataset/marvel-wikia-data.csv\")\n",
    "\n",
    "# Check for a valid filepath to a CSV file in a dataset\n",
    "step_2.check()"
   ]
  },
  {
   "cell_type": "markdown",
   "id": "763a630e",
   "metadata": {
    "papermill": {
     "duration": 0.005384,
     "end_time": "2022-12-23T03:42:24.354643",
     "exception": false,
     "start_time": "2022-12-23T03:42:24.349259",
     "status": "completed"
    },
    "tags": []
   },
   "source": [
    "## Step 3: Load the data\n",
    "\n",
    "Use the next code cell to load your data file into `my_data`.  Use the filepath that you specified in the previous step."
   ]
  },
  {
   "cell_type": "code",
   "execution_count": 5,
   "id": "fa0fbb3e",
   "metadata": {
    "execution": {
     "iopub.execute_input": "2022-12-23T03:42:24.368730Z",
     "iopub.status.busy": "2022-12-23T03:42:24.367990Z",
     "iopub.status.idle": "2022-12-23T03:42:24.494574Z",
     "shell.execute_reply": "2022-12-23T03:42:24.493421Z"
    },
    "papermill": {
     "duration": 0.136705,
     "end_time": "2022-12-23T03:42:24.497348",
     "exception": false,
     "start_time": "2022-12-23T03:42:24.360643",
     "status": "completed"
    },
    "tags": []
   },
   "outputs": [
    {
     "data": {
      "application/javascript": [
       "parent.postMessage({\"jupyterEvent\": \"custom.exercise_interaction\", \"data\": {\"outcomeType\": 1, \"valueTowardsCompletion\": 0.25, \"interactionType\": 1, \"questionType\": 2, \"questionId\": \"3_LoadData\", \"learnToolsVersion\": \"0.3.4\", \"failureMessage\": \"\", \"exceptionClass\": \"\", \"trace\": \"\"}}, \"*\")"
      ],
      "text/plain": [
       "<IPython.core.display.Javascript object>"
      ]
     },
     "metadata": {},
     "output_type": "display_data"
    },
    {
     "data": {
      "text/markdown": [
       "<span style=\"color:#33cc33\">Correct:</span> \n",
       "\n"
      ],
      "text/plain": [
       "Correct: \n"
      ]
     },
     "metadata": {},
     "output_type": "display_data"
    }
   ],
   "source": [
    "# Fill in the line below: Read the file into a variable my_data\n",
    "my_data = pd.read_csv(\"/kaggle/input/fivethirtyeight-comic-characters-dataset/marvel-wikia-data.csv\")\n",
    "\n",
    "# Check that a dataset has been uploaded into my_data\n",
    "step_3.check()"
   ]
  },
  {
   "cell_type": "markdown",
   "id": "ef3f4ab8",
   "metadata": {
    "papermill": {
     "duration": 0.005799,
     "end_time": "2022-12-23T03:42:24.509315",
     "exception": false,
     "start_time": "2022-12-23T03:42:24.503516",
     "status": "completed"
    },
    "tags": []
   },
   "source": [
    "**_After the code cell above is marked correct_**, run the code cell below without changes to view the first five rows of the data."
   ]
  },
  {
   "cell_type": "code",
   "execution_count": 6,
   "id": "91d6a365",
   "metadata": {
    "execution": {
     "iopub.execute_input": "2022-12-23T03:42:24.523501Z",
     "iopub.status.busy": "2022-12-23T03:42:24.522732Z",
     "iopub.status.idle": "2022-12-23T03:42:24.552209Z",
     "shell.execute_reply": "2022-12-23T03:42:24.550812Z"
    },
    "papermill": {
     "duration": 0.040827,
     "end_time": "2022-12-23T03:42:24.556173",
     "exception": false,
     "start_time": "2022-12-23T03:42:24.515346",
     "status": "completed"
    },
    "tags": []
   },
   "outputs": [
    {
     "data": {
      "text/html": [
       "<div>\n",
       "<style scoped>\n",
       "    .dataframe tbody tr th:only-of-type {\n",
       "        vertical-align: middle;\n",
       "    }\n",
       "\n",
       "    .dataframe tbody tr th {\n",
       "        vertical-align: top;\n",
       "    }\n",
       "\n",
       "    .dataframe thead th {\n",
       "        text-align: right;\n",
       "    }\n",
       "</style>\n",
       "<table border=\"1\" class=\"dataframe\">\n",
       "  <thead>\n",
       "    <tr style=\"text-align: right;\">\n",
       "      <th></th>\n",
       "      <th>page_id</th>\n",
       "      <th>name</th>\n",
       "      <th>urlslug</th>\n",
       "      <th>ID</th>\n",
       "      <th>ALIGN</th>\n",
       "      <th>EYE</th>\n",
       "      <th>HAIR</th>\n",
       "      <th>SEX</th>\n",
       "      <th>GSM</th>\n",
       "      <th>ALIVE</th>\n",
       "      <th>APPEARANCES</th>\n",
       "      <th>FIRST APPEARANCE</th>\n",
       "      <th>Year</th>\n",
       "    </tr>\n",
       "  </thead>\n",
       "  <tbody>\n",
       "    <tr>\n",
       "      <th>0</th>\n",
       "      <td>1678</td>\n",
       "      <td>Spider-Man (Peter Parker)</td>\n",
       "      <td>\\/Spider-Man_(Peter_Parker)</td>\n",
       "      <td>Secret Identity</td>\n",
       "      <td>Good Characters</td>\n",
       "      <td>Hazel Eyes</td>\n",
       "      <td>Brown Hair</td>\n",
       "      <td>Male Characters</td>\n",
       "      <td>NaN</td>\n",
       "      <td>Living Characters</td>\n",
       "      <td>4043.0</td>\n",
       "      <td>Aug-62</td>\n",
       "      <td>1962.0</td>\n",
       "    </tr>\n",
       "    <tr>\n",
       "      <th>1</th>\n",
       "      <td>7139</td>\n",
       "      <td>Captain America (Steven Rogers)</td>\n",
       "      <td>\\/Captain_America_(Steven_Rogers)</td>\n",
       "      <td>Public Identity</td>\n",
       "      <td>Good Characters</td>\n",
       "      <td>Blue Eyes</td>\n",
       "      <td>White Hair</td>\n",
       "      <td>Male Characters</td>\n",
       "      <td>NaN</td>\n",
       "      <td>Living Characters</td>\n",
       "      <td>3360.0</td>\n",
       "      <td>Mar-41</td>\n",
       "      <td>1941.0</td>\n",
       "    </tr>\n",
       "    <tr>\n",
       "      <th>2</th>\n",
       "      <td>64786</td>\n",
       "      <td>Wolverine (James \\\"Logan\\\" Howlett)</td>\n",
       "      <td>\\/Wolverine_(James_%22Logan%22_Howlett)</td>\n",
       "      <td>Public Identity</td>\n",
       "      <td>Neutral Characters</td>\n",
       "      <td>Blue Eyes</td>\n",
       "      <td>Black Hair</td>\n",
       "      <td>Male Characters</td>\n",
       "      <td>NaN</td>\n",
       "      <td>Living Characters</td>\n",
       "      <td>3061.0</td>\n",
       "      <td>Oct-74</td>\n",
       "      <td>1974.0</td>\n",
       "    </tr>\n",
       "    <tr>\n",
       "      <th>3</th>\n",
       "      <td>1868</td>\n",
       "      <td>Iron Man (Anthony \\\"Tony\\\" Stark)</td>\n",
       "      <td>\\/Iron_Man_(Anthony_%22Tony%22_Stark)</td>\n",
       "      <td>Public Identity</td>\n",
       "      <td>Good Characters</td>\n",
       "      <td>Blue Eyes</td>\n",
       "      <td>Black Hair</td>\n",
       "      <td>Male Characters</td>\n",
       "      <td>NaN</td>\n",
       "      <td>Living Characters</td>\n",
       "      <td>2961.0</td>\n",
       "      <td>Mar-63</td>\n",
       "      <td>1963.0</td>\n",
       "    </tr>\n",
       "    <tr>\n",
       "      <th>4</th>\n",
       "      <td>2460</td>\n",
       "      <td>Thor (Thor Odinson)</td>\n",
       "      <td>\\/Thor_(Thor_Odinson)</td>\n",
       "      <td>No Dual Identity</td>\n",
       "      <td>Good Characters</td>\n",
       "      <td>Blue Eyes</td>\n",
       "      <td>Blond Hair</td>\n",
       "      <td>Male Characters</td>\n",
       "      <td>NaN</td>\n",
       "      <td>Living Characters</td>\n",
       "      <td>2258.0</td>\n",
       "      <td>Nov-50</td>\n",
       "      <td>1950.0</td>\n",
       "    </tr>\n",
       "  </tbody>\n",
       "</table>\n",
       "</div>"
      ],
      "text/plain": [
       "   page_id                                 name  \\\n",
       "0     1678            Spider-Man (Peter Parker)   \n",
       "1     7139      Captain America (Steven Rogers)   \n",
       "2    64786  Wolverine (James \\\"Logan\\\" Howlett)   \n",
       "3     1868    Iron Man (Anthony \\\"Tony\\\" Stark)   \n",
       "4     2460                  Thor (Thor Odinson)   \n",
       "\n",
       "                                   urlslug                ID  \\\n",
       "0              \\/Spider-Man_(Peter_Parker)   Secret Identity   \n",
       "1        \\/Captain_America_(Steven_Rogers)   Public Identity   \n",
       "2  \\/Wolverine_(James_%22Logan%22_Howlett)   Public Identity   \n",
       "3    \\/Iron_Man_(Anthony_%22Tony%22_Stark)   Public Identity   \n",
       "4                    \\/Thor_(Thor_Odinson)  No Dual Identity   \n",
       "\n",
       "                ALIGN         EYE        HAIR              SEX  GSM  \\\n",
       "0     Good Characters  Hazel Eyes  Brown Hair  Male Characters  NaN   \n",
       "1     Good Characters   Blue Eyes  White Hair  Male Characters  NaN   \n",
       "2  Neutral Characters   Blue Eyes  Black Hair  Male Characters  NaN   \n",
       "3     Good Characters   Blue Eyes  Black Hair  Male Characters  NaN   \n",
       "4     Good Characters   Blue Eyes  Blond Hair  Male Characters  NaN   \n",
       "\n",
       "               ALIVE  APPEARANCES FIRST APPEARANCE    Year  \n",
       "0  Living Characters       4043.0           Aug-62  1962.0  \n",
       "1  Living Characters       3360.0           Mar-41  1941.0  \n",
       "2  Living Characters       3061.0           Oct-74  1974.0  \n",
       "3  Living Characters       2961.0           Mar-63  1963.0  \n",
       "4  Living Characters       2258.0           Nov-50  1950.0  "
      ]
     },
     "execution_count": 6,
     "metadata": {},
     "output_type": "execute_result"
    }
   ],
   "source": [
    "# Print the first five rows of the data\n",
    "my_data.head()"
   ]
  },
  {
   "cell_type": "code",
   "execution_count": 7,
   "id": "6989a306",
   "metadata": {
    "execution": {
     "iopub.execute_input": "2022-12-23T03:42:24.578425Z",
     "iopub.status.busy": "2022-12-23T03:42:24.577076Z",
     "iopub.status.idle": "2022-12-23T03:42:24.588643Z",
     "shell.execute_reply": "2022-12-23T03:42:24.586678Z"
    },
    "papermill": {
     "duration": 0.02634,
     "end_time": "2022-12-23T03:42:24.592144",
     "exception": false,
     "start_time": "2022-12-23T03:42:24.565804",
     "status": "completed"
    },
    "tags": []
   },
   "outputs": [],
   "source": [
    "tail = my_data.tail()"
   ]
  },
  {
   "cell_type": "markdown",
   "id": "ad997a84",
   "metadata": {
    "papermill": {
     "duration": 0.008148,
     "end_time": "2022-12-23T03:42:24.608931",
     "exception": false,
     "start_time": "2022-12-23T03:42:24.600783",
     "status": "completed"
    },
    "tags": []
   },
   "source": [
    "## Step 4: Visualize the data\n",
    "\n",
    "Use the next code cell to create a figure that tells a story behind your dataset.  You can use any chart type (_line chart, bar chart, heatmap, etc_) of your choosing!"
   ]
  },
  {
   "cell_type": "code",
   "execution_count": null,
   "id": "3807045f",
   "metadata": {
    "papermill": {
     "duration": 0.008084,
     "end_time": "2022-12-23T03:42:24.628488",
     "exception": false,
     "start_time": "2022-12-23T03:42:24.620404",
     "status": "completed"
    },
    "tags": []
   },
   "outputs": [],
   "source": []
  },
  {
   "cell_type": "code",
   "execution_count": 8,
   "id": "e14bfb61",
   "metadata": {
    "execution": {
     "iopub.execute_input": "2022-12-23T03:42:24.643604Z",
     "iopub.status.busy": "2022-12-23T03:42:24.642359Z",
     "iopub.status.idle": "2022-12-23T03:42:25.046275Z",
     "shell.execute_reply": "2022-12-23T03:42:25.045008Z"
    },
    "papermill": {
     "duration": 0.414593,
     "end_time": "2022-12-23T03:42:25.049360",
     "exception": false,
     "start_time": "2022-12-23T03:42:24.634767",
     "status": "completed"
    },
    "tags": []
   },
   "outputs": [
    {
     "data": {
      "text/plain": [
       "<matplotlib.collections.PathCollection at 0x7f9fc9bf2f50>"
      ]
     },
     "execution_count": 8,
     "metadata": {},
     "output_type": "execute_result"
    },
    {
     "data": {
      "image/png": "[encoded data removed]",
      "text/plain": [
       "<Figure size 720x720 with 1 Axes>"
      ]
     },
     "metadata": {
      "needs_background": "light"
     },
     "output_type": "display_data"
    }
   ],
   "source": [
    "# Create a plot\n",
    "plt.figure(figsize=(10,10))\n",
    "#sns.lineplot(my_data['APPEARANCES'].index)\n",
    "plt.scatter(my_data['Year'], my_data['page_id'] )\n"
   ]
  },
  {
   "cell_type": "code",
   "execution_count": null,
   "id": "fab73bf0",
   "metadata": {
    "papermill": {
     "duration": 0.00753,
     "end_time": "2022-12-23T03:42:25.064998",
     "exception": false,
     "start_time": "2022-12-23T03:42:25.057468",
     "status": "completed"
    },
    "tags": []
   },
   "outputs": [],
   "source": []
  },
  {
   "cell_type": "code",
   "execution_count": 9,
   "id": "3b8bc317",
   "metadata": {
    "execution": {
     "iopub.execute_input": "2022-12-23T03:42:25.082610Z",
     "iopub.status.busy": "2022-12-23T03:42:25.081939Z",
     "iopub.status.idle": "2022-12-23T03:42:25.087714Z",
     "shell.execute_reply": "2022-12-23T03:42:25.086753Z"
    },
    "papermill": {
     "duration": 0.017199,
     "end_time": "2022-12-23T03:42:25.090193",
     "exception": false,
     "start_time": "2022-12-23T03:42:25.072994",
     "status": "completed"
    },
    "tags": []
   },
   "outputs": [],
   "source": [
    "plt.show()"
   ]
  },
  {
   "cell_type": "markdown",
   "id": "cf153498",
   "metadata": {
    "papermill": {
     "duration": 0.008398,
     "end_time": "2022-12-23T03:42:25.107527",
     "exception": false,
     "start_time": "2022-12-23T03:42:25.099129",
     "status": "completed"
    },
    "tags": []
   },
   "source": []
  },
  {
   "cell_type": "code",
   "execution_count": null,
   "id": "973414d9",
   "metadata": {
    "execution": {
     "iopub.execute_input": "2022-12-23T03:05:42.221877Z",
     "iopub.status.busy": "2022-12-23T03:05:42.221051Z",
     "iopub.status.idle": "2022-12-23T03:05:42.512802Z",
     "shell.execute_reply": "2022-12-23T03:05:42.511316Z",
     "shell.execute_reply.started": "2022-12-23T03:05:42.221826Z"
    },
    "papermill": {
     "duration": 0.007388,
     "end_time": "2022-12-23T03:42:25.122562",
     "exception": false,
     "start_time": "2022-12-23T03:42:25.115174",
     "status": "completed"
    },
    "tags": []
   },
   "outputs": [],
   "source": []
  },
  {
   "cell_type": "markdown",
   "id": "53cee74d",
   "metadata": {
    "papermill": {
     "duration": 0.007303,
     "end_time": "2022-12-23T03:42:25.137614",
     "exception": false,
     "start_time": "2022-12-23T03:42:25.130311",
     "status": "completed"
    },
    "tags": []
   },
   "source": [
    "## Keep going\n",
    "\n",
    "Learn how to use your skills after completing the micro-course to create data visualizations in a **[final tutorial](https://www.kaggle.com/alexisbcook/creating-your-own-notebooks)**."
   ]
  },
  {
   "cell_type": "markdown",
   "id": "e167ff51",
   "metadata": {
    "papermill": {
     "duration": 0.007989,
     "end_time": "2022-12-23T03:42:25.153629",
     "exception": false,
     "start_time": "2022-12-23T03:42:25.145640",
     "status": "completed"
    },
    "tags": []
   },
   "source": [
    "---\n",
    "\n",
    "\n",
    "\n",
    "\n",
    "*Have questions or comments? Visit the [course discussion forum](https://www.kaggle.com/learn/data-visualization/discussion) to chat with other learners.*"
   ]
  }
 ],
 "metadata": {
  "kernelspec": {
   "display_name": "Python 3",
   "language": "python",
   "name": "python3"
  },
  "language_info": {
   "codemirror_mode": {
    "name": "ipython",
    "version": 3
   },
   "file_extension": ".py",
   "mimetype": "text/x-python",
   "name": "python",
   "nbconvert_exporter": "python",
   "pygments_lexer": "ipython3",
   "version": "3.7.12"
  },
  "papermill": {
   "default_parameters": {},
   "duration": 11.692285,
   "end_time": "2022-12-23T03:42:25.985656",
   "environment_variables": {},
   "exception": null,
   "input_path": "__notebook__.ipynb",
   "output_path": "__notebook__.ipynb",
   "parameters": {},
   "start_time": "2022-12-23T03:42:14.293371",
   "version": "2.3.4"
  }
 },
 "nbformat": 4,
 "nbformat_minor": 5
}
