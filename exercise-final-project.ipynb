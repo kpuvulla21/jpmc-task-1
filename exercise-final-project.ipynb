{
 "cells": [
  {
   "cell_type": "markdown",
   "id": "048ceb5b",
   "metadata": {
    "papermill": {
     "duration": 0.006733,
     "end_time": "2022-12-23T16:32:05.094026",
     "exception": false,
     "start_time": "2022-12-23T16:32:05.087293",
     "status": "completed"
    },
    "tags": []
   },
   "source": [
    "**This notebook is an exercise in the [Data Visualization](https://www.kaggle.com/learn/data-visualization) course.  You can reference the tutorial at [this link](https://www.kaggle.com/alexisbcook/final-project).**\n",
    "\n",
    "---\n"
   ]
  },
  {
   "cell_type": "markdown",
   "id": "0cf25f17",
   "metadata": {
    "papermill": {
     "duration": 0.00677,
     "end_time": "2022-12-23T16:32:05.109303",
     "exception": false,
     "start_time": "2022-12-23T16:32:05.102533",
     "status": "completed"
    },
    "tags": []
   },
   "source": [
    "Now it's time for you to demonstrate your new skills with a project of your own!\n",
    "\n",
    "In this exercise, you will work with a dataset of your choosing.  Once you've selected a dataset, you'll design and create your own plot to tell interesting stories behind the data!\n",
    "\n",
    "## Setup\n",
    "\n",
    "Run the next cell to import and configure the Python libraries that you need to complete the exercise."
   ]
  },
  {
   "cell_type": "code",
   "execution_count": 1,
   "id": "98627a66",
   "metadata": {
    "execution": {
     "iopub.execute_input": "2022-12-23T16:32:05.122766Z",
     "iopub.status.busy": "2022-12-23T16:32:05.122270Z",
     "iopub.status.idle": "2022-12-23T16:32:06.291612Z",
     "shell.execute_reply": "2022-12-23T16:32:06.290208Z"
    },
    "papermill": {
     "duration": 1.180491,
     "end_time": "2022-12-23T16:32:06.295252",
     "exception": false,
     "start_time": "2022-12-23T16:32:05.114761",
     "status": "completed"
    },
    "tags": []
   },
   "outputs": [
    {
     "name": "stdout",
     "output_type": "stream",
     "text": [
      "Setup Complete\n"
     ]
    }
   ],
   "source": [
    "import pandas as pd\n",
    "pd.plotting.register_matplotlib_converters()\n",
    "import matplotlib.pyplot as plt\n",
    "%matplotlib inline\n",
    "import seaborn as sns\n",
    "print(\"Setup Complete\")"
   ]
  },
  {
   "cell_type": "markdown",
   "id": "87d20815",
   "metadata": {
    "papermill": {
     "duration": 0.005355,
     "end_time": "2022-12-23T16:32:06.306742",
     "exception": false,
     "start_time": "2022-12-23T16:32:06.301387",
     "status": "completed"
    },
    "tags": []
   },
   "source": [
    "The questions below will give you feedback on your work. Run the following cell to set up the feedback system."
   ]
  },
  {
   "cell_type": "code",
   "execution_count": 2,
   "id": "ead66d76",
   "metadata": {
    "execution": {
     "iopub.execute_input": "2022-12-23T16:32:06.319965Z",
     "iopub.status.busy": "2022-12-23T16:32:06.318973Z",
     "iopub.status.idle": "2022-12-23T16:32:06.363490Z",
     "shell.execute_reply": "2022-12-23T16:32:06.362386Z"
    },
    "papermill": {
     "duration": 0.053678,
     "end_time": "2022-12-23T16:32:06.365882",
     "exception": false,
     "start_time": "2022-12-23T16:32:06.312204",
     "status": "completed"
    },
    "tags": []
   },
   "outputs": [
    {
     "name": "stdout",
     "output_type": "stream",
     "text": [
      "Setup Complete\n"
     ]
    }
   ],
   "source": [
    "# Set up code checking\n",
    "from learntools.core import binder\n",
    "binder.bind(globals())\n",
    "from learntools.data_viz_to_coder.ex7 import *\n",
    "print(\"Setup Complete\")"
   ]
  },
  {
   "cell_type": "markdown",
   "id": "81fe6038",
   "metadata": {
    "papermill": {
     "duration": 0.005235,
     "end_time": "2022-12-23T16:32:06.376897",
     "exception": false,
     "start_time": "2022-12-23T16:32:06.371662",
     "status": "completed"
    },
    "tags": []
   },
   "source": [
    "## Step 1: Attach a dataset to the notebook\n",
    "\n",
    "Begin by selecting a CSV dataset from [Kaggle Datasets](https://www.kaggle.com/datasets).  If you're unsure how to do this, please revisit the instructions in the previous tutorial.\n",
    "\n",
    "Once you have selected a dataset, click on the **[+ Add data]** option in the top right corner.  This will generate a pop-up window that you can use to search for your chosen dataset.  \n",
    "\n",
    "![ex6_search_dataset](https://i.imgur.com/cIIWPUS.png)\n",
    "\n",
    "Once you have found the dataset, click on the **[Add]** button to attach it to the notebook.  You can check that it was successful by looking at the **Data** dropdown menu to the right of the notebook -- look for an **input** folder containing a subfolder that matches the name of the dataset.\n",
    "\n",
    "<center>\n",
    "<img src=\"https://i.imgur.com/nMYc1Nu.png\" width=30%><br/>\n",
    "</center>\n",
    "\n",
    "You can click on the carat to the left of the name of the dataset to double-check that it contains a CSV file.  For instance, the image below shows that the example dataset contains two CSV files: (1) **dc-wikia-data.csv**, and (2) **marvel-wikia-data.csv**.\n",
    "\n",
    "<center>\n",
    "<img src=\"https://i.imgur.com/B4sJkVA.png\" width=30%><br/>\n",
    "</center>\n",
    "\n",
    "Once you've uploaded a dataset with a CSV file, run the code cell below **without changes** to receive credit for your work!"
   ]
  },
  {
   "cell_type": "code",
   "execution_count": 3,
   "id": "ea622b4c",
   "metadata": {
    "execution": {
     "iopub.execute_input": "2022-12-23T16:32:06.389980Z",
     "iopub.status.busy": "2022-12-23T16:32:06.389247Z",
     "iopub.status.idle": "2022-12-23T16:32:06.403870Z",
     "shell.execute_reply": "2022-12-23T16:32:06.402851Z"
    },
    "papermill": {
     "duration": 0.023683,
     "end_time": "2022-12-23T16:32:06.406009",
     "exception": false,
     "start_time": "2022-12-23T16:32:06.382326",
     "status": "completed"
    },
    "tags": []
   },
   "outputs": [
    {
     "data": {
      "application/javascript": [
       "parent.postMessage({\"jupyterEvent\": \"custom.exercise_interaction\", \"data\": {\"outcomeType\": 1, \"valueTowardsCompletion\": 0.25, \"interactionType\": 1, \"questionType\": 2, \"questionId\": \"1_AttachData\", \"learnToolsVersion\": \"0.3.4\", \"failureMessage\": \"\", \"exceptionClass\": \"\", \"trace\": \"\"}}, \"*\")"
      ],
      "text/plain": [
       "<IPython.core.display.Javascript object>"
      ]
     },
     "metadata": {},
     "output_type": "display_data"
    },
    {
     "data": {
      "text/markdown": [
       "<span style=\"color:#33cc33\">Correct:</span> \n",
       "\n"
      ],
      "text/plain": [
       "Correct: \n"
      ]
     },
     "metadata": {},
     "output_type": "display_data"
    }
   ],
   "source": [
    "# Check for a dataset with a CSV file\n",
    "step_1.check()"
   ]
  },
  {
   "cell_type": "code",
   "execution_count": 4,
   "id": "567eecd5",
   "metadata": {
    "execution": {
     "iopub.execute_input": "2022-12-23T16:32:06.418911Z",
     "iopub.status.busy": "2022-12-23T16:32:06.418483Z",
     "iopub.status.idle": "2022-12-23T16:32:06.429590Z",
     "shell.execute_reply": "2022-12-23T16:32:06.428755Z"
    },
    "papermill": {
     "duration": 0.020198,
     "end_time": "2022-12-23T16:32:06.431790",
     "exception": false,
     "start_time": "2022-12-23T16:32:06.411592",
     "status": "completed"
    },
    "tags": []
   },
   "outputs": [
    {
     "data": {
      "application/javascript": [
       "parent.postMessage({\"jupyterEvent\": \"custom.exercise_interaction\", \"data\": {\"outcomeType\": 1, \"valueTowardsCompletion\": 0.25, \"interactionType\": 1, \"questionType\": 2, \"questionId\": \"2_Filepath\", \"learnToolsVersion\": \"0.3.4\", \"failureMessage\": \"\", \"exceptionClass\": \"\", \"trace\": \"\"}}, \"*\")"
      ],
      "text/plain": [
       "<IPython.core.display.Javascript object>"
      ]
     },
     "metadata": {},
     "output_type": "display_data"
    },
    {
     "data": {
      "text/markdown": [
       "<span style=\"color:#33cc33\">Correct:</span> \n",
       "\n"
      ],
      "text/plain": [
       "Correct: \n"
      ]
     },
     "metadata": {},
     "output_type": "display_data"
    }
   ],
   "source": [
    "# Fill in the line below: Specify the path of the CSV file to read\n",
    "my_filepath = (\"/kaggle/input/fivethirtyeight-comic-characters-dataset/dc-wikia-data.csv\")\n",
    "\n",
    "# Check for a valid filepath to a CSV file in a dataset\n",
    "step_2.check()"
   ]
  },
  {
   "cell_type": "markdown",
   "id": "6024b83d",
   "metadata": {
    "papermill": {
     "duration": 0.005591,
     "end_time": "2022-12-23T16:32:06.444788",
     "exception": false,
     "start_time": "2022-12-23T16:32:06.439197",
     "status": "completed"
    },
    "tags": []
   },
   "source": [
    "## Step 3: Load the data\n",
    "\n",
    "Use the next code cell to load your data file into `my_data`.  Use the filepath that you specified in the previous step."
   ]
  },
  {
   "cell_type": "code",
   "execution_count": 5,
   "id": "056b7df4",
   "metadata": {
    "execution": {
     "iopub.execute_input": "2022-12-23T16:32:06.458543Z",
     "iopub.status.busy": "2022-12-23T16:32:06.458100Z",
     "iopub.status.idle": "2022-12-23T16:32:06.516625Z",
     "shell.execute_reply": "2022-12-23T16:32:06.515660Z"
    },
    "papermill": {
     "duration": 0.068128,
     "end_time": "2022-12-23T16:32:06.518812",
     "exception": false,
     "start_time": "2022-12-23T16:32:06.450684",
     "status": "completed"
    },
    "tags": []
   },
   "outputs": [
    {
     "data": {
      "application/javascript": [
       "parent.postMessage({\"jupyterEvent\": \"custom.exercise_interaction\", \"data\": {\"outcomeType\": 1, \"valueTowardsCompletion\": 0.25, \"interactionType\": 1, \"questionType\": 2, \"questionId\": \"3_LoadData\", \"learnToolsVersion\": \"0.3.4\", \"failureMessage\": \"\", \"exceptionClass\": \"\", \"trace\": \"\"}}, \"*\")"
      ],
      "text/plain": [
       "<IPython.core.display.Javascript object>"
      ]
     },
     "metadata": {},
     "output_type": "display_data"
    },
    {
     "data": {
      "text/markdown": [
       "<span style=\"color:#33cc33\">Correct:</span> \n",
       "\n"
      ],
      "text/plain": [
       "Correct: \n"
      ]
     },
     "metadata": {},
     "output_type": "display_data"
    }
   ],
   "source": [
    "# Fill in the line below: Read the file into a variable my_data\n",
    "my_data = pd.read_csv(\"/kaggle/input/fivethirtyeight-comic-characters-dataset/dc-wikia-data.csv\")\n",
    "\n",
    "# Check that a dataset has been uploaded into my_data\n",
    "step_3.check()"
   ]
  },
  {
   "cell_type": "markdown",
   "id": "84af7226",
   "metadata": {
    "papermill": {
     "duration": 0.005946,
     "end_time": "2022-12-23T16:32:06.530977",
     "exception": false,
     "start_time": "2022-12-23T16:32:06.525031",
     "status": "completed"
    },
    "tags": []
   },
   "source": [
    "**_After the code cell above is marked correct_**, run the code cell below without changes to view the first five rows of the data."
   ]
  },
  {
   "cell_type": "code",
   "execution_count": 6,
   "id": "034e7979",
   "metadata": {
    "execution": {
     "iopub.execute_input": "2022-12-23T16:32:06.545650Z",
     "iopub.status.busy": "2022-12-23T16:32:06.544758Z",
     "iopub.status.idle": "2022-12-23T16:32:06.570745Z",
     "shell.execute_reply": "2022-12-23T16:32:06.569657Z"
    },
    "papermill": {
     "duration": 0.036075,
     "end_time": "2022-12-23T16:32:06.573386",
     "exception": false,
     "start_time": "2022-12-23T16:32:06.537311",
     "status": "completed"
    },
    "tags": []
   },
   "outputs": [
    {
     "data": {
      "text/html": [
       "<div>\n",
       "<style scoped>\n",
       "    .dataframe tbody tr th:only-of-type {\n",
       "        vertical-align: middle;\n",
       "    }\n",
       "\n",
       "    .dataframe tbody tr th {\n",
       "        vertical-align: top;\n",
       "    }\n",
       "\n",
       "    .dataframe thead th {\n",
       "        text-align: right;\n",
       "    }\n",
       "</style>\n",
       "<table border=\"1\" class=\"dataframe\">\n",
       "  <thead>\n",
       "    <tr style=\"text-align: right;\">\n",
       "      <th></th>\n",
       "      <th>page_id</th>\n",
       "      <th>name</th>\n",
       "      <th>urlslug</th>\n",
       "      <th>ID</th>\n",
       "      <th>ALIGN</th>\n",
       "      <th>EYE</th>\n",
       "      <th>HAIR</th>\n",
       "      <th>SEX</th>\n",
       "      <th>GSM</th>\n",
       "      <th>ALIVE</th>\n",
       "      <th>APPEARANCES</th>\n",
       "      <th>FIRST APPEARANCE</th>\n",
       "      <th>YEAR</th>\n",
       "    </tr>\n",
       "  </thead>\n",
       "  <tbody>\n",
       "    <tr>\n",
       "      <th>0</th>\n",
       "      <td>1422</td>\n",
       "      <td>Batman (Bruce Wayne)</td>\n",
       "      <td>\\/wiki\\/Batman_(Bruce_Wayne)</td>\n",
       "      <td>Secret Identity</td>\n",
       "      <td>Good Characters</td>\n",
       "      <td>Blue Eyes</td>\n",
       "      <td>Black Hair</td>\n",
       "      <td>Male Characters</td>\n",
       "      <td>NaN</td>\n",
       "      <td>Living Characters</td>\n",
       "      <td>3093.0</td>\n",
       "      <td>1939, May</td>\n",
       "      <td>1939.0</td>\n",
       "    </tr>\n",
       "    <tr>\n",
       "      <th>1</th>\n",
       "      <td>23387</td>\n",
       "      <td>Superman (Clark Kent)</td>\n",
       "      <td>\\/wiki\\/Superman_(Clark_Kent)</td>\n",
       "      <td>Secret Identity</td>\n",
       "      <td>Good Characters</td>\n",
       "      <td>Blue Eyes</td>\n",
       "      <td>Black Hair</td>\n",
       "      <td>Male Characters</td>\n",
       "      <td>NaN</td>\n",
       "      <td>Living Characters</td>\n",
       "      <td>2496.0</td>\n",
       "      <td>1986, October</td>\n",
       "      <td>1986.0</td>\n",
       "    </tr>\n",
       "    <tr>\n",
       "      <th>2</th>\n",
       "      <td>1458</td>\n",
       "      <td>Green Lantern (Hal Jordan)</td>\n",
       "      <td>\\/wiki\\/Green_Lantern_(Hal_Jordan)</td>\n",
       "      <td>Secret Identity</td>\n",
       "      <td>Good Characters</td>\n",
       "      <td>Brown Eyes</td>\n",
       "      <td>Brown Hair</td>\n",
       "      <td>Male Characters</td>\n",
       "      <td>NaN</td>\n",
       "      <td>Living Characters</td>\n",
       "      <td>1565.0</td>\n",
       "      <td>1959, October</td>\n",
       "      <td>1959.0</td>\n",
       "    </tr>\n",
       "    <tr>\n",
       "      <th>3</th>\n",
       "      <td>1659</td>\n",
       "      <td>James Gordon (New Earth)</td>\n",
       "      <td>\\/wiki\\/James_Gordon_(New_Earth)</td>\n",
       "      <td>Public Identity</td>\n",
       "      <td>Good Characters</td>\n",
       "      <td>Brown Eyes</td>\n",
       "      <td>White Hair</td>\n",
       "      <td>Male Characters</td>\n",
       "      <td>NaN</td>\n",
       "      <td>Living Characters</td>\n",
       "      <td>1316.0</td>\n",
       "      <td>1987, February</td>\n",
       "      <td>1987.0</td>\n",
       "    </tr>\n",
       "    <tr>\n",
       "      <th>4</th>\n",
       "      <td>1576</td>\n",
       "      <td>Richard Grayson (New Earth)</td>\n",
       "      <td>\\/wiki\\/Richard_Grayson_(New_Earth)</td>\n",
       "      <td>Secret Identity</td>\n",
       "      <td>Good Characters</td>\n",
       "      <td>Blue Eyes</td>\n",
       "      <td>Black Hair</td>\n",
       "      <td>Male Characters</td>\n",
       "      <td>NaN</td>\n",
       "      <td>Living Characters</td>\n",
       "      <td>1237.0</td>\n",
       "      <td>1940, April</td>\n",
       "      <td>1940.0</td>\n",
       "    </tr>\n",
       "  </tbody>\n",
       "</table>\n",
       "</div>"
      ],
      "text/plain": [
       "   page_id                         name                              urlslug  \\\n",
       "0     1422         Batman (Bruce Wayne)         \\/wiki\\/Batman_(Bruce_Wayne)   \n",
       "1    23387        Superman (Clark Kent)        \\/wiki\\/Superman_(Clark_Kent)   \n",
       "2     1458   Green Lantern (Hal Jordan)   \\/wiki\\/Green_Lantern_(Hal_Jordan)   \n",
       "3     1659     James Gordon (New Earth)     \\/wiki\\/James_Gordon_(New_Earth)   \n",
       "4     1576  Richard Grayson (New Earth)  \\/wiki\\/Richard_Grayson_(New_Earth)   \n",
       "\n",
       "                ID            ALIGN         EYE        HAIR              SEX  \\\n",
       "0  Secret Identity  Good Characters   Blue Eyes  Black Hair  Male Characters   \n",
       "1  Secret Identity  Good Characters   Blue Eyes  Black Hair  Male Characters   \n",
       "2  Secret Identity  Good Characters  Brown Eyes  Brown Hair  Male Characters   \n",
       "3  Public Identity  Good Characters  Brown Eyes  White Hair  Male Characters   \n",
       "4  Secret Identity  Good Characters   Blue Eyes  Black Hair  Male Characters   \n",
       "\n",
       "   GSM              ALIVE  APPEARANCES FIRST APPEARANCE    YEAR  \n",
       "0  NaN  Living Characters       3093.0        1939, May  1939.0  \n",
       "1  NaN  Living Characters       2496.0    1986, October  1986.0  \n",
       "2  NaN  Living Characters       1565.0    1959, October  1959.0  \n",
       "3  NaN  Living Characters       1316.0   1987, February  1987.0  \n",
       "4  NaN  Living Characters       1237.0      1940, April  1940.0  "
      ]
     },
     "execution_count": 6,
     "metadata": {},
     "output_type": "execute_result"
    }
   ],
   "source": [
    "# Print the first five rows of the data\n",
    "my_data.head()"
   ]
  },
  {
   "cell_type": "markdown",
   "id": "5428bc49",
   "metadata": {
    "papermill": {
     "duration": 0.006248,
     "end_time": "2022-12-23T16:32:06.586157",
     "exception": false,
     "start_time": "2022-12-23T16:32:06.579909",
     "status": "completed"
    },
    "tags": []
   },
   "source": [
    "## Step 4: Visualize the data\n",
    "\n",
    "Use the next code cell to create a figure that tells a story behind your dataset.  You can use any chart type (_line chart, bar chart, heatmap, etc_) of your choosing!"
   ]
  },
  {
   "cell_type": "markdown",
   "id": "b79b9320",
   "metadata": {
    "papermill": {
     "duration": 0.006251,
     "end_time": "2022-12-23T16:32:06.598835",
     "exception": false,
     "start_time": "2022-12-23T16:32:06.592584",
     "status": "completed"
    },
    "tags": []
   },
   "source": [
    "$\\small We are plotting the data for how the movies were trending for yearly basis with a lieplot!$\n"
   ]
  },
  {
   "cell_type": "code",
   "execution_count": 7,
   "id": "84efd680",
   "metadata": {
    "execution": {
     "iopub.execute_input": "2022-12-23T16:32:06.613526Z",
     "iopub.status.busy": "2022-12-23T16:32:06.613062Z",
     "iopub.status.idle": "2022-12-23T16:32:09.711805Z",
     "shell.execute_reply": "2022-12-23T16:32:09.710624Z"
    },
    "papermill": {
     "duration": 3.10931,
     "end_time": "2022-12-23T16:32:09.714630",
     "exception": false,
     "start_time": "2022-12-23T16:32:06.605320",
     "status": "completed"
    },
    "tags": []
   },
   "outputs": [
    {
     "data": {
      "text/plain": [
       "<AxesSubplot:xlabel='YEAR'>"
      ]
     },
     "execution_count": 7,
     "metadata": {},
     "output_type": "execute_result"
    },
    {
     "data": {
      "image/png": "[encoded data removed]",
      "text/plain": [
       "<Figure size 1440x720 with 1 Axes>"
      ]
     },
     "metadata": {
      "needs_background": "light"
     },
     "output_type": "display_data"
    }
   ],
   "source": [
    "plt.figure(figsize=(20,10))\n",
    "sns.lineplot(y=my_data.index, x=my_data['YEAR'],hue=my_data['YEAR'])"
   ]
  },
  {
   "cell_type": "code",
   "execution_count": 8,
   "id": "2672c00b",
   "metadata": {
    "execution": {
     "iopub.execute_input": "2022-12-23T16:32:09.730845Z",
     "iopub.status.busy": "2022-12-23T16:32:09.730386Z",
     "iopub.status.idle": "2022-12-23T16:32:10.279236Z",
     "shell.execute_reply": "2022-12-23T16:32:10.277921Z"
    },
    "papermill": {
     "duration": 0.559969,
     "end_time": "2022-12-23T16:32:10.281704",
     "exception": false,
     "start_time": "2022-12-23T16:32:09.721735",
     "status": "completed"
    },
    "tags": []
   },
   "outputs": [
    {
     "data": {
      "text/plain": [
       "<AxesSubplot:ylabel='APPEARANCES'>"
      ]
     },
     "execution_count": 8,
     "metadata": {},
     "output_type": "execute_result"
    },
    {
     "data": {
      "image/png": "[encoded data removed]",
      "text/plain": [
       "<Figure size 2160x720 with 1 Axes>"
      ]
     },
     "metadata": {
      "needs_background": "light"
     },
     "output_type": "display_data"
    }
   ],
   "source": [
    "plt.figure(figsize=(30,10))\n",
    "#sns.lineplot(y=my_data.index, x=my_data['APPEARANCES'])\n",
    "sns.lineplot(data=my_data['APPEARANCES'], label=\"APPEARANCES\")\n",
    "#sns.lineplot(data=my_data['page_id'], label=\"page_id\")"
   ]
  },
  {
   "cell_type": "code",
   "execution_count": 9,
   "id": "f69d78ae",
   "metadata": {
    "execution": {
     "iopub.execute_input": "2022-12-23T16:32:10.298677Z",
     "iopub.status.busy": "2022-12-23T16:32:10.298244Z",
     "iopub.status.idle": "2022-12-23T16:32:11.084519Z",
     "shell.execute_reply": "2022-12-23T16:32:11.083272Z"
    },
    "papermill": {
     "duration": 0.79763,
     "end_time": "2022-12-23T16:32:11.087192",
     "exception": false,
     "start_time": "2022-12-23T16:32:10.289562",
     "status": "completed"
    },
    "tags": []
   },
   "outputs": [
    {
     "data": {
      "image/png": "[encoded data removed]",
      "text/plain": [
       "<Figure size 1440x720 with 1 Axes>"
      ]
     },
     "metadata": {
      "needs_background": "light"
     },
     "output_type": "display_data"
    }
   ],
   "source": [
    "# Create a plot\n",
    "plt.figure(figsize=(20,10))\n",
    "sns.barplot(y=my_data.index, x=my_data['EYE'])\n",
    "plt.show()"
   ]
  },
  {
   "cell_type": "code",
   "execution_count": 10,
   "id": "73927b4d",
   "metadata": {
    "execution": {
     "iopub.execute_input": "2022-12-23T16:32:11.105572Z",
     "iopub.status.busy": "2022-12-23T16:32:11.104473Z",
     "iopub.status.idle": "2022-12-23T16:32:11.908491Z",
     "shell.execute_reply": "2022-12-23T16:32:11.907280Z"
    },
    "papermill": {
     "duration": 0.81565,
     "end_time": "2022-12-23T16:32:11.910876",
     "exception": false,
     "start_time": "2022-12-23T16:32:11.095226",
     "status": "completed"
    },
    "tags": []
   },
   "outputs": [
    {
     "data": {
      "image/png": "[encoded data removed]",
      "text/plain": [
       "<Figure size 1440x720 with 1 Axes>"
      ]
     },
     "metadata": {
      "needs_background": "light"
     },
     "output_type": "display_data"
    }
   ],
   "source": [
    "plt.figure(figsize=(20,10))\n",
    "sns.barplot(y=my_data.index, x=my_data['HAIR'])\n",
    "plt.show()"
   ]
  },
  {
   "cell_type": "code",
   "execution_count": 11,
   "id": "2f2b8b46",
   "metadata": {
    "execution": {
     "iopub.execute_input": "2022-12-23T16:32:11.929617Z",
     "iopub.status.busy": "2022-12-23T16:32:11.928581Z",
     "iopub.status.idle": "2022-12-23T16:32:12.329375Z",
     "shell.execute_reply": "2022-12-23T16:32:12.328192Z"
    },
    "papermill": {
     "duration": 0.412889,
     "end_time": "2022-12-23T16:32:12.331990",
     "exception": false,
     "start_time": "2022-12-23T16:32:11.919101",
     "status": "completed"
    },
    "tags": []
   },
   "outputs": [
    {
     "data": {
      "image/png": "[encoded data removed]",
      "text/plain": [
       "<Figure size 1440x720 with 1 Axes>"
      ]
     },
     "metadata": {
      "needs_background": "light"
     },
     "output_type": "display_data"
    }
   ],
   "source": [
    "plt.figure(figsize=(20,10))\n",
    "sns.barplot(y=my_data.index, x=my_data['SEX'])\n",
    "plt.show()"
   ]
  },
  {
   "cell_type": "code",
   "execution_count": 12,
   "id": "d80ecc9b",
   "metadata": {
    "execution": {
     "iopub.execute_input": "2022-12-23T16:32:12.351579Z",
     "iopub.status.busy": "2022-12-23T16:32:12.350358Z",
     "iopub.status.idle": "2022-12-23T16:32:12.767958Z",
     "shell.execute_reply": "2022-12-23T16:32:12.766663Z"
    },
    "papermill": {
     "duration": 0.430111,
     "end_time": "2022-12-23T16:32:12.770695",
     "exception": false,
     "start_time": "2022-12-23T16:32:12.340584",
     "status": "completed"
    },
    "tags": []
   },
   "outputs": [
    {
     "data": {
      "image/png": "[encoded data removed]",
      "text/plain": [
       "<Figure size 1440x720 with 1 Axes>"
      ]
     },
     "metadata": {
      "needs_background": "light"
     },
     "output_type": "display_data"
    }
   ],
   "source": [
    "plt.figure(figsize=(20,10))\n",
    "sns.barplot(y=my_data.index, x=my_data['ALIGN'])\n",
    "plt.show()"
   ]
  },
  {
   "cell_type": "markdown",
   "id": "d3156a57",
   "metadata": {
    "papermill": {
     "duration": 0.009147,
     "end_time": "2022-12-23T16:32:12.789331",
     "exception": false,
     "start_time": "2022-12-23T16:32:12.780184",
     "status": "completed"
    },
    "tags": []
   },
   "source": [
    "## Keep going\n",
    "\n",
    "Learn how to use your skills after completing the micro-course to create data visualizations in a **[final tutorial](https://www.kaggle.com/alexisbcook/creating-your-own-notebooks)**."
   ]
  },
  {
   "cell_type": "code",
   "execution_count": 13,
   "id": "50b07c1c",
   "metadata": {
    "execution": {
     "iopub.execute_input": "2022-12-23T16:32:12.810261Z",
     "iopub.status.busy": "2022-12-23T16:32:12.809421Z",
     "iopub.status.idle": "2022-12-23T16:32:13.125195Z",
     "shell.execute_reply": "2022-12-23T16:32:13.124318Z"
    },
    "papermill": {
     "duration": 0.328974,
     "end_time": "2022-12-23T16:32:13.127555",
     "exception": false,
     "start_time": "2022-12-23T16:32:12.798581",
     "status": "completed"
    },
    "tags": []
   },
   "outputs": [
    {
     "data": {
      "image/png": "[encoded data removed]",
      "text/plain": [
       "<Figure size 1440x720 with 1 Axes>"
      ]
     },
     "metadata": {
      "needs_background": "light"
     },
     "output_type": "display_data"
    }
   ],
   "source": [
    "plt.figure(figsize=(20,10))\n",
    "sns.barplot(y=my_data.index, x=my_data['ALIVE'])\n",
    "plt.show()"
   ]
  },
  {
   "cell_type": "markdown",
   "id": "1ca96f73",
   "metadata": {
    "papermill": {
     "duration": 0.008978,
     "end_time": "2022-12-23T16:32:13.146147",
     "exception": false,
     "start_time": "2022-12-23T16:32:13.137169",
     "status": "completed"
    },
    "tags": []
   },
   "source": [
    "---\n",
    "\n",
    "\n",
    "\n",
    "\n",
    "*Have questions or comments? Visit the [course discussion forum](https://www.kaggle.com/learn/data-visualization/discussion) to chat with other learners.*"
   ]
  }
 ],
 "metadata": {
  "kernelspec": {
   "display_name": "Python 3",
   "language": "python",
   "name": "python3"
  },
  "language_info": {
   "codemirror_mode": {
    "name": "ipython",
    "version": 3
   },
   "file_extension": ".py",
   "mimetype": "text/x-python",
   "name": "python",
   "nbconvert_exporter": "python",
   "pygments_lexer": "ipython3",
   "version": "3.7.12"
  },
  "papermill": {
   "default_parameters": {},
   "duration": 19.22516,
   "end_time": "2022-12-23T16:32:13.977904",
   "environment_variables": {},
   "exception": null,
   "input_path": "__notebook__.ipynb",
   "output_path": "__notebook__.ipynb",
   "parameters": {},
   "start_time": "2022-12-23T16:31:54.752744",
   "version": "2.3.4"
  }
 },
 "nbformat": 4,
 "nbformat_minor": 5
}
