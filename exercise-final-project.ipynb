{
 "cells": [
  {
   "cell_type": "markdown",
   "id": "c19a7468",
   "metadata": {
    "papermill": {
     "duration": 0.010714,
     "end_time": "2022-12-23T17:28:31.485387",
     "exception": false,
     "start_time": "2022-12-23T17:28:31.474673",
     "status": "completed"
    },
    "tags": []
   },
   "source": [
    "**This notebook is an exercise in the [Data Visualization](https://www.kaggle.com/learn/data-visualization) course.  You can reference the tutorial at [this link](https://www.kaggle.com/alexisbcook/final-project).**\n",
    "\n",
    "---\n"
   ]
  },
  {
   "cell_type": "markdown",
   "id": "a9752d6b",
   "metadata": {
    "papermill": {
     "duration": 0.009046,
     "end_time": "2022-12-23T17:28:31.503951",
     "exception": false,
     "start_time": "2022-12-23T17:28:31.494905",
     "status": "completed"
    },
    "tags": []
   },
   "source": [
    "Now it's time for you to demonstrate your new skills with a project of your own!\n",
    "\n",
    "In this exercise, you will work with a dataset of your choosing.  Once you've selected a dataset, you'll design and create your own plot to tell interesting stories behind the data!\n",
    "\n",
    "## Setup\n",
    "\n",
    "Run the next cell to import and configure the Python libraries that you need to complete the exercise."
   ]
  },
  {
   "cell_type": "code",
   "execution_count": 1,
   "id": "7f0ee5c0",
   "metadata": {
    "execution": {
     "iopub.execute_input": "2022-12-23T17:28:31.524414Z",
     "iopub.status.busy": "2022-12-23T17:28:31.523945Z",
     "iopub.status.idle": "2022-12-23T17:28:32.707086Z",
     "shell.execute_reply": "2022-12-23T17:28:32.705651Z"
    },
    "papermill": {
     "duration": 1.196436,
     "end_time": "2022-12-23T17:28:32.709730",
     "exception": false,
     "start_time": "2022-12-23T17:28:31.513294",
     "status": "completed"
    },
    "tags": []
   },
   "outputs": [
    {
     "name": "stdout",
     "output_type": "stream",
     "text": [
      "Setup Complete\n"
     ]
    }
   ],
   "source": [
    "import pandas as pd\n",
    "pd.plotting.register_matplotlib_converters()\n",
    "import matplotlib.pyplot as plt\n",
    "%matplotlib inline\n",
    "import seaborn as sns\n",
    "print(\"Setup Complete\")"
   ]
  },
  {
   "cell_type": "markdown",
   "id": "a86dac05",
   "metadata": {
    "papermill": {
     "duration": 0.009241,
     "end_time": "2022-12-23T17:28:32.730393",
     "exception": false,
     "start_time": "2022-12-23T17:28:32.721152",
     "status": "completed"
    },
    "tags": []
   },
   "source": [
    "The questions below will give you feedback on your work. Run the following cell to set up the feedback system."
   ]
  },
  {
   "cell_type": "code",
   "execution_count": 2,
   "id": "11b9998c",
   "metadata": {
    "execution": {
     "iopub.execute_input": "2022-12-23T17:28:32.751825Z",
     "iopub.status.busy": "2022-12-23T17:28:32.751147Z",
     "iopub.status.idle": "2022-12-23T17:28:32.796506Z",
     "shell.execute_reply": "2022-12-23T17:28:32.794977Z"
    },
    "papermill": {
     "duration": 0.059413,
     "end_time": "2022-12-23T17:28:32.799414",
     "exception": false,
     "start_time": "2022-12-23T17:28:32.740001",
     "status": "completed"
    },
    "tags": []
   },
   "outputs": [
    {
     "name": "stdout",
     "output_type": "stream",
     "text": [
      "Setup Complete\n"
     ]
    }
   ],
   "source": [
    "# Set up code checking\n",
    "from learntools.core import binder\n",
    "binder.bind(globals())\n",
    "from learntools.data_viz_to_coder.ex7 import *\n",
    "print(\"Setup Complete\")"
   ]
  },
  {
   "cell_type": "markdown",
   "id": "ead8953a",
   "metadata": {
    "papermill": {
     "duration": 0.009953,
     "end_time": "2022-12-23T17:28:32.819802",
     "exception": false,
     "start_time": "2022-12-23T17:28:32.809849",
     "status": "completed"
    },
    "tags": []
   },
   "source": [
    "## Step 1: Attach a dataset to the notebook\n",
    "\n",
    "Begin by selecting a CSV dataset from [Kaggle Datasets](https://www.kaggle.com/datasets).  If you're unsure how to do this, please revisit the instructions in the previous tutorial.\n",
    "\n",
    "Once you have selected a dataset, click on the **[+ Add data]** option in the top right corner.  This will generate a pop-up window that you can use to search for your chosen dataset.  \n",
    "\n",
    "![ex6_search_dataset](https://i.imgur.com/cIIWPUS.png)\n",
    "\n",
    "Once you have found the dataset, click on the **[Add]** button to attach it to the notebook.  You can check that it was successful by looking at the **Data** dropdown menu to the right of the notebook -- look for an **input** folder containing a subfolder that matches the name of the dataset.\n",
    "\n",
    "<center>\n",
    "<img src=\"https://i.imgur.com/nMYc1Nu.png\" width=30%><br/>\n",
    "</center>\n",
    "\n",
    "You can click on the carat to the left of the name of the dataset to double-check that it contains a CSV file.  For instance, the image below shows that the example dataset contains two CSV files: (1) **dc-wikia-data.csv**, and (2) **marvel-wikia-data.csv**.\n",
    "\n",
    "<center>\n",
    "<img src=\"https://i.imgur.com/B4sJkVA.png\" width=30%><br/>\n",
    "</center>\n",
    "\n",
    "Once you've uploaded a dataset with a CSV file, run the code cell below **without changes** to receive credit for your work!"
   ]
  },
  {
   "cell_type": "code",
   "execution_count": 3,
   "id": "a098144d",
   "metadata": {
    "execution": {
     "iopub.execute_input": "2022-12-23T17:28:32.840663Z",
     "iopub.status.busy": "2022-12-23T17:28:32.840238Z",
     "iopub.status.idle": "2022-12-23T17:28:32.857034Z",
     "shell.execute_reply": "2022-12-23T17:28:32.855829Z"
    },
    "papermill": {
     "duration": 0.030109,
     "end_time": "2022-12-23T17:28:32.859471",
     "exception": false,
     "start_time": "2022-12-23T17:28:32.829362",
     "status": "completed"
    },
    "tags": []
   },
   "outputs": [
    {
     "data": {
      "application/javascript": [
       "parent.postMessage({\"jupyterEvent\": \"custom.exercise_interaction\", \"data\": {\"outcomeType\": 1, \"valueTowardsCompletion\": 0.25, \"interactionType\": 1, \"questionType\": 2, \"questionId\": \"1_AttachData\", \"learnToolsVersion\": \"0.3.4\", \"failureMessage\": \"\", \"exceptionClass\": \"\", \"trace\": \"\"}}, \"*\")"
      ],
      "text/plain": [
       "<IPython.core.display.Javascript object>"
      ]
     },
     "metadata": {},
     "output_type": "display_data"
    },
    {
     "data": {
      "text/markdown": [
       "<span style=\"color:#33cc33\">Correct:</span> \n",
       "\n"
      ],
      "text/plain": [
       "Correct: \n"
      ]
     },
     "metadata": {},
     "output_type": "display_data"
    }
   ],
   "source": [
    "# Check for a dataset with a CSV file\n",
    "step_1.check()"
   ]
  },
  {
   "cell_type": "code",
   "execution_count": 4,
   "id": "02e998d2",
   "metadata": {
    "execution": {
     "iopub.execute_input": "2022-12-23T17:28:32.882322Z",
     "iopub.status.busy": "2022-12-23T17:28:32.881380Z",
     "iopub.status.idle": "2022-12-23T17:28:32.891018Z",
     "shell.execute_reply": "2022-12-23T17:28:32.890066Z"
    },
    "papermill": {
     "duration": 0.023232,
     "end_time": "2022-12-23T17:28:32.893200",
     "exception": false,
     "start_time": "2022-12-23T17:28:32.869968",
     "status": "completed"
    },
    "tags": []
   },
   "outputs": [
    {
     "data": {
      "application/javascript": [
       "parent.postMessage({\"jupyterEvent\": \"custom.exercise_interaction\", \"data\": {\"outcomeType\": 4, \"interactionType\": 1, \"questionType\": 2, \"questionId\": \"2_Filepath\", \"learnToolsVersion\": \"0.3.4\", \"valueTowardsCompletion\": 0.0, \"failureMessage\": \"\", \"exceptionClass\": \"\", \"trace\": \"\"}}, \"*\")"
      ],
      "text/plain": [
       "<IPython.core.display.Javascript object>"
      ]
     },
     "metadata": {},
     "output_type": "display_data"
    },
    {
     "data": {
      "text/markdown": [
       "<span style=\"color:#ccaa33\">Check:</span> When you've updated the starter code, `check()` will tell you whether your code is correct. Remember, you must create the following variable: `my_filepath`"
      ],
      "text/plain": [
       "Check: When you've updated the starter code, `check()` will tell you whether your code is correct. Remember, you must create the following variable: `my_filepath`"
      ]
     },
     "metadata": {},
     "output_type": "display_data"
    }
   ],
   "source": [
    "# Fill in the line below: Specify the path of the CSV file to read\n",
    "my_filepath_dc = (\"/kaggle/input/fivethirtyeight-comic-characters-dataset/dc-wikia-data.csv\")\n",
    "my_filepath_marvel = (\"/kaggle/input/fivethirtyeight-comic-characters-dataset/marvel-wikia-data.csv\")\n",
    "# Check for a valid filepath to a CSV file in a dataset\n",
    "step_2.check()"
   ]
  },
  {
   "cell_type": "markdown",
   "id": "efe1bfd9",
   "metadata": {
    "papermill": {
     "duration": 0.01011,
     "end_time": "2022-12-23T17:28:32.914074",
     "exception": false,
     "start_time": "2022-12-23T17:28:32.903964",
     "status": "completed"
    },
    "tags": []
   },
   "source": [
    "## Step 3: Load the data\n",
    "\n",
    "Use the next code cell to load your data file into `my_data`.  Use the filepath that you specified in the previous step."
   ]
  },
  {
   "cell_type": "code",
   "execution_count": 5,
   "id": "d8e526b4",
   "metadata": {
    "execution": {
     "iopub.execute_input": "2022-12-23T17:28:32.936599Z",
     "iopub.status.busy": "2022-12-23T17:28:32.935891Z",
     "iopub.status.idle": "2022-12-23T17:28:33.092480Z",
     "shell.execute_reply": "2022-12-23T17:28:33.091277Z"
    },
    "papermill": {
     "duration": 0.170858,
     "end_time": "2022-12-23T17:28:33.095101",
     "exception": false,
     "start_time": "2022-12-23T17:28:32.924243",
     "status": "completed"
    },
    "tags": []
   },
   "outputs": [
    {
     "data": {
      "application/javascript": [
       "parent.postMessage({\"jupyterEvent\": \"custom.exercise_interaction\", \"data\": {\"outcomeType\": 4, \"interactionType\": 1, \"questionType\": 2, \"questionId\": \"3_LoadData\", \"learnToolsVersion\": \"0.3.4\", \"valueTowardsCompletion\": 0.0, \"failureMessage\": \"\", \"exceptionClass\": \"\", \"trace\": \"\"}}, \"*\")"
      ],
      "text/plain": [
       "<IPython.core.display.Javascript object>"
      ]
     },
     "metadata": {},
     "output_type": "display_data"
    },
    {
     "data": {
      "text/markdown": [
       "<span style=\"color:#ccaa33\">Check:</span> When you've updated the starter code, `check()` will tell you whether your code is correct. Remember, you must create the following variable: `my_data`"
      ],
      "text/plain": [
       "Check: When you've updated the starter code, `check()` will tell you whether your code is correct. Remember, you must create the following variable: `my_data`"
      ]
     },
     "metadata": {},
     "output_type": "display_data"
    }
   ],
   "source": [
    "# Fill in the line below: Read the file into a variable my_data\n",
    "my_data_dc = pd.read_csv(\"/kaggle/input/fivethirtyeight-comic-characters-dataset/dc-wikia-data.csv\")\n",
    "my_data_marvel = pd.read_csv(\"/kaggle/input/fivethirtyeight-comic-characters-dataset/marvel-wikia-data.csv\")\n",
    "# Check that a dataset has been uploaded into my_data\n",
    "step_3.check()"
   ]
  },
  {
   "cell_type": "markdown",
   "id": "0cb0b05a",
   "metadata": {
    "papermill": {
     "duration": 0.010167,
     "end_time": "2022-12-23T17:28:33.115566",
     "exception": false,
     "start_time": "2022-12-23T17:28:33.105399",
     "status": "completed"
    },
    "tags": []
   },
   "source": [
    "**_After the code cell above is marked correct_**, run the code cell below without changes to view the first five rows of the data."
   ]
  },
  {
   "cell_type": "code",
   "execution_count": 6,
   "id": "a195ed11",
   "metadata": {
    "execution": {
     "iopub.execute_input": "2022-12-23T17:28:33.138309Z",
     "iopub.status.busy": "2022-12-23T17:28:33.137503Z",
     "iopub.status.idle": "2022-12-23T17:28:33.162961Z",
     "shell.execute_reply": "2022-12-23T17:28:33.161834Z"
    },
    "papermill": {
     "duration": 0.039699,
     "end_time": "2022-12-23T17:28:33.165434",
     "exception": false,
     "start_time": "2022-12-23T17:28:33.125735",
     "status": "completed"
    },
    "tags": []
   },
   "outputs": [
    {
     "data": {
      "text/html": [
       "<div>\n",
       "<style scoped>\n",
       "    .dataframe tbody tr th:only-of-type {\n",
       "        vertical-align: middle;\n",
       "    }\n",
       "\n",
       "    .dataframe tbody tr th {\n",
       "        vertical-align: top;\n",
       "    }\n",
       "\n",
       "    .dataframe thead th {\n",
       "        text-align: right;\n",
       "    }\n",
       "</style>\n",
       "<table border=\"1\" class=\"dataframe\">\n",
       "  <thead>\n",
       "    <tr style=\"text-align: right;\">\n",
       "      <th></th>\n",
       "      <th>page_id</th>\n",
       "      <th>name</th>\n",
       "      <th>urlslug</th>\n",
       "      <th>ID</th>\n",
       "      <th>ALIGN</th>\n",
       "      <th>EYE</th>\n",
       "      <th>HAIR</th>\n",
       "      <th>SEX</th>\n",
       "      <th>GSM</th>\n",
       "      <th>ALIVE</th>\n",
       "      <th>APPEARANCES</th>\n",
       "      <th>FIRST APPEARANCE</th>\n",
       "      <th>Year</th>\n",
       "    </tr>\n",
       "  </thead>\n",
       "  <tbody>\n",
       "    <tr>\n",
       "      <th>0</th>\n",
       "      <td>1678</td>\n",
       "      <td>Spider-Man (Peter Parker)</td>\n",
       "      <td>\\/Spider-Man_(Peter_Parker)</td>\n",
       "      <td>Secret Identity</td>\n",
       "      <td>Good Characters</td>\n",
       "      <td>Hazel Eyes</td>\n",
       "      <td>Brown Hair</td>\n",
       "      <td>Male Characters</td>\n",
       "      <td>NaN</td>\n",
       "      <td>Living Characters</td>\n",
       "      <td>4043.0</td>\n",
       "      <td>Aug-62</td>\n",
       "      <td>1962.0</td>\n",
       "    </tr>\n",
       "    <tr>\n",
       "      <th>1</th>\n",
       "      <td>7139</td>\n",
       "      <td>Captain America (Steven Rogers)</td>\n",
       "      <td>\\/Captain_America_(Steven_Rogers)</td>\n",
       "      <td>Public Identity</td>\n",
       "      <td>Good Characters</td>\n",
       "      <td>Blue Eyes</td>\n",
       "      <td>White Hair</td>\n",
       "      <td>Male Characters</td>\n",
       "      <td>NaN</td>\n",
       "      <td>Living Characters</td>\n",
       "      <td>3360.0</td>\n",
       "      <td>Mar-41</td>\n",
       "      <td>1941.0</td>\n",
       "    </tr>\n",
       "    <tr>\n",
       "      <th>2</th>\n",
       "      <td>64786</td>\n",
       "      <td>Wolverine (James \\\"Logan\\\" Howlett)</td>\n",
       "      <td>\\/Wolverine_(James_%22Logan%22_Howlett)</td>\n",
       "      <td>Public Identity</td>\n",
       "      <td>Neutral Characters</td>\n",
       "      <td>Blue Eyes</td>\n",
       "      <td>Black Hair</td>\n",
       "      <td>Male Characters</td>\n",
       "      <td>NaN</td>\n",
       "      <td>Living Characters</td>\n",
       "      <td>3061.0</td>\n",
       "      <td>Oct-74</td>\n",
       "      <td>1974.0</td>\n",
       "    </tr>\n",
       "    <tr>\n",
       "      <th>3</th>\n",
       "      <td>1868</td>\n",
       "      <td>Iron Man (Anthony \\\"Tony\\\" Stark)</td>\n",
       "      <td>\\/Iron_Man_(Anthony_%22Tony%22_Stark)</td>\n",
       "      <td>Public Identity</td>\n",
       "      <td>Good Characters</td>\n",
       "      <td>Blue Eyes</td>\n",
       "      <td>Black Hair</td>\n",
       "      <td>Male Characters</td>\n",
       "      <td>NaN</td>\n",
       "      <td>Living Characters</td>\n",
       "      <td>2961.0</td>\n",
       "      <td>Mar-63</td>\n",
       "      <td>1963.0</td>\n",
       "    </tr>\n",
       "    <tr>\n",
       "      <th>4</th>\n",
       "      <td>2460</td>\n",
       "      <td>Thor (Thor Odinson)</td>\n",
       "      <td>\\/Thor_(Thor_Odinson)</td>\n",
       "      <td>No Dual Identity</td>\n",
       "      <td>Good Characters</td>\n",
       "      <td>Blue Eyes</td>\n",
       "      <td>Blond Hair</td>\n",
       "      <td>Male Characters</td>\n",
       "      <td>NaN</td>\n",
       "      <td>Living Characters</td>\n",
       "      <td>2258.0</td>\n",
       "      <td>Nov-50</td>\n",
       "      <td>1950.0</td>\n",
       "    </tr>\n",
       "  </tbody>\n",
       "</table>\n",
       "</div>"
      ],
      "text/plain": [
       "   page_id                                 name  \\\n",
       "0     1678            Spider-Man (Peter Parker)   \n",
       "1     7139      Captain America (Steven Rogers)   \n",
       "2    64786  Wolverine (James \\\"Logan\\\" Howlett)   \n",
       "3     1868    Iron Man (Anthony \\\"Tony\\\" Stark)   \n",
       "4     2460                  Thor (Thor Odinson)   \n",
       "\n",
       "                                   urlslug                ID  \\\n",
       "0              \\/Spider-Man_(Peter_Parker)   Secret Identity   \n",
       "1        \\/Captain_America_(Steven_Rogers)   Public Identity   \n",
       "2  \\/Wolverine_(James_%22Logan%22_Howlett)   Public Identity   \n",
       "3    \\/Iron_Man_(Anthony_%22Tony%22_Stark)   Public Identity   \n",
       "4                    \\/Thor_(Thor_Odinson)  No Dual Identity   \n",
       "\n",
       "                ALIGN         EYE        HAIR              SEX  GSM  \\\n",
       "0     Good Characters  Hazel Eyes  Brown Hair  Male Characters  NaN   \n",
       "1     Good Characters   Blue Eyes  White Hair  Male Characters  NaN   \n",
       "2  Neutral Characters   Blue Eyes  Black Hair  Male Characters  NaN   \n",
       "3     Good Characters   Blue Eyes  Black Hair  Male Characters  NaN   \n",
       "4     Good Characters   Blue Eyes  Blond Hair  Male Characters  NaN   \n",
       "\n",
       "               ALIVE  APPEARANCES FIRST APPEARANCE    Year  \n",
       "0  Living Characters       4043.0           Aug-62  1962.0  \n",
       "1  Living Characters       3360.0           Mar-41  1941.0  \n",
       "2  Living Characters       3061.0           Oct-74  1974.0  \n",
       "3  Living Characters       2961.0           Mar-63  1963.0  \n",
       "4  Living Characters       2258.0           Nov-50  1950.0  "
      ]
     },
     "execution_count": 6,
     "metadata": {},
     "output_type": "execute_result"
    }
   ],
   "source": [
    "# Print the first five rows of the data\n",
    "my_data_dc.head()\n",
    "my_data_marvel.head()"
   ]
  },
  {
   "cell_type": "markdown",
   "id": "d4e41bfa",
   "metadata": {
    "papermill": {
     "duration": 0.010365,
     "end_time": "2022-12-23T17:28:33.186636",
     "exception": false,
     "start_time": "2022-12-23T17:28:33.176271",
     "status": "completed"
    },
    "tags": []
   },
   "source": [
    "## Step 4: Visualize the data\n",
    "\n",
    "Use the next code cell to create a figure that tells a story behind your dataset.  You can use any chart type (_line chart, bar chart, heatmap, etc_) of your choosing!"
   ]
  },
  {
   "cell_type": "code",
   "execution_count": 7,
   "id": "0b471ca4",
   "metadata": {
    "execution": {
     "iopub.execute_input": "2022-12-23T17:28:33.210111Z",
     "iopub.status.busy": "2022-12-23T17:28:33.209353Z",
     "iopub.status.idle": "2022-12-23T17:28:33.232108Z",
     "shell.execute_reply": "2022-12-23T17:28:33.230832Z"
    },
    "papermill": {
     "duration": 0.037338,
     "end_time": "2022-12-23T17:28:33.234514",
     "exception": false,
     "start_time": "2022-12-23T17:28:33.197176",
     "status": "completed"
    },
    "tags": []
   },
   "outputs": [
    {
     "data": {
      "text/plain": [
       "page_id                 0\n",
       "name                    0\n",
       "urlslug                 0\n",
       "ID                   3770\n",
       "ALIGN                2812\n",
       "EYE                  9767\n",
       "HAIR                 4264\n",
       "SEX                   854\n",
       "GSM                 16286\n",
       "ALIVE                   3\n",
       "APPEARANCES          1096\n",
       "FIRST APPEARANCE      815\n",
       "Year                  815\n",
       "dtype: int64"
      ]
     },
     "execution_count": 7,
     "metadata": {},
     "output_type": "execute_result"
    }
   ],
   "source": [
    "my_data_dc.isna().sum()\n",
    "my_data_marvel.isna().sum()"
   ]
  },
  {
   "cell_type": "code",
   "execution_count": 8,
   "id": "99bb4980",
   "metadata": {
    "execution": {
     "iopub.execute_input": "2022-12-23T17:28:33.259239Z",
     "iopub.status.busy": "2022-12-23T17:28:33.258841Z",
     "iopub.status.idle": "2022-12-23T17:28:33.284186Z",
     "shell.execute_reply": "2022-12-23T17:28:33.283096Z"
    },
    "papermill": {
     "duration": 0.040695,
     "end_time": "2022-12-23T17:28:33.286559",
     "exception": false,
     "start_time": "2022-12-23T17:28:33.245864",
     "status": "completed"
    },
    "tags": []
   },
   "outputs": [
    {
     "data": {
      "text/html": [
       "<div>\n",
       "<style scoped>\n",
       "    .dataframe tbody tr th:only-of-type {\n",
       "        vertical-align: middle;\n",
       "    }\n",
       "\n",
       "    .dataframe tbody tr th {\n",
       "        vertical-align: top;\n",
       "    }\n",
       "\n",
       "    .dataframe thead th {\n",
       "        text-align: right;\n",
       "    }\n",
       "</style>\n",
       "<table border=\"1\" class=\"dataframe\">\n",
       "  <thead>\n",
       "    <tr style=\"text-align: right;\">\n",
       "      <th></th>\n",
       "      <th>name</th>\n",
       "      <th>ID</th>\n",
       "      <th>ALIGN</th>\n",
       "      <th>EYE</th>\n",
       "      <th>HAIR</th>\n",
       "      <th>SEX</th>\n",
       "      <th>ALIVE</th>\n",
       "      <th>APPEARANCES</th>\n",
       "      <th>FIRST APPEARANCE</th>\n",
       "    </tr>\n",
       "  </thead>\n",
       "  <tbody>\n",
       "    <tr>\n",
       "      <th>0</th>\n",
       "      <td>Batman (Bruce Wayne)</td>\n",
       "      <td>Secret Identity</td>\n",
       "      <td>Good Characters</td>\n",
       "      <td>Blue Eyes</td>\n",
       "      <td>Black Hair</td>\n",
       "      <td>Male Characters</td>\n",
       "      <td>Living Characters</td>\n",
       "      <td>3093.0</td>\n",
       "      <td>1939, May</td>\n",
       "    </tr>\n",
       "    <tr>\n",
       "      <th>1</th>\n",
       "      <td>Superman (Clark Kent)</td>\n",
       "      <td>Secret Identity</td>\n",
       "      <td>Good Characters</td>\n",
       "      <td>Blue Eyes</td>\n",
       "      <td>Black Hair</td>\n",
       "      <td>Male Characters</td>\n",
       "      <td>Living Characters</td>\n",
       "      <td>2496.0</td>\n",
       "      <td>1986, October</td>\n",
       "    </tr>\n",
       "    <tr>\n",
       "      <th>2</th>\n",
       "      <td>Green Lantern (Hal Jordan)</td>\n",
       "      <td>Secret Identity</td>\n",
       "      <td>Good Characters</td>\n",
       "      <td>Brown Eyes</td>\n",
       "      <td>Brown Hair</td>\n",
       "      <td>Male Characters</td>\n",
       "      <td>Living Characters</td>\n",
       "      <td>1565.0</td>\n",
       "      <td>1959, October</td>\n",
       "    </tr>\n",
       "    <tr>\n",
       "      <th>3</th>\n",
       "      <td>James Gordon (New Earth)</td>\n",
       "      <td>Public Identity</td>\n",
       "      <td>Good Characters</td>\n",
       "      <td>Brown Eyes</td>\n",
       "      <td>White Hair</td>\n",
       "      <td>Male Characters</td>\n",
       "      <td>Living Characters</td>\n",
       "      <td>1316.0</td>\n",
       "      <td>1987, February</td>\n",
       "    </tr>\n",
       "    <tr>\n",
       "      <th>4</th>\n",
       "      <td>Richard Grayson (New Earth)</td>\n",
       "      <td>Secret Identity</td>\n",
       "      <td>Good Characters</td>\n",
       "      <td>Blue Eyes</td>\n",
       "      <td>Black Hair</td>\n",
       "      <td>Male Characters</td>\n",
       "      <td>Living Characters</td>\n",
       "      <td>1237.0</td>\n",
       "      <td>1940, April</td>\n",
       "    </tr>\n",
       "  </tbody>\n",
       "</table>\n",
       "</div>"
      ],
      "text/plain": [
       "                          name               ID            ALIGN         EYE  \\\n",
       "0         Batman (Bruce Wayne)  Secret Identity  Good Characters   Blue Eyes   \n",
       "1        Superman (Clark Kent)  Secret Identity  Good Characters   Blue Eyes   \n",
       "2   Green Lantern (Hal Jordan)  Secret Identity  Good Characters  Brown Eyes   \n",
       "3     James Gordon (New Earth)  Public Identity  Good Characters  Brown Eyes   \n",
       "4  Richard Grayson (New Earth)  Secret Identity  Good Characters   Blue Eyes   \n",
       "\n",
       "         HAIR              SEX              ALIVE  APPEARANCES  \\\n",
       "0  Black Hair  Male Characters  Living Characters       3093.0   \n",
       "1  Black Hair  Male Characters  Living Characters       2496.0   \n",
       "2  Brown Hair  Male Characters  Living Characters       1565.0   \n",
       "3  White Hair  Male Characters  Living Characters       1316.0   \n",
       "4  Black Hair  Male Characters  Living Characters       1237.0   \n",
       "\n",
       "  FIRST APPEARANCE  \n",
       "0        1939, May  \n",
       "1    1986, October  \n",
       "2    1959, October  \n",
       "3   1987, February  \n",
       "4      1940, April  "
      ]
     },
     "execution_count": 8,
     "metadata": {},
     "output_type": "execute_result"
    }
   ],
   "source": [
    "columns=['page_id','urlslug','GSM','YEAR']\n",
    "my_data_dc=my_data_dc.drop(columns,axis=1)\n",
    "my_data_dc.head()\n"
   ]
  },
  {
   "cell_type": "code",
   "execution_count": 9,
   "id": "64ee812a",
   "metadata": {
    "execution": {
     "iopub.execute_input": "2022-12-23T17:28:33.310190Z",
     "iopub.status.busy": "2022-12-23T17:28:33.309803Z",
     "iopub.status.idle": "2022-12-23T17:28:33.330713Z",
     "shell.execute_reply": "2022-12-23T17:28:33.329622Z"
    },
    "papermill": {
     "duration": 0.035733,
     "end_time": "2022-12-23T17:28:33.333172",
     "exception": false,
     "start_time": "2022-12-23T17:28:33.297439",
     "status": "completed"
    },
    "tags": []
   },
   "outputs": [
    {
     "data": {
      "text/html": [
       "<div>\n",
       "<style scoped>\n",
       "    .dataframe tbody tr th:only-of-type {\n",
       "        vertical-align: middle;\n",
       "    }\n",
       "\n",
       "    .dataframe tbody tr th {\n",
       "        vertical-align: top;\n",
       "    }\n",
       "\n",
       "    .dataframe thead th {\n",
       "        text-align: right;\n",
       "    }\n",
       "</style>\n",
       "<table border=\"1\" class=\"dataframe\">\n",
       "  <thead>\n",
       "    <tr style=\"text-align: right;\">\n",
       "      <th></th>\n",
       "      <th>page_id</th>\n",
       "      <th>name</th>\n",
       "      <th>urlslug</th>\n",
       "      <th>ID</th>\n",
       "      <th>ALIGN</th>\n",
       "      <th>EYE</th>\n",
       "      <th>HAIR</th>\n",
       "      <th>SEX</th>\n",
       "      <th>GSM</th>\n",
       "      <th>ALIVE</th>\n",
       "      <th>APPEARANCES</th>\n",
       "      <th>FIRST APPEARANCE</th>\n",
       "    </tr>\n",
       "  </thead>\n",
       "  <tbody>\n",
       "    <tr>\n",
       "      <th>0</th>\n",
       "      <td>1678</td>\n",
       "      <td>Spider-Man (Peter Parker)</td>\n",
       "      <td>\\/Spider-Man_(Peter_Parker)</td>\n",
       "      <td>Secret Identity</td>\n",
       "      <td>Good Characters</td>\n",
       "      <td>Hazel Eyes</td>\n",
       "      <td>Brown Hair</td>\n",
       "      <td>Male Characters</td>\n",
       "      <td>NaN</td>\n",
       "      <td>Living Characters</td>\n",
       "      <td>4043.0</td>\n",
       "      <td>Aug-62</td>\n",
       "    </tr>\n",
       "    <tr>\n",
       "      <th>1</th>\n",
       "      <td>7139</td>\n",
       "      <td>Captain America (Steven Rogers)</td>\n",
       "      <td>\\/Captain_America_(Steven_Rogers)</td>\n",
       "      <td>Public Identity</td>\n",
       "      <td>Good Characters</td>\n",
       "      <td>Blue Eyes</td>\n",
       "      <td>White Hair</td>\n",
       "      <td>Male Characters</td>\n",
       "      <td>NaN</td>\n",
       "      <td>Living Characters</td>\n",
       "      <td>3360.0</td>\n",
       "      <td>Mar-41</td>\n",
       "    </tr>\n",
       "    <tr>\n",
       "      <th>2</th>\n",
       "      <td>64786</td>\n",
       "      <td>Wolverine (James \\\"Logan\\\" Howlett)</td>\n",
       "      <td>\\/Wolverine_(James_%22Logan%22_Howlett)</td>\n",
       "      <td>Public Identity</td>\n",
       "      <td>Neutral Characters</td>\n",
       "      <td>Blue Eyes</td>\n",
       "      <td>Black Hair</td>\n",
       "      <td>Male Characters</td>\n",
       "      <td>NaN</td>\n",
       "      <td>Living Characters</td>\n",
       "      <td>3061.0</td>\n",
       "      <td>Oct-74</td>\n",
       "    </tr>\n",
       "    <tr>\n",
       "      <th>3</th>\n",
       "      <td>1868</td>\n",
       "      <td>Iron Man (Anthony \\\"Tony\\\" Stark)</td>\n",
       "      <td>\\/Iron_Man_(Anthony_%22Tony%22_Stark)</td>\n",
       "      <td>Public Identity</td>\n",
       "      <td>Good Characters</td>\n",
       "      <td>Blue Eyes</td>\n",
       "      <td>Black Hair</td>\n",
       "      <td>Male Characters</td>\n",
       "      <td>NaN</td>\n",
       "      <td>Living Characters</td>\n",
       "      <td>2961.0</td>\n",
       "      <td>Mar-63</td>\n",
       "    </tr>\n",
       "    <tr>\n",
       "      <th>4</th>\n",
       "      <td>2460</td>\n",
       "      <td>Thor (Thor Odinson)</td>\n",
       "      <td>\\/Thor_(Thor_Odinson)</td>\n",
       "      <td>No Dual Identity</td>\n",
       "      <td>Good Characters</td>\n",
       "      <td>Blue Eyes</td>\n",
       "      <td>Blond Hair</td>\n",
       "      <td>Male Characters</td>\n",
       "      <td>NaN</td>\n",
       "      <td>Living Characters</td>\n",
       "      <td>2258.0</td>\n",
       "      <td>Nov-50</td>\n",
       "    </tr>\n",
       "  </tbody>\n",
       "</table>\n",
       "</div>"
      ],
      "text/plain": [
       "   page_id                                 name  \\\n",
       "0     1678            Spider-Man (Peter Parker)   \n",
       "1     7139      Captain America (Steven Rogers)   \n",
       "2    64786  Wolverine (James \\\"Logan\\\" Howlett)   \n",
       "3     1868    Iron Man (Anthony \\\"Tony\\\" Stark)   \n",
       "4     2460                  Thor (Thor Odinson)   \n",
       "\n",
       "                                   urlslug                ID  \\\n",
       "0              \\/Spider-Man_(Peter_Parker)   Secret Identity   \n",
       "1        \\/Captain_America_(Steven_Rogers)   Public Identity   \n",
       "2  \\/Wolverine_(James_%22Logan%22_Howlett)   Public Identity   \n",
       "3    \\/Iron_Man_(Anthony_%22Tony%22_Stark)   Public Identity   \n",
       "4                    \\/Thor_(Thor_Odinson)  No Dual Identity   \n",
       "\n",
       "                ALIGN         EYE        HAIR              SEX  GSM  \\\n",
       "0     Good Characters  Hazel Eyes  Brown Hair  Male Characters  NaN   \n",
       "1     Good Characters   Blue Eyes  White Hair  Male Characters  NaN   \n",
       "2  Neutral Characters   Blue Eyes  Black Hair  Male Characters  NaN   \n",
       "3     Good Characters   Blue Eyes  Black Hair  Male Characters  NaN   \n",
       "4     Good Characters   Blue Eyes  Blond Hair  Male Characters  NaN   \n",
       "\n",
       "               ALIVE  APPEARANCES FIRST APPEARANCE  \n",
       "0  Living Characters       4043.0           Aug-62  \n",
       "1  Living Characters       3360.0           Mar-41  \n",
       "2  Living Characters       3061.0           Oct-74  \n",
       "3  Living Characters       2961.0           Mar-63  \n",
       "4  Living Characters       2258.0           Nov-50  "
      ]
     },
     "execution_count": 9,
     "metadata": {},
     "output_type": "execute_result"
    }
   ],
   "source": [
    "columns=['Year']\n",
    "my_data_marvel=my_data_marvel.drop(columns,axis=1)\n",
    "my_data_marvel.head()"
   ]
  },
  {
   "cell_type": "code",
   "execution_count": 10,
   "id": "ec306bb2",
   "metadata": {
    "execution": {
     "iopub.execute_input": "2022-12-23T17:28:33.357609Z",
     "iopub.status.busy": "2022-12-23T17:28:33.357235Z",
     "iopub.status.idle": "2022-12-23T17:28:33.371871Z",
     "shell.execute_reply": "2022-12-23T17:28:33.370972Z"
    },
    "papermill": {
     "duration": 0.029851,
     "end_time": "2022-12-23T17:28:33.374297",
     "exception": false,
     "start_time": "2022-12-23T17:28:33.344446",
     "status": "completed"
    },
    "tags": []
   },
   "outputs": [],
   "source": [
    "my_data_dc=my_data_dc.dropna(subset=['FIRST APPEARANCE'])\n",
    "my_data_marvel=my_data_marvel.dropna(subset=['FIRST APPEARANCE'])\n"
   ]
  },
  {
   "cell_type": "code",
   "execution_count": 11,
   "id": "bc8d6ea5",
   "metadata": {
    "execution": {
     "iopub.execute_input": "2022-12-23T17:28:33.398574Z",
     "iopub.status.busy": "2022-12-23T17:28:33.398205Z",
     "iopub.status.idle": "2022-12-23T17:28:33.447132Z",
     "shell.execute_reply": "2022-12-23T17:28:33.446126Z"
    },
    "papermill": {
     "duration": 0.064731,
     "end_time": "2022-12-23T17:28:33.450341",
     "exception": false,
     "start_time": "2022-12-23T17:28:33.385610",
     "status": "completed"
    },
    "tags": []
   },
   "outputs": [],
   "source": [
    "my_data_marvel[['MONTH','YEAR']] = my_data_marvel['FIRST APPEARANCE'].str.split('-', expand=True)\n",
    "my_data_dc[['YEAR','MONTH']] = my_data_dc['FIRST APPEARANCE'].str.split(', ', expand=True)"
   ]
  },
  {
   "cell_type": "code",
   "execution_count": 12,
   "id": "ca9fa463",
   "metadata": {
    "execution": {
     "iopub.execute_input": "2022-12-23T17:28:33.475621Z",
     "iopub.status.busy": "2022-12-23T17:28:33.474395Z",
     "iopub.status.idle": "2022-12-23T17:28:33.496804Z",
     "shell.execute_reply": "2022-12-23T17:28:33.495435Z"
    },
    "papermill": {
     "duration": 0.037385,
     "end_time": "2022-12-23T17:28:33.499445",
     "exception": false,
     "start_time": "2022-12-23T17:28:33.462060",
     "status": "completed"
    },
    "tags": []
   },
   "outputs": [
    {
     "data": {
      "text/html": [
       "<div>\n",
       "<style scoped>\n",
       "    .dataframe tbody tr th:only-of-type {\n",
       "        vertical-align: middle;\n",
       "    }\n",
       "\n",
       "    .dataframe tbody tr th {\n",
       "        vertical-align: top;\n",
       "    }\n",
       "\n",
       "    .dataframe thead th {\n",
       "        text-align: right;\n",
       "    }\n",
       "</style>\n",
       "<table border=\"1\" class=\"dataframe\">\n",
       "  <thead>\n",
       "    <tr style=\"text-align: right;\">\n",
       "      <th></th>\n",
       "      <th>page_id</th>\n",
       "      <th>name</th>\n",
       "      <th>urlslug</th>\n",
       "      <th>ID</th>\n",
       "      <th>ALIGN</th>\n",
       "      <th>EYE</th>\n",
       "      <th>HAIR</th>\n",
       "      <th>SEX</th>\n",
       "      <th>GSM</th>\n",
       "      <th>ALIVE</th>\n",
       "      <th>APPEARANCES</th>\n",
       "      <th>FIRST APPEARANCE</th>\n",
       "      <th>MONTH</th>\n",
       "      <th>YEAR</th>\n",
       "    </tr>\n",
       "  </thead>\n",
       "  <tbody>\n",
       "    <tr>\n",
       "      <th>0</th>\n",
       "      <td>1678</td>\n",
       "      <td>Spider-Man (Peter Parker)</td>\n",
       "      <td>\\/Spider-Man_(Peter_Parker)</td>\n",
       "      <td>Secret Identity</td>\n",
       "      <td>Good Characters</td>\n",
       "      <td>Hazel Eyes</td>\n",
       "      <td>Brown Hair</td>\n",
       "      <td>Male Characters</td>\n",
       "      <td>NaN</td>\n",
       "      <td>Living Characters</td>\n",
       "      <td>4043.0</td>\n",
       "      <td>Aug-62</td>\n",
       "      <td>Aug</td>\n",
       "      <td>62</td>\n",
       "    </tr>\n",
       "    <tr>\n",
       "      <th>1</th>\n",
       "      <td>7139</td>\n",
       "      <td>Captain America (Steven Rogers)</td>\n",
       "      <td>\\/Captain_America_(Steven_Rogers)</td>\n",
       "      <td>Public Identity</td>\n",
       "      <td>Good Characters</td>\n",
       "      <td>Blue Eyes</td>\n",
       "      <td>White Hair</td>\n",
       "      <td>Male Characters</td>\n",
       "      <td>NaN</td>\n",
       "      <td>Living Characters</td>\n",
       "      <td>3360.0</td>\n",
       "      <td>Mar-41</td>\n",
       "      <td>Mar</td>\n",
       "      <td>41</td>\n",
       "    </tr>\n",
       "    <tr>\n",
       "      <th>2</th>\n",
       "      <td>64786</td>\n",
       "      <td>Wolverine (James \\\"Logan\\\" Howlett)</td>\n",
       "      <td>\\/Wolverine_(James_%22Logan%22_Howlett)</td>\n",
       "      <td>Public Identity</td>\n",
       "      <td>Neutral Characters</td>\n",
       "      <td>Blue Eyes</td>\n",
       "      <td>Black Hair</td>\n",
       "      <td>Male Characters</td>\n",
       "      <td>NaN</td>\n",
       "      <td>Living Characters</td>\n",
       "      <td>3061.0</td>\n",
       "      <td>Oct-74</td>\n",
       "      <td>Oct</td>\n",
       "      <td>74</td>\n",
       "    </tr>\n",
       "    <tr>\n",
       "      <th>3</th>\n",
       "      <td>1868</td>\n",
       "      <td>Iron Man (Anthony \\\"Tony\\\" Stark)</td>\n",
       "      <td>\\/Iron_Man_(Anthony_%22Tony%22_Stark)</td>\n",
       "      <td>Public Identity</td>\n",
       "      <td>Good Characters</td>\n",
       "      <td>Blue Eyes</td>\n",
       "      <td>Black Hair</td>\n",
       "      <td>Male Characters</td>\n",
       "      <td>NaN</td>\n",
       "      <td>Living Characters</td>\n",
       "      <td>2961.0</td>\n",
       "      <td>Mar-63</td>\n",
       "      <td>Mar</td>\n",
       "      <td>63</td>\n",
       "    </tr>\n",
       "    <tr>\n",
       "      <th>4</th>\n",
       "      <td>2460</td>\n",
       "      <td>Thor (Thor Odinson)</td>\n",
       "      <td>\\/Thor_(Thor_Odinson)</td>\n",
       "      <td>No Dual Identity</td>\n",
       "      <td>Good Characters</td>\n",
       "      <td>Blue Eyes</td>\n",
       "      <td>Blond Hair</td>\n",
       "      <td>Male Characters</td>\n",
       "      <td>NaN</td>\n",
       "      <td>Living Characters</td>\n",
       "      <td>2258.0</td>\n",
       "      <td>Nov-50</td>\n",
       "      <td>Nov</td>\n",
       "      <td>50</td>\n",
       "    </tr>\n",
       "  </tbody>\n",
       "</table>\n",
       "</div>"
      ],
      "text/plain": [
       "   page_id                                 name  \\\n",
       "0     1678            Spider-Man (Peter Parker)   \n",
       "1     7139      Captain America (Steven Rogers)   \n",
       "2    64786  Wolverine (James \\\"Logan\\\" Howlett)   \n",
       "3     1868    Iron Man (Anthony \\\"Tony\\\" Stark)   \n",
       "4     2460                  Thor (Thor Odinson)   \n",
       "\n",
       "                                   urlslug                ID  \\\n",
       "0              \\/Spider-Man_(Peter_Parker)   Secret Identity   \n",
       "1        \\/Captain_America_(Steven_Rogers)   Public Identity   \n",
       "2  \\/Wolverine_(James_%22Logan%22_Howlett)   Public Identity   \n",
       "3    \\/Iron_Man_(Anthony_%22Tony%22_Stark)   Public Identity   \n",
       "4                    \\/Thor_(Thor_Odinson)  No Dual Identity   \n",
       "\n",
       "                ALIGN         EYE        HAIR              SEX  GSM  \\\n",
       "0     Good Characters  Hazel Eyes  Brown Hair  Male Characters  NaN   \n",
       "1     Good Characters   Blue Eyes  White Hair  Male Characters  NaN   \n",
       "2  Neutral Characters   Blue Eyes  Black Hair  Male Characters  NaN   \n",
       "3     Good Characters   Blue Eyes  Black Hair  Male Characters  NaN   \n",
       "4     Good Characters   Blue Eyes  Blond Hair  Male Characters  NaN   \n",
       "\n",
       "               ALIVE  APPEARANCES FIRST APPEARANCE MONTH YEAR  \n",
       "0  Living Characters       4043.0           Aug-62   Aug   62  \n",
       "1  Living Characters       3360.0           Mar-41   Mar   41  \n",
       "2  Living Characters       3061.0           Oct-74   Oct   74  \n",
       "3  Living Characters       2961.0           Mar-63   Mar   63  \n",
       "4  Living Characters       2258.0           Nov-50   Nov   50  "
      ]
     },
     "execution_count": 12,
     "metadata": {},
     "output_type": "execute_result"
    }
   ],
   "source": [
    "my_data_marvel.head()"
   ]
  },
  {
   "cell_type": "code",
   "execution_count": 13,
   "id": "a3d21266",
   "metadata": {
    "execution": {
     "iopub.execute_input": "2022-12-23T17:28:33.524718Z",
     "iopub.status.busy": "2022-12-23T17:28:33.523951Z",
     "iopub.status.idle": "2022-12-23T17:28:33.541195Z",
     "shell.execute_reply": "2022-12-23T17:28:33.539774Z"
    },
    "papermill": {
     "duration": 0.032683,
     "end_time": "2022-12-23T17:28:33.543703",
     "exception": false,
     "start_time": "2022-12-23T17:28:33.511020",
     "status": "completed"
    },
    "tags": []
   },
   "outputs": [
    {
     "data": {
      "text/html": [
       "<div>\n",
       "<style scoped>\n",
       "    .dataframe tbody tr th:only-of-type {\n",
       "        vertical-align: middle;\n",
       "    }\n",
       "\n",
       "    .dataframe tbody tr th {\n",
       "        vertical-align: top;\n",
       "    }\n",
       "\n",
       "    .dataframe thead th {\n",
       "        text-align: right;\n",
       "    }\n",
       "</style>\n",
       "<table border=\"1\" class=\"dataframe\">\n",
       "  <thead>\n",
       "    <tr style=\"text-align: right;\">\n",
       "      <th></th>\n",
       "      <th>name</th>\n",
       "      <th>ID</th>\n",
       "      <th>ALIGN</th>\n",
       "      <th>EYE</th>\n",
       "      <th>HAIR</th>\n",
       "      <th>SEX</th>\n",
       "      <th>ALIVE</th>\n",
       "      <th>APPEARANCES</th>\n",
       "      <th>FIRST APPEARANCE</th>\n",
       "      <th>YEAR</th>\n",
       "      <th>MONTH</th>\n",
       "    </tr>\n",
       "  </thead>\n",
       "  <tbody>\n",
       "    <tr>\n",
       "      <th>0</th>\n",
       "      <td>Batman (Bruce Wayne)</td>\n",
       "      <td>Secret Identity</td>\n",
       "      <td>Good Characters</td>\n",
       "      <td>Blue Eyes</td>\n",
       "      <td>Black Hair</td>\n",
       "      <td>Male Characters</td>\n",
       "      <td>Living Characters</td>\n",
       "      <td>3093.0</td>\n",
       "      <td>1939, May</td>\n",
       "      <td>1939</td>\n",
       "      <td>May</td>\n",
       "    </tr>\n",
       "    <tr>\n",
       "      <th>1</th>\n",
       "      <td>Superman (Clark Kent)</td>\n",
       "      <td>Secret Identity</td>\n",
       "      <td>Good Characters</td>\n",
       "      <td>Blue Eyes</td>\n",
       "      <td>Black Hair</td>\n",
       "      <td>Male Characters</td>\n",
       "      <td>Living Characters</td>\n",
       "      <td>2496.0</td>\n",
       "      <td>1986, October</td>\n",
       "      <td>1986</td>\n",
       "      <td>October</td>\n",
       "    </tr>\n",
       "    <tr>\n",
       "      <th>2</th>\n",
       "      <td>Green Lantern (Hal Jordan)</td>\n",
       "      <td>Secret Identity</td>\n",
       "      <td>Good Characters</td>\n",
       "      <td>Brown Eyes</td>\n",
       "      <td>Brown Hair</td>\n",
       "      <td>Male Characters</td>\n",
       "      <td>Living Characters</td>\n",
       "      <td>1565.0</td>\n",
       "      <td>1959, October</td>\n",
       "      <td>1959</td>\n",
       "      <td>October</td>\n",
       "    </tr>\n",
       "    <tr>\n",
       "      <th>3</th>\n",
       "      <td>James Gordon (New Earth)</td>\n",
       "      <td>Public Identity</td>\n",
       "      <td>Good Characters</td>\n",
       "      <td>Brown Eyes</td>\n",
       "      <td>White Hair</td>\n",
       "      <td>Male Characters</td>\n",
       "      <td>Living Characters</td>\n",
       "      <td>1316.0</td>\n",
       "      <td>1987, February</td>\n",
       "      <td>1987</td>\n",
       "      <td>February</td>\n",
       "    </tr>\n",
       "    <tr>\n",
       "      <th>4</th>\n",
       "      <td>Richard Grayson (New Earth)</td>\n",
       "      <td>Secret Identity</td>\n",
       "      <td>Good Characters</td>\n",
       "      <td>Blue Eyes</td>\n",
       "      <td>Black Hair</td>\n",
       "      <td>Male Characters</td>\n",
       "      <td>Living Characters</td>\n",
       "      <td>1237.0</td>\n",
       "      <td>1940, April</td>\n",
       "      <td>1940</td>\n",
       "      <td>April</td>\n",
       "    </tr>\n",
       "  </tbody>\n",
       "</table>\n",
       "</div>"
      ],
      "text/plain": [
       "                          name               ID            ALIGN         EYE  \\\n",
       "0         Batman (Bruce Wayne)  Secret Identity  Good Characters   Blue Eyes   \n",
       "1        Superman (Clark Kent)  Secret Identity  Good Characters   Blue Eyes   \n",
       "2   Green Lantern (Hal Jordan)  Secret Identity  Good Characters  Brown Eyes   \n",
       "3     James Gordon (New Earth)  Public Identity  Good Characters  Brown Eyes   \n",
       "4  Richard Grayson (New Earth)  Secret Identity  Good Characters   Blue Eyes   \n",
       "\n",
       "         HAIR              SEX              ALIVE  APPEARANCES  \\\n",
       "0  Black Hair  Male Characters  Living Characters       3093.0   \n",
       "1  Black Hair  Male Characters  Living Characters       2496.0   \n",
       "2  Brown Hair  Male Characters  Living Characters       1565.0   \n",
       "3  White Hair  Male Characters  Living Characters       1316.0   \n",
       "4  Black Hair  Male Characters  Living Characters       1237.0   \n",
       "\n",
       "  FIRST APPEARANCE  YEAR     MONTH  \n",
       "0        1939, May  1939       May  \n",
       "1    1986, October  1986   October  \n",
       "2    1959, October  1959   October  \n",
       "3   1987, February  1987  February  \n",
       "4      1940, April  1940     April  "
      ]
     },
     "execution_count": 13,
     "metadata": {},
     "output_type": "execute_result"
    }
   ],
   "source": [
    "my_data_dc.head()"
   ]
  },
  {
   "cell_type": "code",
   "execution_count": 14,
   "id": "ce1db2a4",
   "metadata": {
    "execution": {
     "iopub.execute_input": "2022-12-23T17:28:33.570359Z",
     "iopub.status.busy": "2022-12-23T17:28:33.569509Z",
     "iopub.status.idle": "2022-12-23T17:28:33.583335Z",
     "shell.execute_reply": "2022-12-23T17:28:33.582382Z"
    },
    "papermill": {
     "duration": 0.030112,
     "end_time": "2022-12-23T17:28:33.585972",
     "exception": false,
     "start_time": "2022-12-23T17:28:33.555860",
     "status": "completed"
    },
    "tags": []
   },
   "outputs": [],
   "source": [
    "my_data_marvel['YEAR'] = my_data_marvel.YEAR.apply(lambda x: '19' + x if int(x) > 20  else '20' + x)"
   ]
  },
  {
   "cell_type": "code",
   "execution_count": 15,
   "id": "79d33528",
   "metadata": {
    "execution": {
     "iopub.execute_input": "2022-12-23T17:28:33.612501Z",
     "iopub.status.busy": "2022-12-23T17:28:33.611673Z",
     "iopub.status.idle": "2022-12-23T17:28:33.624163Z",
     "shell.execute_reply": "2022-12-23T17:28:33.623125Z"
    },
    "papermill": {
     "duration": 0.028467,
     "end_time": "2022-12-23T17:28:33.626348",
     "exception": false,
     "start_time": "2022-12-23T17:28:33.597881",
     "status": "completed"
    },
    "tags": []
   },
   "outputs": [
    {
     "data": {
      "text/plain": [
       "1993    554\n",
       "1994    485\n",
       "1992    455\n",
       "2006    381\n",
       "2008    360\n",
       "Name: YEAR, dtype: int64"
      ]
     },
     "execution_count": 15,
     "metadata": {},
     "output_type": "execute_result"
    }
   ],
   "source": [
    "my_data_marvel['YEAR'].value_counts().head()"
   ]
  },
  {
   "cell_type": "code",
   "execution_count": 16,
   "id": "898bbd26",
   "metadata": {
    "execution": {
     "iopub.execute_input": "2022-12-23T17:28:33.652030Z",
     "iopub.status.busy": "2022-12-23T17:28:33.651628Z",
     "iopub.status.idle": "2022-12-23T17:28:33.671420Z",
     "shell.execute_reply": "2022-12-23T17:28:33.670254Z"
    },
    "papermill": {
     "duration": 0.035571,
     "end_time": "2022-12-23T17:28:33.674106",
     "exception": false,
     "start_time": "2022-12-23T17:28:33.638535",
     "status": "completed"
    },
    "tags": []
   },
   "outputs": [],
   "source": [
    "my_data_dc=my_data_dc.drop('FIRST APPEARANCE', axis=1)\n",
    "my_data_marvel=my_data_marvel.drop('FIRST APPEARANCE', axis=1)"
   ]
  },
  {
   "cell_type": "code",
   "execution_count": 17,
   "id": "bedcb626",
   "metadata": {
    "execution": {
     "iopub.execute_input": "2022-12-23T17:28:33.699683Z",
     "iopub.status.busy": "2022-12-23T17:28:33.699297Z",
     "iopub.status.idle": "2022-12-23T17:28:33.712057Z",
     "shell.execute_reply": "2022-12-23T17:28:33.710982Z"
    },
    "papermill": {
     "duration": 0.02854,
     "end_time": "2022-12-23T17:28:33.714620",
     "exception": false,
     "start_time": "2022-12-23T17:28:33.686080",
     "status": "completed"
    },
    "tags": []
   },
   "outputs": [],
   "source": [
    "my_data_dc[\"MONTH\"] = my_data_dc[\"MONTH\"].replace({\"January\": \"Jan\", \"February\": \"Feb\", \"March\": \"Mar\", \"April\": \"Apr\", \"June\": \"Jun\", \"July\": \"Jul\", \"August\": \"Aug\", \"September\": \"Sep\", \"October\": \"Oct\", \"November\": \"Nov\", \"December\": \"Dec\"})"
   ]
  },
  {
   "cell_type": "code",
   "execution_count": 18,
   "id": "59d278af",
   "metadata": {
    "execution": {
     "iopub.execute_input": "2022-12-23T17:28:33.751400Z",
     "iopub.status.busy": "2022-12-23T17:28:33.750195Z",
     "iopub.status.idle": "2022-12-23T17:28:33.758653Z",
     "shell.execute_reply": "2022-12-23T17:28:33.757690Z"
    },
    "papermill": {
     "duration": 0.032289,
     "end_time": "2022-12-23T17:28:33.761492",
     "exception": false,
     "start_time": "2022-12-23T17:28:33.729203",
     "status": "completed"
    },
    "tags": []
   },
   "outputs": [],
   "source": [
    "cols = ['name', 'ID', 'ALIGN', 'EYE', 'HAIR', 'SEX', 'ALIVE', 'APPEARANCES', 'MONTH', 'YEAR']\n",
    "my_data_dc = my_data_dc[cols]"
   ]
  },
  {
   "cell_type": "code",
   "execution_count": 19,
   "id": "6c5c6519",
   "metadata": {
    "execution": {
     "iopub.execute_input": "2022-12-23T17:28:33.796424Z",
     "iopub.status.busy": "2022-12-23T17:28:33.796026Z",
     "iopub.status.idle": "2022-12-23T17:28:33.814432Z",
     "shell.execute_reply": "2022-12-23T17:28:33.813273Z"
    },
    "papermill": {
     "duration": 0.039767,
     "end_time": "2022-12-23T17:28:33.818060",
     "exception": false,
     "start_time": "2022-12-23T17:28:33.778293",
     "status": "completed"
    },
    "tags": []
   },
   "outputs": [],
   "source": [
    "my_data_marvel[\"SEX\"] = my_data_marvel[\"SEX\"].replace({\"Male Characters\": \"Male\", \"Female Characters\": \"Female\", \"Agender Characters\": \"Agender\", \"Genderless Characters\": \"Genderless\", \"Genderfluid Characters\": \"Genderfluid\", \"Transgender Characters\": \"Transgender\"})\n",
    "my_data_dc[\"SEX\"] = my_data_dc[\"SEX\"].replace({\"Male Characters\": \"Male\", \"Female Characters\": \"Female\", \"Agender Characters\": \"Agender\", \"Genderless Characters\": \"Genderless\", \"Genderfluid Characters\": \"Genderfluid\", \"Transgender Characters\": \"Transgender\"})"
   ]
  },
  {
   "cell_type": "code",
   "execution_count": 20,
   "id": "5dc1659a",
   "metadata": {
    "execution": {
     "iopub.execute_input": "2022-12-23T17:28:33.845042Z",
     "iopub.status.busy": "2022-12-23T17:28:33.844270Z",
     "iopub.status.idle": "2022-12-23T17:28:33.855026Z",
     "shell.execute_reply": "2022-12-23T17:28:33.854187Z"
    },
    "papermill": {
     "duration": 0.027408,
     "end_time": "2022-12-23T17:28:33.858033",
     "exception": false,
     "start_time": "2022-12-23T17:28:33.830625",
     "status": "completed"
    },
    "tags": []
   },
   "outputs": [],
   "source": [
    "my_data_marvel['ALIVE'] = ['Living' if x == 'Living Characters' else 'Deceased' for x in my_data_marvel['ALIVE']]\n",
    "my_data_dc['ALIVE'] = ['Living' if x == 'Living Characters' else 'Deceased' for x in my_data_dc['ALIVE']]"
   ]
  },
  {
   "cell_type": "code",
   "execution_count": 21,
   "id": "789a0696",
   "metadata": {
    "execution": {
     "iopub.execute_input": "2022-12-23T17:28:33.883952Z",
     "iopub.status.busy": "2022-12-23T17:28:33.883328Z",
     "iopub.status.idle": "2022-12-23T17:28:33.903328Z",
     "shell.execute_reply": "2022-12-23T17:28:33.902192Z"
    },
    "papermill": {
     "duration": 0.035885,
     "end_time": "2022-12-23T17:28:33.905995",
     "exception": false,
     "start_time": "2022-12-23T17:28:33.870110",
     "status": "completed"
    },
    "tags": []
   },
   "outputs": [],
   "source": [
    "my_data_marvel[\"ID\"] = my_data_marvel[\"ID\"].replace({\"Secret Identity\": \"Secret\", \"Public Identity\": \"Public\", \"No Dual Identity\": \"No Dual\", \"Known to Authorities Identity\": \"Known to Authorities\", \"Identity Unknown\": \"Unknown\"})\n",
    "my_data_dc[\"ID\"] = my_data_dc[\"ID\"].replace({\"Secret Identity\": \"Secret\", \"Public Identity\": \"Public\", \"No Dual Identity\": \"No Dual\", \"Known to Authorities Identity\": \"Known to Authorities\", \"Identity Unknown\": \"Unknown\"})\n",
    "my_data_marvel[\"ALIGN\"] = my_data_marvel[\"ALIGN\"].replace({\"Bad Characters\": \"Bad\", \"Good Characters\": \"Good\", \"Neutral Characters\": \"Neutral\"})\n",
    "my_data_dc[\"ALIGN\"] = my_data_dc[\"ALIGN\"].replace({\"Bad Characters\": \"Bad\", \"Good Characters\": \"Good\", \"Neutral Characters\": \"Neutral\"})"
   ]
  },
  {
   "cell_type": "code",
   "execution_count": 22,
   "id": "d5079cca",
   "metadata": {
    "execution": {
     "iopub.execute_input": "2022-12-23T17:28:33.932447Z",
     "iopub.status.busy": "2022-12-23T17:28:33.931246Z",
     "iopub.status.idle": "2022-12-23T17:28:33.948374Z",
     "shell.execute_reply": "2022-12-23T17:28:33.947344Z"
    },
    "papermill": {
     "duration": 0.03307,
     "end_time": "2022-12-23T17:28:33.951030",
     "exception": false,
     "start_time": "2022-12-23T17:28:33.917960",
     "status": "completed"
    },
    "tags": []
   },
   "outputs": [
    {
     "data": {
      "text/html": [
       "<div>\n",
       "<style scoped>\n",
       "    .dataframe tbody tr th:only-of-type {\n",
       "        vertical-align: middle;\n",
       "    }\n",
       "\n",
       "    .dataframe tbody tr th {\n",
       "        vertical-align: top;\n",
       "    }\n",
       "\n",
       "    .dataframe thead th {\n",
       "        text-align: right;\n",
       "    }\n",
       "</style>\n",
       "<table border=\"1\" class=\"dataframe\">\n",
       "  <thead>\n",
       "    <tr style=\"text-align: right;\">\n",
       "      <th></th>\n",
       "      <th>name</th>\n",
       "      <th>ID</th>\n",
       "      <th>ALIGN</th>\n",
       "      <th>EYE</th>\n",
       "      <th>HAIR</th>\n",
       "      <th>SEX</th>\n",
       "      <th>ALIVE</th>\n",
       "      <th>APPEARANCES</th>\n",
       "      <th>MONTH</th>\n",
       "      <th>YEAR</th>\n",
       "    </tr>\n",
       "  </thead>\n",
       "  <tbody>\n",
       "    <tr>\n",
       "      <th>0</th>\n",
       "      <td>Batman (Bruce Wayne)</td>\n",
       "      <td>Secret</td>\n",
       "      <td>Good</td>\n",
       "      <td>Blue Eyes</td>\n",
       "      <td>Black Hair</td>\n",
       "      <td>Male</td>\n",
       "      <td>Living</td>\n",
       "      <td>3093.0</td>\n",
       "      <td>May</td>\n",
       "      <td>1939</td>\n",
       "    </tr>\n",
       "    <tr>\n",
       "      <th>1</th>\n",
       "      <td>Superman (Clark Kent)</td>\n",
       "      <td>Secret</td>\n",
       "      <td>Good</td>\n",
       "      <td>Blue Eyes</td>\n",
       "      <td>Black Hair</td>\n",
       "      <td>Male</td>\n",
       "      <td>Living</td>\n",
       "      <td>2496.0</td>\n",
       "      <td>Oct</td>\n",
       "      <td>1986</td>\n",
       "    </tr>\n",
       "    <tr>\n",
       "      <th>2</th>\n",
       "      <td>Green Lantern (Hal Jordan)</td>\n",
       "      <td>Secret</td>\n",
       "      <td>Good</td>\n",
       "      <td>Brown Eyes</td>\n",
       "      <td>Brown Hair</td>\n",
       "      <td>Male</td>\n",
       "      <td>Living</td>\n",
       "      <td>1565.0</td>\n",
       "      <td>Oct</td>\n",
       "      <td>1959</td>\n",
       "    </tr>\n",
       "    <tr>\n",
       "      <th>3</th>\n",
       "      <td>James Gordon (New Earth)</td>\n",
       "      <td>Public</td>\n",
       "      <td>Good</td>\n",
       "      <td>Brown Eyes</td>\n",
       "      <td>White Hair</td>\n",
       "      <td>Male</td>\n",
       "      <td>Living</td>\n",
       "      <td>1316.0</td>\n",
       "      <td>Feb</td>\n",
       "      <td>1987</td>\n",
       "    </tr>\n",
       "    <tr>\n",
       "      <th>4</th>\n",
       "      <td>Richard Grayson (New Earth)</td>\n",
       "      <td>Secret</td>\n",
       "      <td>Good</td>\n",
       "      <td>Blue Eyes</td>\n",
       "      <td>Black Hair</td>\n",
       "      <td>Male</td>\n",
       "      <td>Living</td>\n",
       "      <td>1237.0</td>\n",
       "      <td>Apr</td>\n",
       "      <td>1940</td>\n",
       "    </tr>\n",
       "  </tbody>\n",
       "</table>\n",
       "</div>"
      ],
      "text/plain": [
       "                          name      ID ALIGN         EYE        HAIR   SEX  \\\n",
       "0         Batman (Bruce Wayne)  Secret  Good   Blue Eyes  Black Hair  Male   \n",
       "1        Superman (Clark Kent)  Secret  Good   Blue Eyes  Black Hair  Male   \n",
       "2   Green Lantern (Hal Jordan)  Secret  Good  Brown Eyes  Brown Hair  Male   \n",
       "3     James Gordon (New Earth)  Public  Good  Brown Eyes  White Hair  Male   \n",
       "4  Richard Grayson (New Earth)  Secret  Good   Blue Eyes  Black Hair  Male   \n",
       "\n",
       "    ALIVE  APPEARANCES MONTH  YEAR  \n",
       "0  Living       3093.0   May  1939  \n",
       "1  Living       2496.0   Oct  1986  \n",
       "2  Living       1565.0   Oct  1959  \n",
       "3  Living       1316.0   Feb  1987  \n",
       "4  Living       1237.0   Apr  1940  "
      ]
     },
     "execution_count": 22,
     "metadata": {},
     "output_type": "execute_result"
    }
   ],
   "source": [
    "my_data_dc.head()"
   ]
  },
  {
   "cell_type": "code",
   "execution_count": 23,
   "id": "b4b0c6a2",
   "metadata": {
    "execution": {
     "iopub.execute_input": "2022-12-23T17:28:33.977271Z",
     "iopub.status.busy": "2022-12-23T17:28:33.976861Z",
     "iopub.status.idle": "2022-12-23T17:28:33.995703Z",
     "shell.execute_reply": "2022-12-23T17:28:33.994635Z"
    },
    "papermill": {
     "duration": 0.034685,
     "end_time": "2022-12-23T17:28:33.998209",
     "exception": false,
     "start_time": "2022-12-23T17:28:33.963524",
     "status": "completed"
    },
    "tags": []
   },
   "outputs": [
    {
     "data": {
      "text/html": [
       "<div>\n",
       "<style scoped>\n",
       "    .dataframe tbody tr th:only-of-type {\n",
       "        vertical-align: middle;\n",
       "    }\n",
       "\n",
       "    .dataframe tbody tr th {\n",
       "        vertical-align: top;\n",
       "    }\n",
       "\n",
       "    .dataframe thead th {\n",
       "        text-align: right;\n",
       "    }\n",
       "</style>\n",
       "<table border=\"1\" class=\"dataframe\">\n",
       "  <thead>\n",
       "    <tr style=\"text-align: right;\">\n",
       "      <th></th>\n",
       "      <th>page_id</th>\n",
       "      <th>name</th>\n",
       "      <th>urlslug</th>\n",
       "      <th>ID</th>\n",
       "      <th>ALIGN</th>\n",
       "      <th>EYE</th>\n",
       "      <th>HAIR</th>\n",
       "      <th>SEX</th>\n",
       "      <th>GSM</th>\n",
       "      <th>ALIVE</th>\n",
       "      <th>APPEARANCES</th>\n",
       "      <th>MONTH</th>\n",
       "      <th>YEAR</th>\n",
       "    </tr>\n",
       "  </thead>\n",
       "  <tbody>\n",
       "    <tr>\n",
       "      <th>0</th>\n",
       "      <td>1678</td>\n",
       "      <td>Spider-Man (Peter Parker)</td>\n",
       "      <td>\\/Spider-Man_(Peter_Parker)</td>\n",
       "      <td>Secret</td>\n",
       "      <td>Good</td>\n",
       "      <td>Hazel Eyes</td>\n",
       "      <td>Brown Hair</td>\n",
       "      <td>Male</td>\n",
       "      <td>NaN</td>\n",
       "      <td>Living</td>\n",
       "      <td>4043.0</td>\n",
       "      <td>Aug</td>\n",
       "      <td>1962</td>\n",
       "    </tr>\n",
       "    <tr>\n",
       "      <th>1</th>\n",
       "      <td>7139</td>\n",
       "      <td>Captain America (Steven Rogers)</td>\n",
       "      <td>\\/Captain_America_(Steven_Rogers)</td>\n",
       "      <td>Public</td>\n",
       "      <td>Good</td>\n",
       "      <td>Blue Eyes</td>\n",
       "      <td>White Hair</td>\n",
       "      <td>Male</td>\n",
       "      <td>NaN</td>\n",
       "      <td>Living</td>\n",
       "      <td>3360.0</td>\n",
       "      <td>Mar</td>\n",
       "      <td>1941</td>\n",
       "    </tr>\n",
       "    <tr>\n",
       "      <th>2</th>\n",
       "      <td>64786</td>\n",
       "      <td>Wolverine (James \\\"Logan\\\" Howlett)</td>\n",
       "      <td>\\/Wolverine_(James_%22Logan%22_Howlett)</td>\n",
       "      <td>Public</td>\n",
       "      <td>Neutral</td>\n",
       "      <td>Blue Eyes</td>\n",
       "      <td>Black Hair</td>\n",
       "      <td>Male</td>\n",
       "      <td>NaN</td>\n",
       "      <td>Living</td>\n",
       "      <td>3061.0</td>\n",
       "      <td>Oct</td>\n",
       "      <td>1974</td>\n",
       "    </tr>\n",
       "    <tr>\n",
       "      <th>3</th>\n",
       "      <td>1868</td>\n",
       "      <td>Iron Man (Anthony \\\"Tony\\\" Stark)</td>\n",
       "      <td>\\/Iron_Man_(Anthony_%22Tony%22_Stark)</td>\n",
       "      <td>Public</td>\n",
       "      <td>Good</td>\n",
       "      <td>Blue Eyes</td>\n",
       "      <td>Black Hair</td>\n",
       "      <td>Male</td>\n",
       "      <td>NaN</td>\n",
       "      <td>Living</td>\n",
       "      <td>2961.0</td>\n",
       "      <td>Mar</td>\n",
       "      <td>1963</td>\n",
       "    </tr>\n",
       "    <tr>\n",
       "      <th>4</th>\n",
       "      <td>2460</td>\n",
       "      <td>Thor (Thor Odinson)</td>\n",
       "      <td>\\/Thor_(Thor_Odinson)</td>\n",
       "      <td>No Dual</td>\n",
       "      <td>Good</td>\n",
       "      <td>Blue Eyes</td>\n",
       "      <td>Blond Hair</td>\n",
       "      <td>Male</td>\n",
       "      <td>NaN</td>\n",
       "      <td>Living</td>\n",
       "      <td>2258.0</td>\n",
       "      <td>Nov</td>\n",
       "      <td>1950</td>\n",
       "    </tr>\n",
       "  </tbody>\n",
       "</table>\n",
       "</div>"
      ],
      "text/plain": [
       "   page_id                                 name  \\\n",
       "0     1678            Spider-Man (Peter Parker)   \n",
       "1     7139      Captain America (Steven Rogers)   \n",
       "2    64786  Wolverine (James \\\"Logan\\\" Howlett)   \n",
       "3     1868    Iron Man (Anthony \\\"Tony\\\" Stark)   \n",
       "4     2460                  Thor (Thor Odinson)   \n",
       "\n",
       "                                   urlslug       ID    ALIGN         EYE  \\\n",
       "0              \\/Spider-Man_(Peter_Parker)   Secret     Good  Hazel Eyes   \n",
       "1        \\/Captain_America_(Steven_Rogers)   Public     Good   Blue Eyes   \n",
       "2  \\/Wolverine_(James_%22Logan%22_Howlett)   Public  Neutral   Blue Eyes   \n",
       "3    \\/Iron_Man_(Anthony_%22Tony%22_Stark)   Public     Good   Blue Eyes   \n",
       "4                    \\/Thor_(Thor_Odinson)  No Dual     Good   Blue Eyes   \n",
       "\n",
       "         HAIR   SEX  GSM   ALIVE  APPEARANCES MONTH  YEAR  \n",
       "0  Brown Hair  Male  NaN  Living       4043.0   Aug  1962  \n",
       "1  White Hair  Male  NaN  Living       3360.0   Mar  1941  \n",
       "2  Black Hair  Male  NaN  Living       3061.0   Oct  1974  \n",
       "3  Black Hair  Male  NaN  Living       2961.0   Mar  1963  \n",
       "4  Blond Hair  Male  NaN  Living       2258.0   Nov  1950  "
      ]
     },
     "execution_count": 23,
     "metadata": {},
     "output_type": "execute_result"
    }
   ],
   "source": [
    "my_data_marvel.head()"
   ]
  },
  {
   "cell_type": "markdown",
   "id": "102ff2d4",
   "metadata": {
    "papermill": {
     "duration": 0.012115,
     "end_time": "2022-12-23T17:28:34.023215",
     "exception": false,
     "start_time": "2022-12-23T17:28:34.011100",
     "status": "completed"
    },
    "tags": []
   },
   "source": [
    "$$\\small \\text{Super Hero and Super villain}$$"
   ]
  },
  {
   "cell_type": "code",
   "execution_count": 24,
   "id": "0d8827cb",
   "metadata": {
    "execution": {
     "iopub.execute_input": "2022-12-23T17:28:34.050482Z",
     "iopub.status.busy": "2022-12-23T17:28:34.049485Z",
     "iopub.status.idle": "2022-12-23T17:28:34.362494Z",
     "shell.execute_reply": "2022-12-23T17:28:34.361252Z"
    },
    "papermill": {
     "duration": 0.329421,
     "end_time": "2022-12-23T17:28:34.364989",
     "exception": false,
     "start_time": "2022-12-23T17:28:34.035568",
     "status": "completed"
    },
    "tags": []
   },
   "outputs": [
    {
     "data": {
      "image/png": "[encoded data removed]",
      "text/plain": [
       "<Figure size 432x288 with 2 Axes>"
      ]
     },
     "metadata": {
      "needs_background": "light"
     },
     "output_type": "display_data"
    }
   ],
   "source": [
    "import matplotlib.pyplot as plt\n",
    "plt.subplot(1, 2, 1) #this line simply enables both graphs to appear in the same cell\n",
    "my_data_marvel['ALIGN'].value_counts(normalize=True).plot(kind='bar',title='Marvel Character Alignment')\n",
    "plt.subplot(1, 2, 2)\n",
    "my_data_dc['ALIGN'].value_counts(normalize=True).plot(kind='bar',title='DC Character Alignment',color='green')\n",
    "plt.show()"
   ]
  },
  {
   "cell_type": "code",
   "execution_count": 25,
   "id": "82ba4e58",
   "metadata": {
    "execution": {
     "iopub.execute_input": "2022-12-23T17:28:34.392627Z",
     "iopub.status.busy": "2022-12-23T17:28:34.392187Z",
     "iopub.status.idle": "2022-12-23T17:28:34.401766Z",
     "shell.execute_reply": "2022-12-23T17:28:34.400841Z"
    },
    "papermill": {
     "duration": 0.026178,
     "end_time": "2022-12-23T17:28:34.404140",
     "exception": false,
     "start_time": "2022-12-23T17:28:34.377962",
     "status": "completed"
    },
    "tags": []
   },
   "outputs": [],
   "source": [
    "my_data_marvel['HAIR'] = my_data_marvel['HAIR'].replace({\"No Hair\": \"Bald\"})\n",
    "my_data_dc['HAIR'] = my_data_dc['HAIR'].replace({\"No Hair\": \"Bald\"})"
   ]
  },
  {
   "cell_type": "code",
   "execution_count": 26,
   "id": "66b77dd3",
   "metadata": {
    "execution": {
     "iopub.execute_input": "2022-12-23T17:28:34.432335Z",
     "iopub.status.busy": "2022-12-23T17:28:34.431202Z",
     "iopub.status.idle": "2022-12-23T17:28:34.441367Z",
     "shell.execute_reply": "2022-12-23T17:28:34.440400Z"
    },
    "papermill": {
     "duration": 0.026995,
     "end_time": "2022-12-23T17:28:34.443854",
     "exception": false,
     "start_time": "2022-12-23T17:28:34.416859",
     "status": "completed"
    },
    "tags": []
   },
   "outputs": [],
   "source": [
    "my_data_marvel_villain = my_data_marvel[my_data_marvel['ALIGN']=='Bad']\n",
    "my_data_dc_villain = my_data_dc[my_data_dc['ALIGN']=='Bad']"
   ]
  },
  {
   "cell_type": "code",
   "execution_count": 27,
   "id": "26723308",
   "metadata": {
    "execution": {
     "iopub.execute_input": "2022-12-23T17:28:34.471915Z",
     "iopub.status.busy": "2022-12-23T17:28:34.470780Z",
     "iopub.status.idle": "2022-12-23T17:28:34.813981Z",
     "shell.execute_reply": "2022-12-23T17:28:34.812614Z"
    },
    "papermill": {
     "duration": 0.360279,
     "end_time": "2022-12-23T17:28:34.816808",
     "exception": false,
     "start_time": "2022-12-23T17:28:34.456529",
     "status": "completed"
    },
    "tags": []
   },
   "outputs": [
    {
     "data": {
      "text/plain": [
       "<bound method Figure.tight_layout of <Figure size 432x288 with 2 Axes>>"
      ]
     },
     "execution_count": 27,
     "metadata": {},
     "output_type": "execute_result"
    },
    {
     "data": {
      "image/png": "[encoded data removed]",
      "text/plain": [
       "<Figure size 432x288 with 2 Axes>"
      ]
     },
     "metadata": {
      "needs_background": "light"
     },
     "output_type": "display_data"
    }
   ],
   "source": [
    "fig, ax = plt.subplots(1, 2)\n",
    "plt.subplot(1, 2, 1)\n",
    "my_data_marvel_villain['HAIR'].value_counts(normalize=True).head(5).plot(kind='bar',title=\"Marvel Villains' hair\")\n",
    "plt.subplot(1, 2, 2)\n",
    "my_data_dc_villain['HAIR'].value_counts(normalize=True).head(5).plot(kind='bar',title=\"DC Villains' hair\",color='green')\n",
    "fig.tight_layout"
   ]
  },
  {
   "cell_type": "code",
   "execution_count": 28,
   "id": "38c5c8d7",
   "metadata": {
    "execution": {
     "iopub.execute_input": "2022-12-23T17:28:34.845962Z",
     "iopub.status.busy": "2022-12-23T17:28:34.845526Z",
     "iopub.status.idle": "2022-12-23T17:28:35.157243Z",
     "shell.execute_reply": "2022-12-23T17:28:35.156012Z"
    },
    "papermill": {
     "duration": 0.329219,
     "end_time": "2022-12-23T17:28:35.159855",
     "exception": false,
     "start_time": "2022-12-23T17:28:34.830636",
     "status": "completed"
    },
    "tags": []
   },
   "outputs": [
    {
     "data": {
      "image/png": "[encoded data removed]",
      "text/plain": [
       "<Figure size 432x288 with 1 Axes>"
      ]
     },
     "metadata": {
      "needs_background": "light"
     },
     "output_type": "display_data"
    }
   ],
   "source": [
    "my_data_dc['HAIR'].value_counts(normalize=True).plot(kind='barh',title=\"DC Characters' Hair\");"
   ]
  },
  {
   "cell_type": "code",
   "execution_count": 29,
   "id": "6644a01a",
   "metadata": {
    "execution": {
     "iopub.execute_input": "2022-12-23T17:28:35.188381Z",
     "iopub.status.busy": "2022-12-23T17:28:35.187953Z",
     "iopub.status.idle": "2022-12-23T17:28:35.535372Z",
     "shell.execute_reply": "2022-12-23T17:28:35.534102Z"
    },
    "papermill": {
     "duration": 0.364873,
     "end_time": "2022-12-23T17:28:35.538068",
     "exception": false,
     "start_time": "2022-12-23T17:28:35.173195",
     "status": "completed"
    },
    "tags": []
   },
   "outputs": [
    {
     "data": {
      "image/png": "[encoded data removed]",
      "text/plain": [
       "<Figure size 432x288 with 1 Axes>"
      ]
     },
     "metadata": {
      "needs_background": "light"
     },
     "output_type": "display_data"
    }
   ],
   "source": [
    "my_data_marvel_hero = my_data_marvel[my_data_marvel['ALIGN']=='Good']\n",
    "my_data_marvel_hero['HAIR'].value_counts(normalize=True).plot(kind='barh',title=\"Marvel Characters' Hair\");"
   ]
  },
  {
   "cell_type": "code",
   "execution_count": 30,
   "id": "cdae80da",
   "metadata": {
    "execution": {
     "iopub.execute_input": "2022-12-23T17:28:35.567968Z",
     "iopub.status.busy": "2022-12-23T17:28:35.567557Z",
     "iopub.status.idle": "2022-12-23T17:28:36.116202Z",
     "shell.execute_reply": "2022-12-23T17:28:36.114936Z"
    },
    "papermill": {
     "duration": 0.566528,
     "end_time": "2022-12-23T17:28:36.118820",
     "exception": false,
     "start_time": "2022-12-23T17:28:35.552292",
     "status": "completed"
    },
    "tags": []
   },
   "outputs": [
    {
     "data": {
      "image/png": "[encoded data removed]",
      "text/plain": [
       "<Figure size 432x288 with 4 Axes>"
      ]
     },
     "metadata": {
      "needs_background": "light"
     },
     "output_type": "display_data"
    }
   ],
   "source": [
    "my_data_dc_hero = my_data_dc[my_data_dc['ALIGN']=='Good']\n",
    "fig, ax = plt.subplots(2, 2)\n",
    "plt.subplot(2, 2, 1)\n",
    "my_data_marvel_villain['EYE'].value_counts(normalize=True).head(5).plot(kind='bar',title=\"Marvel Villains' Eyes\")\n",
    "plt.subplot(2, 2, 2)\n",
    "my_data_dc_villain['EYE'].value_counts(normalize=True).head(5).plot(kind='bar',title=\"DC Villains' Eyes\",color='green')\n",
    "plt.subplot(2, 2, 3)\n",
    "my_data_marvel_hero['EYE'].value_counts(normalize=True).head(5).plot(kind='bar',title=\"Marvel Heroes' Eyes\")\n",
    "plt.subplot(2, 2, 4)\n",
    "my_data_dc_hero['EYE'].value_counts(normalize=True).head(5).plot(kind='bar',title=\"DC Heroes' Eyes\",color='green')\n",
    "fig.tight_layout()\n",
    "plt.show()"
   ]
  },
  {
   "cell_type": "code",
   "execution_count": 31,
   "id": "578ddbfe",
   "metadata": {
    "execution": {
     "iopub.execute_input": "2022-12-23T17:28:36.148950Z",
     "iopub.status.busy": "2022-12-23T17:28:36.148568Z",
     "iopub.status.idle": "2022-12-23T17:28:36.761825Z",
     "shell.execute_reply": "2022-12-23T17:28:36.760692Z"
    },
    "papermill": {
     "duration": 0.631196,
     "end_time": "2022-12-23T17:28:36.764512",
     "exception": false,
     "start_time": "2022-12-23T17:28:36.133316",
     "status": "completed"
    },
    "tags": []
   },
   "outputs": [
    {
     "data": {
      "image/png": "[encoded data removed]",
      "text/plain": [
       "<Figure size 432x288 with 2 Axes>"
      ]
     },
     "metadata": {
      "needs_background": "light"
     },
     "output_type": "display_data"
    }
   ],
   "source": [
    "fig,ax = plt.subplots(1, 2)\n",
    "plt.subplot(1, 2, 1)\n",
    "my_data_marvel['MONTH'].value_counts().plot(kind='barh',title='Marvel Character First Appearance')\n",
    "plt.subplot(1, 2, 2)\n",
    "my_data_dc['MONTH'].value_counts().plot(kind='barh',title='DC Character First Appearance',color='green');\n",
    "fig.tight_layout()"
   ]
  },
  {
   "cell_type": "code",
   "execution_count": 32,
   "id": "b16731a6",
   "metadata": {
    "execution": {
     "iopub.execute_input": "2022-12-23T17:28:36.796931Z",
     "iopub.status.busy": "2022-12-23T17:28:36.796556Z",
     "iopub.status.idle": "2022-12-23T17:28:38.137052Z",
     "shell.execute_reply": "2022-12-23T17:28:38.135819Z"
    },
    "papermill": {
     "duration": 1.360488,
     "end_time": "2022-12-23T17:28:38.139531",
     "exception": false,
     "start_time": "2022-12-23T17:28:36.779043",
     "status": "completed"
    },
    "tags": []
   },
   "outputs": [
    {
     "data": {
      "image/png": "[encoded data removed]",
      "text/plain": [
       "<Figure size 1080x360 with 1 Axes>"
      ]
     },
     "metadata": {
      "needs_background": "light"
     },
     "output_type": "display_data"
    }
   ],
   "source": [
    "m = my_data_marvel.groupby('YEAR')\n",
    "plt.rcParams['figure.figsize'] = [15, 5]\n",
    "m['YEAR'].value_counts(sort=False).plot(kind='bar',title='Marvel First Appearances by Year');"
   ]
  },
  {
   "cell_type": "code",
   "execution_count": 33,
   "id": "7b05ec1b",
   "metadata": {
    "execution": {
     "iopub.execute_input": "2022-12-23T17:28:38.171645Z",
     "iopub.status.busy": "2022-12-23T17:28:38.171254Z",
     "iopub.status.idle": "2022-12-23T17:28:39.513717Z",
     "shell.execute_reply": "2022-12-23T17:28:39.512824Z"
    },
    "papermill": {
     "duration": 1.361221,
     "end_time": "2022-12-23T17:28:39.516090",
     "exception": false,
     "start_time": "2022-12-23T17:28:38.154869",
     "status": "completed"
    },
    "tags": []
   },
   "outputs": [
    {
     "data": {
      "text/plain": [
       "<AxesSubplot:title={'center':'DC First Appearances by Year'}, xlabel='YEAR,YEAR'>"
      ]
     },
     "execution_count": 33,
     "metadata": {},
     "output_type": "execute_result"
    },
    {
     "data": {
      "image/png": "[encoded data removed]",
      "text/plain": [
       "<Figure size 1080x360 with 1 Axes>"
      ]
     },
     "metadata": {
      "needs_background": "light"
     },
     "output_type": "display_data"
    }
   ],
   "source": [
    "d = my_data_marvel.groupby('YEAR')\n",
    "plt.rcParams['figure.figsize'] = [15, 5]\n",
    "m['YEAR'].value_counts(sort=False).plot(kind='bar',title='DC First Appearances by Year')"
   ]
  },
  {
   "cell_type": "markdown",
   "id": "1bbc5bb2",
   "metadata": {
    "papermill": {
     "duration": 0.014623,
     "end_time": "2022-12-23T17:28:39.545643",
     "exception": false,
     "start_time": "2022-12-23T17:28:39.531020",
     "status": "completed"
    },
    "tags": []
   },
   "source": [
    "$$\\small \\text{we conclude by the data analysis}$$"
   ]
  },
  {
   "cell_type": "code",
   "execution_count": null,
   "id": "1f380fed",
   "metadata": {
    "papermill": {
     "duration": 0.01467,
     "end_time": "2022-12-23T17:28:39.575107",
     "exception": false,
     "start_time": "2022-12-23T17:28:39.560437",
     "status": "completed"
    },
    "tags": []
   },
   "outputs": [],
   "source": []
  },
  {
   "cell_type": "markdown",
   "id": "0d904da9",
   "metadata": {
    "papermill": {
     "duration": 0.014724,
     "end_time": "2022-12-23T17:28:39.604970",
     "exception": false,
     "start_time": "2022-12-23T17:28:39.590246",
     "status": "completed"
    },
    "tags": []
   },
   "source": [
    "---\n",
    "\n",
    "\n",
    "\n",
    "\n",
    "*Have questions or comments? Visit the [course discussion forum](https://www.kaggle.com/learn/data-visualization/discussion) to chat with other learners.*"
   ]
  }
 ],
 "metadata": {
  "kernelspec": {
   "display_name": "Python 3",
   "language": "python",
   "name": "python3"
  },
  "language_info": {
   "codemirror_mode": {
    "name": "ipython",
    "version": 3
   },
   "file_extension": ".py",
   "mimetype": "text/x-python",
   "name": "python",
   "nbconvert_exporter": "python",
   "pygments_lexer": "ipython3",
   "version": "3.7.12"
  },
  "papermill": {
   "default_parameters": {},
   "duration": 17.684605,
   "end_time": "2022-12-23T17:28:40.342989",
   "environment_variables": {},
   "exception": null,
   "input_path": "__notebook__.ipynb",
   "output_path": "__notebook__.ipynb",
   "parameters": {},
   "start_time": "2022-12-23T17:28:22.658384",
   "version": "2.3.4"
  }
 },
 "nbformat": 4,
 "nbformat_minor": 5
}
